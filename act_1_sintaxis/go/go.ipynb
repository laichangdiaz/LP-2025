{
 "cells": [
  {
   "cell_type": "markdown",
   "metadata": {},
   "source": [
    "Asignación Grupal - Lenguaje de Programacion  \n",
    "Universidad José Antonio Páez "
   ]
  },
  {
   "cell_type": "markdown",
   "metadata": {},
   "source": [
    "### Integrantes <hr>\n",
    "Jose Santana 31.608.829 <br>\n",
    "Lai Chang 30.335.078 <br>\n",
    "Juan Wu 30.391.117 <br>\n",
    "Cesar Dominguez 30.648.830 <br>\n",
    "Alejandro Chavez 32.278.392 <br>"
   ]
  },
  {
   "cell_type": "markdown",
   "metadata": {},
   "source": [
    "# Principios básicos de **GO**"
   ]
  },
  {
   "cell_type": "markdown",
   "metadata": {},
   "source": [
    "---"
   ]
  },
  {
   "cell_type": "markdown",
   "metadata": {},
   "source": [
    "## **¿Qué es GO?**"
   ]
  },
  {
   "cell_type": "markdown",
   "metadata": {},
   "source": [
    "Go es un lenguaje de programación compilado y de código abierto, lo que significa que su código fuente se compila para generar código máquina, permitiendo así que otros usuarios desarrollen programas y bibliotecas. En otras palabras, Go es un proyecto de código abierto. Además, su sintaxis es similar a la de C, lo que lo hace conciso y eficiente."
   ]
  },
  {
   "cell_type": "markdown",
   "metadata": {},
   "source": [
    "---"
   ]
  },
  {
   "cell_type": "markdown",
   "metadata": {},
   "source": [
    "#### **Variables y tipos de datos**"
   ]
  },
  {
   "cell_type": "markdown",
   "metadata": {},
   "source": [
    "#### Existe 3 maneras comunes para declarar variables: "
   ]
  },
  {
   "cell_type": "code",
   "execution_count": null,
   "metadata": {
    "vscode": {
     "languageId": "go"
    }
   },
   "outputs": [],
   "source": [
    "package main\n",
    "\n",
    "import \"fmt\"\n",
    "\n",
    "func main() {\n",
    "    // Declaracion con var:\n",
    "    var numero int\n",
    "\n",
    "    // Declaracion corta:\n",
    "    numero1 := 10\n",
    "    \n",
    "    // Declaracion de Tipos Compuestos, tambien puede denominar como Structs\n",
    "    type Inf_personal struct {\n",
    "\t\tNombre string\n",
    "\t\tEdad   int\n",
    "\t}\n",
    "\n",
    "    var persona Inf_personal = Inf_personal{Nombre: \"Juken\", Edad: 25}\n",
    "\n",
    "    fmt.Println(numero, numero1, persona) // Imprime los valores de las variables\n",
    "}"
   ]
  },
  {
   "cell_type": "markdown",
   "metadata": {},
   "source": [
    "0 10 {Juken 25}"
   ]
  },
  {
   "cell_type": "markdown",
   "metadata": {},
   "source": [
    "En estos codigos proporcionados por arriba, para entender mejor como está funcionando la sintaxis codigo su estructura en Go, hay que saber:  \n",
    "- Al principio colocar **package main**, es porque esta línea indica que el archivo pertenece al paquete main, que es un paquete especial en Go. Su función es que para el paquete main es esencial porque define el punto de entrada para un programa ejecutable. Cuando se compila y ejecuta el código, el compilador busca la función main dentro del paquete main para comenzar la ejecución del programa.\n",
    "- **import \"fmt\"**: El paquete fmt proporciona funciones para formatear y imprimir texto en la consola, así como para realizar otras operaciones de entrada/salida. Por ejemplo, se utiliza comúnmente para imprimir mensajes en la consola con fmt.Println().\n",
    "- **func main() {...}**: en esta línea define la función principal del programa, denominada main. Su función es para decir a la programa que va comienza la ejecución. Dentro de esta función, puedes colocar el código que deseas que se ejecute al iniciar el programa."
   ]
  },
  {
   "cell_type": "markdown",
   "metadata": {},
   "source": [
    "Y para el caso de tipo de datos, los más comunes son los siguientes:"
   ]
  },
  {
   "cell_type": "code",
   "execution_count": null,
   "metadata": {
    "vscode": {
     "languageId": "go"
    }
   },
   "outputs": [],
   "source": [
    "package main\n",
    "\n",
    "import \"fmt\"\n",
    "\n",
    "func main() {\n",
    "    // Numero Entero (int, tambien puede ser int8, int16, int32, int64, dependiendo la necesidad):\n",
    "    var n int = 520\n",
    "\n",
    "    // Numero de Punto flotante, solo existe float32 y float64:\n",
    "    var numero_flotante float64 = 3.14 \n",
    "\n",
    "\t// Cadena texto:\n",
    "\tvar texto string = \"Hola profesora, jeje\"\n",
    "\n",
    "\t// Booleanos:\n",
    "\tvar bandera bool = true\n",
    "\n",
    "\t// Arreglos (Arrays), explicacion[Colección de elementos del mismo tipo con un tamaño fijo]:\n",
    "\tvar Numero_arreglo [5]int = [5]int{1, 2, 3, 4, 5}\n",
    "\n",
    "\t// Slices\n",
    "\t// a diferencia con el arreglo, lo que permiten es un tamaño variable, es más flexibles para manipular colecciones de datos\n",
    "\tvar Arconte []string = []string{\"Venti\", \"Kaeya\", \"Mavuika\"}\n",
    "\n",
    "\n",
    "    fmt.Println(numero, numero1, persona, Numero_arreglo, Arconte) // Imprime los valores de las variables\n",
    "}"
   ]
  },
  {
   "cell_type": "markdown",
   "metadata": {},
   "source": [
    "520 3.14 Hola profesora, jeje true [1 2 3 4 5] [Venti Kaeya Mavuika]"
   ]
  },
  {
   "cell_type": "markdown",
   "metadata": {},
   "source": [
    "---"
   ]
  },
  {
   "cell_type": "markdown",
   "metadata": {},
   "source": [
    "#### **Operación Aritmetica**"
   ]
  },
  {
   "cell_type": "code",
   "execution_count": null,
   "metadata": {
    "vscode": {
     "languageId": "go"
    }
   },
   "outputs": [],
   "source": [
    "package main\n",
    "\n",
    "import \"fmt\"\n",
    "\n",
    "func main() {\n",
    "\n",
    "\tnumero1 := 10\n",
    "\tnumero2 := 5\n",
    "\n",
    "\tfmt.Println(\"Operacion Aritmetica: \")\n",
    "\tfmt.Println(\"Numero 1 = 10\")\n",
    "\tfmt.Println(\"Numero 2 = 5\")\n",
    "\tfmt.Println()\n",
    "    fmt.Println(\"Suma (+): \", numero1 + numero2)\n",
    "\tfmt.Println(\"Resta (-): \", numero1 - numero2)\n",
    "\tfmt.Println(\"Multiplicar (*): \", numero1 * numero2)\n",
    "\tfmt.Println(\"Dividir (/): \", numero1 / numero2)\n",
    "\tfmt.Println(\"Dividir (%): \", numero1 % numero2)\n",
    "}"
   ]
  },
  {
   "cell_type": "markdown",
   "metadata": {},
   "source": [
    "Operacion Aritmetica:  \n",
    "Numero 1 = 10  \n",
    "Numero 2 = 5  \n",
    "\n",
    "Suma (+):  15  \n",
    "Resta (-):  5  \n",
    "Multiplicar (*):  50  \n",
    "Dividir (/):  2  \n",
    "Dividir (%):  0  "
   ]
  }
 ],
 "metadata": {
  "language_info": {
   "name": "python"
  }
 },
 "nbformat": 4,
 "nbformat_minor": 2
}
