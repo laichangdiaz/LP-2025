{
 "cells": [
  {
   "cell_type": "markdown",
   "metadata": {},
   "source": [
    "Asignación Grupal - Lenguaje de Programacion  \n",
    "Universidad José Antonio Páez "
   ]
  },
  {
   "cell_type": "markdown",
   "metadata": {},
   "source": [
    "### Integrantes <hr>\n",
    "Jose Santana 31.608.829 <br>\n",
    "Lai Chang 30.335.078 <br>\n",
    "Juan Wu 30.391.117 <br>\n",
    "Cesar Dominguez 30.648.830 <br>\n",
    "Alejandro Chavez 32.278.392 <br>"
   ]
  },
  {
   "cell_type": "markdown",
   "metadata": {},
   "source": [
    "# Principios básicos de **GO**"
   ]
  },
  {
   "cell_type": "markdown",
   "metadata": {},
   "source": [
    "---"
   ]
  },
  {
   "cell_type": "markdown",
   "metadata": {},
   "source": [
    "## **¿Qué es GO?**"
   ]
  },
  {
   "cell_type": "markdown",
   "metadata": {},
   "source": [
    "Go es un lenguaje de programación compilado y de código abierto, lo que significa que su código fuente se compila para generar código máquina, permitiendo así que otros usuarios desarrollen programas y bibliotecas. En otras palabras, Go es un proyecto de código abierto. Además, su sintaxis es similar a la de C, lo que lo hace conciso y eficiente."
   ]
  },
  {
   "cell_type": "markdown",
   "metadata": {},
   "source": [
    "---"
   ]
  },
  {
   "cell_type": "markdown",
   "metadata": {},
   "source": [
    "#### **Variables y tipos de datos**"
   ]
  },
  {
   "cell_type": "markdown",
   "metadata": {},
   "source": [
    "#### Existe 3 maneras comunes para declarar variables: "
   ]
  },
  {
   "cell_type": "code",
   "execution_count": null,
   "metadata": {
    "vscode": {
     "languageId": "go"
    }
   },
   "outputs": [],
   "source": [
    "package main\n",
    "\n",
    "import \"fmt\"\n",
    "\n",
    "func main() {\n",
    "    // Declaracion con var:\n",
    "    var numero int\n",
    "\n",
    "    // Declaracion corta:\n",
    "    numero1 := 10\n",
    "    \n",
    "    // Declaracion de Tipos Compuestos, tambien puede denominar como Structs\n",
    "    type Inf_personal struct {\n",
    "\t\tNombre string\n",
    "\t\tEdad   int\n",
    "\t}\n",
    "\n",
    "    var persona Inf_personal = Inf_personal{Nombre: \"Juken\", Edad: 25}\n",
    "\n",
    "    fmt.Println(numero, numero1, persona) // Imprime los valores de las variables\n",
    "}"
   ]
  },
  {
   "cell_type": "markdown",
   "metadata": {},
   "source": [
    "0 10 {Juken 25}"
   ]
  },
  {
   "cell_type": "markdown",
   "metadata": {},
   "source": [
    "En estos codigos proporcionados por arriba, para entender mejor como está funcionando la sintaxis codigo su estructura en Go, hay que saber:  \n",
    "- Al principio colocar **package main**, es porque esta línea indica que el archivo pertenece al paquete main, que es un paquete especial en Go. Su función es que para el paquete main es esencial porque define el punto de entrada para un programa ejecutable. Cuando se compila y ejecuta el código, el compilador busca la función main dentro del paquete main para comenzar la ejecución del programa.\n",
    "- **import \"fmt\"**: El paquete fmt proporciona funciones para formatear y imprimir texto en la consola, así como para realizar otras operaciones de entrada/salida. Por ejemplo, se utiliza comúnmente para imprimir mensajes en la consola con fmt.Println().\n",
    "- **func main() {...}**: en esta línea define la función principal del programa, denominada main. Su función es para decir a la programa que va comienza la ejecución. Dentro de esta función, puedes colocar el código que deseas que se ejecute al iniciar el programa."
   ]
  },
  {
   "cell_type": "markdown",
   "metadata": {},
   "source": [
    "Y para el caso de tipo de datos, los más comunes son los siguientes:"
   ]
  },
  {
   "cell_type": "code",
   "execution_count": null,
   "metadata": {
    "vscode": {
     "languageId": "go"
    }
   },
   "outputs": [],
   "source": [
    "package main\n",
    "\n",
    "import \"fmt\"\n",
    "\n",
    "func main() {\n",
    "    // Numero Entero (int, tambien puede ser int8, int16, int32, int64, dependiendo la necesidad):\n",
    "    var n int = 520\n",
    "\n",
    "    // Numero de Punto flotante, solo existe float32 y float64:\n",
    "    var numero_flotante float64 = 3.14 \n",
    "\n",
    "\t// Cadena texto:\n",
    "\tvar texto string = \"Hola profesora, jeje\"\n",
    "\n",
    "\t// Booleanos:\n",
    "\tvar bandera bool = true\n",
    "\n",
    "\t// Arreglos (Arrays), explicacion[Colección de elementos del mismo tipo con un tamaño fijo]:\n",
    "\tvar Numero_arreglo [5]int = [5]int{1, 2, 3, 4, 5}\n",
    "\n",
    "\t// Slices\n",
    "\t// a diferencia con el arreglo, lo que permiten es un tamaño variable, es más flexibles para manipular colecciones de datos\n",
    "\tvar Arconte []string = []string{\"Venti\", \"Kaeya\", \"Mavuika\"}\n",
    "\n",
    "\n",
    "    fmt.Println(numero, numero1, persona, Numero_arreglo, Arconte) // Imprime los valores de las variables\n",
    "}"
   ]
  },
  {
   "cell_type": "markdown",
   "metadata": {},
   "source": [
    "520 3.14 Hola profesora, jeje true [1 2 3 4 5] [Venti Kaeya Mavuika]"
   ]
  },
  {
   "cell_type": "markdown",
   "metadata": {},
   "source": [
    "---"
   ]
  },
  {
   "cell_type": "markdown",
   "metadata": {},
   "source": [
    "#### **Operación Aritmetica**"
   ]
  },
  {
   "cell_type": "code",
   "execution_count": null,
   "metadata": {
    "vscode": {
     "languageId": "go"
    }
   },
   "outputs": [],
   "source": [
    "package main\n",
    "\n",
    "import \"fmt\"\n",
    "\n",
    "func main() {\n",
    "\n",
    "\tnumero1 := 10\n",
    "\tnumero2 := 5\n",
    "\n",
    "\tfmt.Println(\"Operacion Aritmetica: \")\n",
    "\tfmt.Println(\"Numero 1 = 10\")\n",
    "\tfmt.Println(\"Numero 2 = 5\")\n",
    "\tfmt.Println()\n",
    "    fmt.Println(\"Suma (+): \", numero1 + numero2)\n",
    "\tfmt.Println(\"Resta (-): \", numero1 - numero2)\n",
    "\tfmt.Println(\"Multiplicar (*): \", numero1 * numero2)\n",
    "\tfmt.Println(\"Dividir (/): \", numero1 / numero2)\n",
    "\tfmt.Println(\"Dividir (%): \", numero1 % numero2)\n",
    "}"
   ]
  },
  {
   "cell_type": "markdown",
   "metadata": {},
   "source": [
    "Operacion Aritmetica:  \n",
    "Numero 1 = 10  \n",
    "Numero 2 = 5  \n",
    "\n",
    "Suma (+):  15  \n",
    "Resta (-):  5  \n",
    "Multiplicar (*):  50  \n",
    "Dividir (/):  2  \n",
    "Dividir (%):  0  "
   ]
  },
  {
   "cell_type": "markdown",
   "metadata": {},
   "source": [
    "---"
   ]
  },
  {
   "cell_type": "markdown",
   "metadata": {},
   "source": [
    "#### **Condicionales**  \n",
    "En el caso de condicionales, son muy parecidos con los otros lenguajes, la idea que tanto que se cumple va ejecutar y ejecuta la instruccion lo que tiene la funcion, de caso contrario, no se ejecutara."
   ]
  },
  {
   "cell_type": "code",
   "execution_count": null,
   "metadata": {
    "vscode": {
     "languageId": "go"
    }
   },
   "outputs": [],
   "source": [
    "package main\n",
    "\n",
    "import \"fmt\"\n",
    "\n",
    "func main() {\n",
    "\t//Primer caso: con un solo if\n",
    "\tnumero3 := 10\n",
    "\n",
    "\tif numero3 > 5{\n",
    "\t\tfmt.Println(\"OMG, el numero3 es mayor que el 5\")\n",
    "\t}\n",
    "\n",
    "\tfmt.Println()\n",
    "\n",
    "\tif numero3 > 11{\n",
    "\t\tfmt.Println(\"OMG, el numero3 es mayor que el 5??\") //Aqui no se va imprimir es porque no se cumple la condicion\n",
    "\t}\n",
    "\n",
    "\t//Segundo caso: con if else\n",
    "\tif numero3 > 50{\n",
    "\t\tfmt.Println(\"OMG, el numero3 es mayor que el 50\")\n",
    "\t}else{\n",
    "\t\tfmt.Println(\"OMG, el numero3 es menor que el 50\")\n",
    "\t}\n",
    "\n",
    "\tfmt.Println()\n",
    "\n",
    "\t//Tercer caso: if else con un \"else if\"\n",
    "\tif numero3 > 50 {\n",
    "\t\tfmt.Println(\"OMG, el numero3 es mayor que el 50\")\n",
    "\t} else if numero3 == 10 {\n",
    "\t\tfmt.Println(\"OMG, el numero3 es igual al 10\")\n",
    "\t} else {\n",
    "\t\tfmt.Println(\"OMG, el numero3 es menor que el 50\")\n",
    "\t}\n",
    "\n",
    "\tfmt.Println()\n",
    "\t\n",
    "\tnumero4 := 500\n",
    "\t//Cuarto caso: If anidadas\n",
    "\tif numero3 == 10 {\n",
    "\t\tif numero4 > 500 {\n",
    "\t\t\tfmt.Println(\"El numero 4 es mayor que 500\")\n",
    "\t\t} else {\n",
    "\t\t\tfmt.Println(\"Se puede concluir que el numero4 es igual o menor que 500\")\n",
    "\t\t}\n",
    "\t} else {\n",
    "\t\tfmt.Println(\"JAJA, el numero3 no es igual al 10\")\n",
    "\t}\n",
    "}"
   ]
  },
  {
   "cell_type": "markdown",
   "metadata": {},
   "source": [
    "OMG, el numero3 es mayor que el 5  \n",
    "  \n",
    "OMG, el numero3 es menor que el 50  \n",
    "  \n",
    "OMG, el numero3 es igual al 10  \n",
    "  \n",
    "Se puede concluir que el numero4 es igual o menor que 500"
   ]
  },
  {
   "cell_type": "markdown",
   "metadata": {},
   "source": [
    "Y para saber cuales son las **operadores de comparación**, que son los siguientes:  \n",
    "' == ' (Es igual)  \n",
    "' != ' (Es diferente de)  \n",
    "' < ' (Es menor que)  \n",
    "' > ' (Es mayor que)  \n",
    "' <= ' (Es menor o igual que)  \n",
    "' >= ' (Es mayor o igual que)"
   ]
  },
  {
   "cell_type": "markdown",
   "metadata": {},
   "source": [
    "Y Claro, tambien puede existir utilizando **Operadores booleanos (&&,||)** en los condicionales, por ejemplo:"
   ]
  },
  {
   "cell_type": "code",
   "execution_count": null,
   "metadata": {
    "vscode": {
     "languageId": "go"
    }
   },
   "outputs": [],
   "source": [
    "package main\n",
    "\n",
    "import \"fmt\"\n",
    "\n",
    "func main() {\n",
    "\tnumero512 := 500\n",
    "\tnumero515 := 600\n",
    "\n",
    "\t//el signo && es \"and\", pide cuando las condiciones deben todos que se cumplen y asi se ejecutara la condicional\n",
    "\tif numero512==500 && numero515==600{\n",
    "\t\tfmt.Println(\"Oye, si se cumplio la condicion\")\n",
    "\t}\n",
    "\n",
    "\t//el signo || es \"...o...\", pide cuando en todas las condiciones, uno que se cumple se ejecutara la condicional\n",
    "\tif numero512>500 || numero515>500{\n",
    "\t\tfmt.Println(\"Oye, si se cumplio la condicion\")\n",
    "\t}\n",
    "}"
   ]
  },
  {
   "cell_type": "markdown",
   "metadata": {},
   "source": [
    "Oye, si se cumplio la condicion  \n",
    "Oye, si se cumplio la condicion"
   ]
  },
  {
   "cell_type": "markdown",
   "metadata": {},
   "source": [
    "---"
   ]
  },
  {
   "cell_type": "markdown",
   "metadata": {},
   "source": [
    "#### **Bucles**  \n",
    "En el caso de bucles, se parecen muy similar con otro lenguaje de programacion, que es una estructura de control en programación que permite ejecutar un bloque de código repetidamente bajo ciertas condiciones. Y puede existir las siguientes casos:"
   ]
  },
  {
   "cell_type": "code",
   "execution_count": null,
   "metadata": {
    "vscode": {
     "languageId": "go"
    }
   },
   "outputs": [],
   "source": [
    "package main\n",
    "\n",
    "import \"fmt\"\n",
    "\n",
    "func main() {\n",
    "\t//Primer caso: bucle \"for\" con contador\n",
    "\t//se inicializa una variable, se establece una condición y se actualiza la variable en cada iteración\n",
    "\tfor i := 0; i < 10; i++ {\n",
    "\t\tfmt.Println(i) // Imprime los números del 0 al 9\n",
    "\t}\n",
    "\n",
    "\tfmt.Println()\n",
    "\n",
    "\t//Segundo caso: bucle \"for\" como un bucle \"while\"\n",
    "\t//Se puede usar el bucle for sin inicialización ni actualización, actuando como un bucle while. Solo necesita proporcionar una condición.\n",
    "\tj := 0\n",
    "\tfor j < 5 {\n",
    "    \tfmt.Println(j)\n",
    "    \tj++ // Incrementa 'j' en cada iteración\n",
    "\t}\n",
    "}"
   ]
  },
  {
   "cell_type": "markdown",
   "metadata": {},
   "source": [
    "0  \n",
    "1  \n",
    "2  \n",
    "3  \n",
    "4  \n",
    "5  \n",
    "6  \n",
    "7  \n",
    "8  \n",
    "9  \n",
    "  \n",
    "0  \n",
    "1  \n",
    "2  \n",
    "3  \n",
    "4  "
   ]
  }
 ],
 "metadata": {
  "language_info": {
   "name": "python"
  }
 },
 "nbformat": 4,
 "nbformat_minor": 2
}
