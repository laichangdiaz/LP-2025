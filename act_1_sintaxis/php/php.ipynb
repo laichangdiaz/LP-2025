{
 "cells": [
  {
   "cell_type": "markdown",
   "metadata": {},
   "source": [
    "Asignación Grupal - Lenguaje de Programacion  \n",
    "Universidad José Antonio Páez  \n",
    "  \n",
    "#### Integrantes <hr>\n",
    "Jose Santana 31.608.829 <br>\n",
    "Lai Chang 30.335.078 <br>\n",
    "Juan Wu 30.391.117 <br>\n",
    "Cesar Dominguez 30.648.830 <br>\n",
    "Alejandro Chavez 32.278.392 <br>\n",
    "\n",
    "---\n",
    "\n",
    "# Principios básicos de **PHP**\n",
    "\n",
    "---"
   ]
  },
  {
   "cell_type": "markdown",
   "metadata": {},
   "source": [
    "## ¿Qué es PHP?\n",
    "\n",
    "PHP es el lenguaje de programación del lado del servidor más popular para crear páginas web dinámicas.\n",
    "\n",
    "PHP es un acrónimo que significa \"Preprocesador de Hipertexto\". Se trata de un lenguaje de programación de código abierto, muy popular y ampliamente utilizado para crear páginas web dinámicas. Su creador, Rasmus Lerdorf, lo desarrolló en 1994, y en sus inicios se conocía como \"Página de inicio personal\".\n",
    "\n",
    "Los scripts escritos en PHP se ejecutan en el servidor, generando un resultado que se envía al navegador web en forma de HTML. Este lenguaje es compatible con diversas bases de datos populares, como MySQL, PostgreSQL, Oracle y Microsoft SQL Server. Actualmente, la versión principal de PHP es la 7. Todo el contenido de este tutorial ha sido probado y validado con esta versión más reciente."
   ]
  },
  {
   "cell_type": "markdown",
   "metadata": {},
   "source": [
    "## Sintaxis estándar de PHP\n",
    "Un script PHP comienza con ```<?php``` y termina con la etiqueta ```?>``` \n",
    "\n",
    "De la siguiente forma podemos hacer un 'Hola Mundo' con PHP:\n",
    "\n",
    "```php\n",
    "<?php\n",
    "// Código a ejecutarse\n",
    "echo \"Hola mundo\";\n",
    "?>\n",
    "```"
   ]
  },
  {
   "cell_type": "markdown",
   "metadata": {},
   "source": [
    "---\n",
    "\n",
    "## Variables\n",
    "\n",
    "Las variables se utilizan para almacenar datos, como cadenas de texto, números, etc. Los valores de las variables pueden cambiar durante el transcurso de un script. A continuación, se indican algunos aspectos importantes que conviene saber sobre las variables:\n",
    "\n",
    "- En PHP, no es necesario declarar una variable antes de agregarle un valor. PHP convierte automáticamente la variable al tipo de datos correcto, según su valor.\n",
    "- Después de declarar una variable, ésta se puede reutilizar en todo el código.\n",
    "- El operador de asignación ( =) se utiliza para asignar valor a una variable.\n",
    "- En PHP, las variables se declaran utilizando el símbolo `$` seguido del nombre de la variable. \n",
    "\n",
    "```php\n",
    "<?php\n",
    "$nombre = \"Alejandro\"; // Variable tipo string\n",
    "$edad = 30;             // Variable tipo entero\n",
    "$pi = 3.1416;           // Variable tipo flotante\n",
    "$esEstudiante = true;   // Variable tipo booleano\n",
    "?>\n",
    "```"
   ]
  },
  {
   "cell_type": "markdown",
   "metadata": {},
   "source": [
    "---\n",
    "\n",
    "## Tipos de Variables\n",
    "\n",
    "PHP soporta varios tipos de datos:\n",
    "\n",
    "1. **String**: Cadenas de texto.\n",
    "2. **Integer**: Números enteros.\n",
    "3. **Float**: Números con decimales.\n",
    "4. **Boolean**: `true` o `false`.\n",
    "5. **Array**: Conjunto de valores.\n",
    "6. **Object**: Instancias de clases.\n",
    "\n",
    "```php\n",
    "<?php\n",
    "$texto = \"Hola PHP\";      // String\n",
    "$numero = 100;            // Integer\n",
    "$decimal = 19.99;         // Float\n",
    "$verdadero = true;        // Boolean\n",
    "$arreglo = [1, 2, 3];     // Array\n",
    "?>\n",
    "```\n"
   ]
  }
 ],
 "metadata": {
  "language_info": {
   "name": "python"
  }
 },
 "nbformat": 4,
 "nbformat_minor": 2
}
