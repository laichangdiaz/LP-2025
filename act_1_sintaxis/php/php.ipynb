{
 "cells": [
  {
   "cell_type": "markdown",
   "metadata": {},
   "source": [
    "Asignación Grupal - Lenguaje de Programacion  \n",
    "Universidad José Antonio Páez  \n",
    "  \n",
    "#### Integrantes <hr>\n",
    "Jose Santana 31.608.829 <br>\n",
    "Lai Chang 30.335.078 <br>\n",
    "Juan Wu 30.391.117 <br>\n",
    "Cesar Dominguez 30.648.830 <br>\n",
    "Alejandro Chavez 32.278.392 <br>\n",
    "\n",
    "---\n",
    "\n",
    "# Principios básicos de **PHP**"
   ]
  },
  {
   "cell_type": "markdown",
   "metadata": {},
   "source": [
    "## ¿Qué es PHP?\n",
    "\n",
    "PHP es el lenguaje de programación del lado del servidor más popular para crear páginas web dinámicas.\n",
    "\n",
    "PHP es un acrónimo que significa \"Preprocesador de Hipertexto\". Se trata de un lenguaje de programación de código abierto, muy popular y ampliamente utilizado para crear páginas web dinámicas. Su creador, Rasmus Lerdorf, lo desarrolló en 1994, y en sus inicios se conocía como \"Página de inicio personal\".\n",
    "\n",
    "Los scripts escritos en PHP se ejecutan en el servidor, generando un resultado que se envía al navegador web en forma de HTML. Este lenguaje es compatible con diversas bases de datos populares, como MySQL, PostgreSQL, Oracle y Microsoft SQL Server. Actualmente, la versión principal de PHP es la 7. Todo el contenido de este tutorial ha sido probado y validado con esta versión más reciente."
   ]
  },
  {
   "cell_type": "markdown",
   "metadata": {},
   "source": [
    "## Sintaxis estándar de PHP\n",
    "Un script PHP comienza con ```<?php``` y termina con la etiqueta ```?>``` \n",
    "\n",
    "De la siguiente forma podemos hacer un 'Hola Mundo' con PHP:"
   ]
  },
  {
   "cell_type": "code",
   "execution_count": null,
   "metadata": {
    "vscode": {
     "languageId": "php"
    }
   },
   "outputs": [],
   "source": [
    "<?php\n",
    "// Código a ejecutarse\n",
    "echo \"Hola mundo\";\n",
    "?>"
   ]
  },
  {
   "cell_type": "markdown",
   "metadata": {},
   "source": []
  }
 ],
 "metadata": {
  "language_info": {
   "name": "python"
  }
 },
 "nbformat": 4,
 "nbformat_minor": 2
}
