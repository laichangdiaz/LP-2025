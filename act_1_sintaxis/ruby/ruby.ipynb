{
 "cells": [
  {
   "cell_type": "markdown",
   "metadata": {},
   "source": [
    "Asignación Grupal - Lenguaje de Progrmación <br>\n",
    "Universidad José Antonio Paéz\n"
   ]
  },
  {
   "cell_type": "markdown",
   "metadata": {},
   "source": [
    "### Integrantes <hr>\n",
    "Jose Santana 31.608.829 <br>\n",
    "Lai Chang 30.335.078 <br>\n",
    "Juan Wu 30.391.117 <br>\n",
    "Cesar Dominguez 30.648.830 <br>\n",
    "Alejandro Chavez 32.278.392 <br>"
   ]
  },
  {
   "cell_type": "markdown",
   "metadata": {},
   "source": [
    "## Principios Basicos en Ruby"
   ]
  },
  {
   "cell_type": "markdown",
   "metadata": {},
   "source": [
    "#### ¿Qué es Ruby?"
   ]
  },
  {
   "cell_type": "markdown",
   "metadata": {},
   "source": []
  }
 ],
 "metadata": {
  "kernelspec": {
   "display_name": "Ruby 3 (iruby kernel)",
   "language": "ruby",
   "name": "ruby3"
  },
  "language_info": {
   "name": "ruby"
  }
 },
 "nbformat": 4,
 "nbformat_minor": 2
}
