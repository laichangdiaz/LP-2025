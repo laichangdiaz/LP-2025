{
 "cells": [
  {
   "cell_type": "markdown",
   "metadata": {},
   "source": [
    "Asignación Grupal - Lenguaje de Progrmación <br>\n",
    "Universidad José Antonio Paéz\n"
   ]
  },
  {
   "cell_type": "markdown",
   "metadata": {},
   "source": [
    "### Integrantes <hr>\n",
    "Jose Santana 31.608.829 <br>\n",
    "Lai Chang 30.335.078 <br>\n",
    "Juan Wu 30.391.117 <br>\n",
    "Cesar Dominguez 30.648.830 <br>\n",
    "Alejandro Chavez 32.278.392 <br>"
   ]
  },
  {
   "cell_type": "markdown",
   "metadata": {},
   "source": [
    "## Principios Basicos en Ruby"
   ]
  },
  {
   "cell_type": "markdown",
   "metadata": {},
   "source": [
    "### ¿Qué es Ruby?"
   ]
  },
  {
   "cell_type": "markdown",
   "metadata": {},
   "source": [
    "Ruby es un lenguaje de programación dinámico y de codigo abierto enfocado en la simplicidad y productividad. Su elegante sintaxis se siente natural al leerla y facil al escribirla. "
   ]
  },
  {
   "cell_type": "markdown",
   "metadata": {},
   "source": [
    "### Variables y tipos de datos"
   ]
  },
  {
   "cell_type": "markdown",
   "metadata": {},
   "source": [
    "Para definir una variable en Ruby, es muy parecido a python , primero se define el nombre de la variable y despues con el signo \"=\" definimos el valor de la variable"
   ]
  },
  {
   "cell_type": "code",
   "execution_count": null,
   "metadata": {},
   "outputs": [],
   "source": [
    "mi_variable = \"Hola Ruby\"\n",
    "mi_variable = 40\n",
    "mi_variable = true"
   ]
  },
  {
   "cell_type": "markdown",
   "metadata": {},
   "source": [
    "Para Imprimir una el valor de las variables por consola hacemos lo siguiente:"
   ]
  },
  {
   "cell_type": "code",
   "execution_count": 1,
   "metadata": {},
   "outputs": [
    {
     "name": "stdout",
     "output_type": "stream",
     "text": [
      "Hola Ruby\n"
     ]
    }
   ],
   "source": [
    "## Utilizamos puts \n",
    "mi_variable = \"Hola Ruby\"\n",
    "puts mi_variable"
   ]
  },
  {
   "cell_type": "markdown",
   "metadata": {},
   "source": [
    "#### Cadena"
   ]
  },
  {
   "cell_type": "markdown",
   "metadata": {},
   "source": [
    "La clase para cadenas de texto en Ruby es String y se puede declarar simplemente usando los caracteres '' y \"\" la diferencia entre saber cual usar "
   ]
  },
  {
   "cell_type": "code",
   "execution_count": 2,
   "metadata": {},
   "outputs": [
    {
     "name": "stdout",
     "output_type": "stream",
     "text": [
      "Hola Rey me llamo jose\n"
     ]
    }
   ],
   "source": [
    "Cadena = \"Hola Rey me llamo jose\"\n",
    "puts Cadena"
   ]
  },
  {
   "cell_type": "markdown",
   "metadata": {},
   "source": [
    "#### Numeros"
   ]
  },
  {
   "cell_type": "markdown",
   "metadata": {},
   "source": [
    "En este caso tenemos distintos casos que son: "
   ]
  },
  {
   "cell_type": "markdown",
   "metadata": {},
   "source": [
    "##### Finxnum"
   ]
  },
  {
   "cell_type": "code",
   "execution_count": 3,
   "metadata": {},
   "outputs": [
    {
     "name": "stdout",
     "output_type": "stream",
     "text": [
      "El numero normal es: 8\n"
     ]
    }
   ],
   "source": [
    "# Representa Numeros Normales\n",
    "numero_1 = 8\n",
    "puts \"El numero normal es: #{numero_1}\""
   ]
  },
  {
   "cell_type": "markdown",
   "metadata": {},
   "source": [
    "##### Bignum"
   ]
  },
  {
   "cell_type": "code",
   "execution_count": 4,
   "metadata": {},
   "outputs": [
    {
     "name": "stdout",
     "output_type": "stream",
     "text": [
      "El numero grande es: 99999291\n"
     ]
    }
   ],
   "source": [
    "# Representa Numeros grandes\n",
    "NumeroGrande = 99999291\n",
    "puts \"El numero grande es: #{NumeroGrande}\""
   ]
  },
  {
   "cell_type": "markdown",
   "metadata": {},
   "source": [
    "##### Float"
   ]
  },
  {
   "cell_type": "code",
   "execution_count": 5,
   "metadata": {},
   "outputs": [
    {
     "name": "stdout",
     "output_type": "stream",
     "text": [
      "El numero decimal es: 7.0\n"
     ]
    }
   ],
   "source": [
    "# Representa Numeros decimales\n",
    "NumeroDecimal = 7.0\n",
    "puts \"El numero decimal es: #{NumeroDecimal}\""
   ]
  },
  {
   "cell_type": "markdown",
   "metadata": {},
   "source": [
    "##### Complex"
   ]
  },
  {
   "cell_type": "code",
   "execution_count": 6,
   "metadata": {},
   "outputs": [
    {
     "name": "stdout",
     "output_type": "stream",
     "text": [
      "El numero imaginario es: 2+7i\n"
     ]
    }
   ],
   "source": [
    "# Representa Numeros imaginarios o que supone un valor\n",
    "NumeroImaginario = 2 + 7i\n",
    "puts \"El numero imaginario es: #{NumeroImaginario}\""
   ]
  },
  {
   "cell_type": "markdown",
   "metadata": {},
   "source": [
    "##### BigDecimal"
   ]
  },
  {
   "cell_type": "code",
   "execution_count": 7,
   "metadata": {},
   "outputs": [
    {
     "name": "stdout",
     "output_type": "stream",
     "text": [
      "El numero decimal es: 8.87\n"
     ]
    }
   ],
   "source": [
    "# Representa numeros decimales precisos\n",
    "numeroBigdecimal = 8.87\n",
    "puts \"El numero decimal es: #{numeroBigdecimal}\""
   ]
  },
  {
   "cell_type": "markdown",
   "metadata": {},
   "source": [
    "#### Booleanos"
   ]
  },
  {
   "cell_type": "markdown",
   "metadata": {},
   "source": [
    "Como todo lenguaje de programacion existe el dato booleano el cual tiene dos resultados posibles: true o false"
   ]
  },
  {
   "cell_type": "code",
   "execution_count": 9,
   "metadata": {},
   "outputs": [
    {
     "name": "stdout",
     "output_type": "stream",
     "text": [
      "El valor de la primera variables es: true\n",
      "El valor de la segunda variables es: false\n"
     ]
    }
   ],
   "source": [
    "Mi_variable = true\n",
    "Mi_variable_2 = false\n",
    "\n",
    "puts \"El valor de la primera variables es: #{Mi_variable}\"\n",
    "puts \"El valor de la segunda variables es: #{Mi_variable_2}\""
   ]
  },
  {
   "cell_type": "markdown",
   "metadata": {},
   "source": [
    "#### Arrays"
   ]
  },
  {
   "cell_type": "markdown",
   "metadata": {},
   "source": [
    "Un array o matriz , puede contener una lista de valores o datos. Pueden ser de diferentes tipos de datos, están separados por comas y encerrados entre corchetes. "
   ]
  },
  {
   "cell_type": "code",
   "execution_count": 11,
   "metadata": {},
   "outputs": [
    {
     "name": "stdout",
     "output_type": "stream",
     "text": [
      "Call of Duty\n",
      "3\n"
     ]
    }
   ],
   "source": [
    "nombres_Juegos = [\"Call of Duty\", \"Fifa 16\", \"Medal of Honor\"]\n",
    "## Para obtner un valor colocamos nombres_juegos[indice]\n",
    "puts nombres_Juegos[0]\n",
    "\n",
    "## Para obtener la longitud de la lista utilizamos length\n",
    "puts nombres_Juegos.length"
   ]
  },
  {
   "cell_type": "markdown",
   "metadata": {},
   "source": [
    "### Aritmetica"
   ]
  },
  {
   "cell_type": "markdown",
   "metadata": {},
   "source": [
    "#### Operadores Aritmeticos"
   ]
  },
  {
   "cell_type": "markdown",
   "metadata": {},
   "source": [
    "En Ruby las operaciones que se puede realizar no son tan diferentes a otros lenguajes de programación"
   ]
  },
  {
   "cell_type": "code",
   "execution_count": 12,
   "metadata": {},
   "outputs": [
    {
     "name": "stdout",
     "output_type": "stream",
     "text": [
      "La suma de los dos numeros es: 90\n",
      "La resta de los dos numeros es: 10\n",
      "La multiplicacion de los dos numeros es: 2000\n",
      "La division de los dos numeros es: 1\n",
      "El residuo de los dos numeros es: 10\n",
      "La potencia de los numeros es: 90949470177292823791503906250000000000000000000000000000000000000000\n"
     ]
    }
   ],
   "source": [
    "Num1 = 50\n",
    "Num2 = 40\n",
    "\n",
    "## Suma\n",
    "puts \"La suma de los dos numeros es: #{Num1 + Num2}\"\n",
    "## Resta\n",
    "puts \"La resta de los dos numeros es: #{Num1 - Num2}\"\n",
    "## Multiplicacion\n",
    "puts \"La multiplicacion de los dos numeros es: #{Num1 * Num2}\"\n",
    "## Division\n",
    "puts \"La division de los dos numeros es: #{Num1 / Num2}\"\n",
    "## Residuo\n",
    "puts \"El residuo de los dos numeros es: #{Num1 % Num2}\"\n",
    "## Potencia\n",
    "puts \"La potencia de los numeros es: #{Num1 ** Num2}\"\n",
    "\n"
   ]
  },
  {
   "cell_type": "markdown",
   "metadata": {},
   "source": [
    "Como se puede realizar se puede hacer las operaciones de suma, resta , multiplicacion y division de los diferentes numeros , asi como elevar a la potencia y sacar el residuo "
   ]
  },
  {
   "cell_type": "markdown",
   "metadata": {},
   "source": [
    "#### Operaciones Booleanas"
   ]
  },
  {
   "cell_type": "markdown",
   "metadata": {},
   "source": [
    "En Ruby las Operaciones booleanas no cambia mucho, son muy parecidas a las operaciones booleanas de los demas lenguajes"
   ]
  },
  {
   "cell_type": "code",
   "execution_count": 14,
   "metadata": {},
   "outputs": [
    {
     "name": "stdout",
     "output_type": "stream",
     "text": [
      "false\n",
      "true\n",
      "true\n"
     ]
    }
   ],
   "source": [
    "## Booleanos\n",
    "x = true\n",
    "y = false\n",
    "\n",
    "puts !x ## Negación\n",
    "puts x and y ## Conjunción\n",
    "puts x || y ## Disyunción"
   ]
  },
  {
   "cell_type": "markdown",
   "metadata": {},
   "source": [
    "Cabe destacar la negación puede ser true o false dependiendo del valor booleano que tenga la variable , ya que la negación es lo contrario al valor que tenga el valor\n",
    "\n",
    "Por otro lado de igual manera, es importante destacar que la conjunción es definida como la operación and y la disyunción es definida como la operación or, operaciones las cuales evaluan el valor de las variables a operar, para returnar de mismo modo, un valor booleano"
   ]
  },
  {
   "cell_type": "markdown",
   "metadata": {},
   "source": [
    "#### Comparadores Logicos"
   ]
  },
  {
   "cell_type": "markdown",
   "metadata": {},
   "source": [
    "En ruby como los demas lenguajes de programacion nos ofrece los comparadores Logicos , los cuales nos dan como resultado como un valor booleano , esto nos serviran para hacer condicionales"
   ]
  },
  {
   "cell_type": "code",
   "execution_count": null,
   "metadata": {},
   "outputs": [],
   "source": [
    "== #Es igual a\n",
    "!= #Es distinto a\n",
    "> # Es mayor a\n",
    "< # Es menor a\n",
    ">= # Es mayor o igual a\n",
    "<= # Es menor o igual a"
   ]
  },
  {
   "cell_type": "markdown",
   "metadata": {},
   "source": [
    "Un ejemplo seria compara dos numeros y comprobar si son iguales"
   ]
  },
  {
   "cell_type": "code",
   "execution_count": 17,
   "metadata": {},
   "outputs": [
    {
     "name": "stdout",
     "output_type": "stream",
     "text": [
      "false\n",
      "true\n"
     ]
    }
   ],
   "source": [
    "x = 44\n",
    "y = 36\n",
    "puts (x == y) #No son iguales\n",
    "\n",
    "x2 = 44\n",
    "y2 = 44\n",
    "puts (x2 == y2) # Si son iguales"
   ]
  }
 ],
 "metadata": {
  "kernelspec": {
   "display_name": "Ruby 3 (iruby kernel)",
   "language": "ruby",
   "name": "ruby3"
  },
  "language_info": {
   "file_extension": ".rb",
   "mimetype": "application/x-ruby",
   "name": "ruby",
   "version": "3.4.1"
  }
 },
 "nbformat": 4,
 "nbformat_minor": 2
}
