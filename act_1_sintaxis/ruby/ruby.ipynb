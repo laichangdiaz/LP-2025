{
 "cells": [
  {
   "cell_type": "markdown",
   "metadata": {},
   "source": [
    "Asignación Grupal - Lenguaje de Progrmación <br>\n",
    "Universidad José Antonio Paéz\n"
   ]
  },
  {
   "cell_type": "markdown",
   "metadata": {},
   "source": [
    "### Integrantes <hr>\n",
    "Jose Santana 31.608.829 <br>\n",
    "Lai Chang 30.335.078 <br>\n",
    "Juan Wu 30.391.117 <br>\n",
    "Cesar Dominguez 30.648.830 <br>\n",
    "Alejandro Chavez 32.278.392 <br>"
   ]
  },
  {
   "cell_type": "markdown",
   "metadata": {},
   "source": [
    "## Principios Basicos en Ruby"
   ]
  },
  {
   "cell_type": "markdown",
   "metadata": {},
   "source": [
    "### ¿Qué es Ruby?"
   ]
  },
  {
   "cell_type": "markdown",
   "metadata": {},
   "source": [
    "Ruby es un lenguaje de programación dinámico y de codigo abierto enfocado en la simplicidad y productividad. Su elegante sintaxis se siente natural al leerla y facil al escribirla. "
   ]
  },
  {
   "cell_type": "markdown",
   "metadata": {},
   "source": [
    "### Variables y tipos de datos"
   ]
  },
  {
   "cell_type": "markdown",
   "metadata": {},
   "source": [
    "Para definir una variable en Ruby, es muy parecido a python , primero se define el nombre de la variable y despues con el signo \"=\" definimos el valor de la variable"
   ]
  },
  {
   "cell_type": "code",
   "execution_count": null,
   "metadata": {},
   "outputs": [],
   "source": [
    "mi_variable = \"Hola Ruby\"\n",
    "mi_variable = 40\n",
    "mi_variable = true"
   ]
  },
  {
   "cell_type": "markdown",
   "metadata": {},
   "source": [
    "Para Imprimir una el valor de las variables por consola hacemos lo siguiente:"
   ]
  },
  {
   "cell_type": "code",
   "execution_count": 1,
   "metadata": {},
   "outputs": [
    {
     "name": "stdout",
     "output_type": "stream",
     "text": [
      "Hola Ruby\n"
     ]
    }
   ],
   "source": [
    "## Utilizamos puts \n",
    "mi_variable = \"Hola Ruby\"\n",
    "puts mi_variable"
   ]
  },
  {
   "cell_type": "markdown",
   "metadata": {},
   "source": [
    "#### Cadena"
   ]
  },
  {
   "cell_type": "markdown",
   "metadata": {},
   "source": [
    "La clase para cadenas de texto en Ruby es String y se puede declarar simplemente usando los caracteres '' y \"\" la diferencia entre saber cual usar "
   ]
  },
  {
   "cell_type": "code",
   "execution_count": 2,
   "metadata": {},
   "outputs": [
    {
     "name": "stdout",
     "output_type": "stream",
     "text": [
      "Hola Rey me llamo jose\n"
     ]
    }
   ],
   "source": [
    "Cadena = \"Hola Rey me llamo jose\"\n",
    "puts Cadena"
   ]
  },
  {
   "cell_type": "markdown",
   "metadata": {},
   "source": [
    "#### Numeros"
   ]
  },
  {
   "cell_type": "markdown",
   "metadata": {},
   "source": [
    "En este caso tenemos distintos casos que son: "
   ]
  },
  {
   "cell_type": "markdown",
   "metadata": {},
   "source": [
    "##### Finxnum"
   ]
  },
  {
   "cell_type": "code",
   "execution_count": 3,
   "metadata": {},
   "outputs": [
    {
     "name": "stdout",
     "output_type": "stream",
     "text": [
      "El numero normal es: 8\n"
     ]
    }
   ],
   "source": [
    "# Representa Numeros Normales\n",
    "numero_1 = 8\n",
    "puts \"El numero normal es: #{numero_1}\""
   ]
  },
  {
   "cell_type": "markdown",
   "metadata": {},
   "source": [
    "##### Bignum"
   ]
  },
  {
   "cell_type": "code",
   "execution_count": 4,
   "metadata": {},
   "outputs": [
    {
     "name": "stdout",
     "output_type": "stream",
     "text": [
      "El numero grande es: 99999291\n"
     ]
    }
   ],
   "source": [
    "# Representa Numeros grandes\n",
    "NumeroGrande = 99999291\n",
    "puts \"El numero grande es: #{NumeroGrande}\""
   ]
  },
  {
   "cell_type": "markdown",
   "metadata": {},
   "source": [
    "##### Float"
   ]
  },
  {
   "cell_type": "code",
   "execution_count": 5,
   "metadata": {},
   "outputs": [
    {
     "name": "stdout",
     "output_type": "stream",
     "text": [
      "El numero decimal es: 7.0\n"
     ]
    }
   ],
   "source": [
    "# Representa Numeros decimales\n",
    "NumeroDecimal = 7.0\n",
    "puts \"El numero decimal es: #{NumeroDecimal}\""
   ]
  },
  {
   "cell_type": "markdown",
   "metadata": {},
   "source": [
    "##### Complex"
   ]
  },
  {
   "cell_type": "code",
   "execution_count": 6,
   "metadata": {},
   "outputs": [
    {
     "name": "stdout",
     "output_type": "stream",
     "text": [
      "El numero imaginario es: 2+7i\n"
     ]
    }
   ],
   "source": [
    "# Representa Numeros imaginarios o que supone un valor\n",
    "NumeroImaginario = 2 + 7i\n",
    "puts \"El numero imaginario es: #{NumeroImaginario}\""
   ]
  },
  {
   "cell_type": "markdown",
   "metadata": {},
   "source": [
    "##### BigDecimal"
   ]
  },
  {
   "cell_type": "code",
   "execution_count": 7,
   "metadata": {},
   "outputs": [
    {
     "name": "stdout",
     "output_type": "stream",
     "text": [
      "El numero decimal es: 8.87\n"
     ]
    }
   ],
   "source": [
    "# Representa numeros decimales precisos\n",
    "numeroBigdecimal = 8.87\n",
    "puts \"El numero decimal es: #{numeroBigdecimal}\""
   ]
  },
  {
   "cell_type": "markdown",
   "metadata": {},
   "source": [
    "#### Booleanos"
   ]
  },
  {
   "cell_type": "markdown",
   "metadata": {},
   "source": [
    "Como todo lenguaje de programacion existe el dato booleano el cual tiene dos resultados posibles: true o false"
   ]
  },
  {
   "cell_type": "code",
   "execution_count": 9,
   "metadata": {},
   "outputs": [
    {
     "name": "stdout",
     "output_type": "stream",
     "text": [
      "El valor de la primera variables es: true\n",
      "El valor de la segunda variables es: false\n"
     ]
    }
   ],
   "source": [
    "Mi_variable = true\n",
    "Mi_variable_2 = false\n",
    "\n",
    "puts \"El valor de la primera variables es: #{Mi_variable}\"\n",
    "puts \"El valor de la segunda variables es: #{Mi_variable_2}\""
   ]
  },
  {
   "cell_type": "markdown",
   "metadata": {},
   "source": [
    "#### Arrays"
   ]
  },
  {
   "cell_type": "markdown",
   "metadata": {},
   "source": [
    "Un array o matriz , puede contener una lista de valores o datos. Pueden ser de diferentes tipos de datos, están separados por comas y encerrados entre corchetes. "
   ]
  },
  {
   "cell_type": "code",
   "execution_count": 11,
   "metadata": {},
   "outputs": [
    {
     "name": "stdout",
     "output_type": "stream",
     "text": [
      "Call of Duty\n",
      "3\n"
     ]
    }
   ],
   "source": [
    "nombres_Juegos = [\"Call of Duty\", \"Fifa 16\", \"Medal of Honor\"]\n",
    "## Para obtner un valor colocamos nombres_juegos[indice]\n",
    "puts nombres_Juegos[0]\n",
    "\n",
    "## Para obtener la longitud de la lista utilizamos length\n",
    "puts nombres_Juegos.length"
   ]
  },
  {
   "cell_type": "markdown",
   "metadata": {},
   "source": [
    "#### Hashes"
   ]
  },
  {
   "cell_type": "markdown",
   "metadata": {},
   "source": [
    "Los hashes son diccionarios osea que son estructuras de tipo clave-valor\n",
    "\n",
    "Un ejemplo seria el siguiente:"
   ]
  },
  {
   "cell_type": "code",
   "execution_count": 47,
   "metadata": {},
   "outputs": [
    {
     "name": "stdout",
     "output_type": "stream",
     "text": [
      "{nombre: \"Jose\", apellido: \"Santana\", cedula: 316088829}\n",
      "{nombre: \"Carlos\", apellido: \"Santana\", cedula: 29878957}\n",
      "Santana\n"
     ]
    }
   ],
   "source": [
    "## Tenemos dos formas de escribir los hashes\n",
    "\n",
    "## Primera forma\n",
    "dict = {\n",
    "  :nombre => \"Jose\",\n",
    "  :apellido => \"Santana\",\n",
    "  :cedula => 316088829\n",
    "}\n",
    "puts dict\n",
    "\n",
    "# Segunda Forma\n",
    "dict_2 = {\n",
    "  nombre: \"Carlos\",\n",
    "  apellido: \"Santana\",\n",
    "  cedula: 29878957\n",
    "}\n",
    "puts dict_2\n",
    "\n",
    "#Para Ingresar al valor de una calve hacemos lo siguiene:\n",
    "puts dict_2[:apellido]\n"
   ]
  },
  {
   "cell_type": "markdown",
   "metadata": {},
   "source": [
    "### Aritmetica"
   ]
  },
  {
   "cell_type": "markdown",
   "metadata": {},
   "source": [
    "#### Operadores Aritmeticos"
   ]
  },
  {
   "cell_type": "markdown",
   "metadata": {},
   "source": [
    "En Ruby las operaciones que se puede realizar no son tan diferentes a otros lenguajes de programación"
   ]
  },
  {
   "cell_type": "code",
   "execution_count": 12,
   "metadata": {},
   "outputs": [
    {
     "name": "stdout",
     "output_type": "stream",
     "text": [
      "La suma de los dos numeros es: 90\n",
      "La resta de los dos numeros es: 10\n",
      "La multiplicacion de los dos numeros es: 2000\n",
      "La division de los dos numeros es: 1\n",
      "El residuo de los dos numeros es: 10\n",
      "La potencia de los numeros es: 90949470177292823791503906250000000000000000000000000000000000000000\n"
     ]
    }
   ],
   "source": [
    "Num1 = 50\n",
    "Num2 = 40\n",
    "\n",
    "## Suma\n",
    "puts \"La suma de los dos numeros es: #{Num1 + Num2}\"\n",
    "## Resta\n",
    "puts \"La resta de los dos numeros es: #{Num1 - Num2}\"\n",
    "## Multiplicacion\n",
    "puts \"La multiplicacion de los dos numeros es: #{Num1 * Num2}\"\n",
    "## Division\n",
    "puts \"La division de los dos numeros es: #{Num1 / Num2}\"\n",
    "## Residuo\n",
    "puts \"El residuo de los dos numeros es: #{Num1 % Num2}\"\n",
    "## Potencia\n",
    "puts \"La potencia de los numeros es: #{Num1 ** Num2}\"\n",
    "\n"
   ]
  },
  {
   "cell_type": "markdown",
   "metadata": {},
   "source": [
    "Como se puede realizar se puede hacer las operaciones de suma, resta , multiplicacion y division de los diferentes numeros , asi como elevar a la potencia y sacar el residuo "
   ]
  },
  {
   "cell_type": "markdown",
   "metadata": {},
   "source": [
    "#### Operaciones Booleanas"
   ]
  },
  {
   "cell_type": "markdown",
   "metadata": {},
   "source": [
    "En Ruby las Operaciones booleanas no cambia mucho, son muy parecidas a las operaciones booleanas de los demas lenguajes"
   ]
  },
  {
   "cell_type": "code",
   "execution_count": 14,
   "metadata": {},
   "outputs": [
    {
     "name": "stdout",
     "output_type": "stream",
     "text": [
      "false\n",
      "true\n",
      "true\n"
     ]
    }
   ],
   "source": [
    "## Booleanos\n",
    "x = true\n",
    "y = false\n",
    "\n",
    "puts !x ## Negación\n",
    "puts x and y ## Conjunción\n",
    "puts x || y ## Disyunción"
   ]
  },
  {
   "cell_type": "markdown",
   "metadata": {},
   "source": [
    "Cabe destacar la negación puede ser true o false dependiendo del valor booleano que tenga la variable , ya que la negación es lo contrario al valor que tenga el valor\n",
    "\n",
    "Por otro lado de igual manera, es importante destacar que la conjunción es definida como la operación and y la disyunción es definida como la operación or, operaciones las cuales evaluan el valor de las variables a operar, para returnar de mismo modo, un valor booleano"
   ]
  },
  {
   "cell_type": "markdown",
   "metadata": {},
   "source": [
    "#### Comparadores Logicos"
   ]
  },
  {
   "cell_type": "markdown",
   "metadata": {},
   "source": [
    "En ruby como los demas lenguajes de programacion nos ofrece los comparadores Logicos , los cuales nos dan como resultado como un valor booleano , esto nos serviran para hacer condicionales"
   ]
  },
  {
   "cell_type": "code",
   "execution_count": null,
   "metadata": {},
   "outputs": [],
   "source": [
    "== #Es igual a\n",
    "!= #Es distinto a\n",
    "> # Es mayor a\n",
    "< # Es menor a\n",
    ">= # Es mayor o igual a\n",
    "<= # Es menor o igual a"
   ]
  },
  {
   "cell_type": "markdown",
   "metadata": {},
   "source": [
    "Un ejemplo seria compara dos numeros y comprobar si son iguales"
   ]
  },
  {
   "cell_type": "code",
   "execution_count": 17,
   "metadata": {},
   "outputs": [
    {
     "name": "stdout",
     "output_type": "stream",
     "text": [
      "false\n",
      "true\n"
     ]
    }
   ],
   "source": [
    "x = 44\n",
    "y = 36\n",
    "puts (x == y) #No son iguales\n",
    "\n",
    "x2 = 44\n",
    "y2 = 44\n",
    "puts (x2 == y2) # Si son iguales"
   ]
  },
  {
   "cell_type": "markdown",
   "metadata": {},
   "source": [
    "### Condicionales"
   ]
  },
  {
   "cell_type": "markdown",
   "metadata": {},
   "source": [
    "Hablemos de los condicionales en Ruby , la sintaxis es muy sencilla y de nuevo comprando con python son muy parecidos, en el cual definimos un bloque que si se cumple tal condicion que se le puso al bloque l codigo entra al condicional\n",
    "\n",
    "Un ejemplo seria: "
   ]
  },
  {
   "cell_type": "code",
   "execution_count": 19,
   "metadata": {},
   "outputs": [
    {
     "name": "stdout",
     "output_type": "stream",
     "text": [
      "El numeros es Par\n"
     ]
    }
   ],
   "source": [
    "num = 8\n",
    "if(num % 2)\n",
    "  puts \"El numeros es Par\"\n",
    "end"
   ]
  },
  {
   "cell_type": "markdown",
   "metadata": {},
   "source": [
    "Asi de simple es Ruby, delimitamos el final de un bloque de codigo a traves de la palabra reservada end como en julia \n",
    "\n",
    "Otro ejemplo seria: "
   ]
  },
  {
   "cell_type": "code",
   "execution_count": 25,
   "metadata": {},
   "outputs": [
    {
     "name": "stdout",
     "output_type": "stream",
     "text": [
      "El numero es par y es menor que 20\n",
      "El nombre de la persona es: Carlos\n"
     ]
    }
   ],
   "source": [
    "num3 = 18\n",
    "## Condicional con operadores booleanos con and\n",
    "if(num3 % 2 == 0 and num3 <= 20)\n",
    "  puts \"El numero es par y es menor que 20\"\n",
    "end\n",
    "\n",
    "## Condicional con operadores booleanos con or\n",
    "\n",
    "palabra = \"Carlos\"\n",
    "if(palabra == \"Carlos\" or palabra == \"Jose\")\n",
    "  puts \"El nombre de la persona es: #{palabra}\"\n",
    "end"
   ]
  },
  {
   "cell_type": "markdown",
   "metadata": {},
   "source": [
    "A su vez tenemos el if-else el cual podemos tener dos condiciones en la cual si no se cumple una,  se va a la otra condicion"
   ]
  },
  {
   "cell_type": "code",
   "execution_count": 27,
   "metadata": {},
   "outputs": [
    {
     "name": "stdout",
     "output_type": "stream",
     "text": [
      "El numero no es 11, es: 10\n"
     ]
    }
   ],
   "source": [
    "num = 10\n",
    "if(num == 11)\n",
    "  puts \"Es numero es 11\"\n",
    "else\n",
    "  puts \"El numero no es 11, es: #{num}\"\n",
    "end"
   ]
  },
  {
   "cell_type": "markdown",
   "metadata": {},
   "source": [
    "A su vez se le puede colocar un elsif entre el medio del if y else , de esta manera:"
   ]
  },
  {
   "cell_type": "code",
   "execution_count": 28,
   "metadata": {},
   "outputs": [
    {
     "name": "stdout",
     "output_type": "stream",
     "text": [
      "Su nombre es Carlos y su apellido es Santana\n"
     ]
    }
   ],
   "source": [
    "nombre = \"Carlos\"\n",
    "apellido = \"Santana\"\n",
    "\n",
    "if(nombre == \"Jose\" && apellido == \"Santana\")\n",
    "  puts \"Su nombre es #{nombre} y su apellido es #{apellido}\"\n",
    "\n",
    "elsif(nombre == \"Carlos\" && apellido == \"Santana\")\n",
    "  puts \"Su nombre es #{nombre} y su apellido es #{apellido}\"\n",
    "else\n",
    "   puts \"Es un animal \"\n",
    "end"
   ]
  },
  {
   "cell_type": "markdown",
   "metadata": {},
   "source": [
    "Como se puede apreciar los condicionales son muy facil de entender y utilizar para terminar con esta parte veamos el condicional case que es muy parecido al switch de otros lenguajes de programacion"
   ]
  },
  {
   "cell_type": "code",
   "execution_count": 33,
   "metadata": {},
   "outputs": [
    {
     "name": "stdout",
     "output_type": "stream",
     "text": [
      "Esta en el mes de Enero , senior jose\n"
     ]
    }
   ],
   "source": [
    "mes = \"Enero\"\n",
    "nombre = \"jose\"\n",
    "case mes\n",
    "when \"Enero\"\n",
    "    puts \"Esta en el mes de Enero , senior #{nombre}\"\n",
    "\n",
    "when \"Febrero\"\n",
    "  puts \"Esta en el mes de Febrero , senior #{nombre}\"\n",
    "\n",
    "when \"Marzo\"\n",
    "  puts \"Esta en el mes de Marzo , senior #{nombre}\"\n",
    "\n",
    "when \"April\"\n",
    "  puts \"Esta en el mes de April , senior #{nombre}\"\n",
    "\n",
    "end"
   ]
  },
  {
   "cell_type": "markdown",
   "metadata": {},
   "source": [
    "### Bucles"
   ]
  },
  {
   "cell_type": "markdown",
   "metadata": {},
   "source": [
    "En ruby los bucles o ciclos son muy parecidos a los de python donde un bucle se repite varias veces hasta que se cumplen una condición en especifica , algunos bucles que hay en en ruby son:"
   ]
  },
  {
   "cell_type": "markdown",
   "metadata": {},
   "source": [
    "#### For"
   ]
  },
  {
   "cell_type": "markdown",
   "metadata": {},
   "source": [
    "El ciclo o bucle for es el mas clasico de todo el cual se repite varias veces hasta que se cumpla una condicion o cunado llegue a su limite de vuletas o interacciones , por ejemplo: "
   ]
  },
  {
   "cell_type": "code",
   "execution_count": 50,
   "metadata": {},
   "outputs": [
    {
     "name": "stdout",
     "output_type": "stream",
     "text": [
      "Jose\n",
      "Carlos\n",
      "Jesus\n",
      "Angel\n"
     ]
    },
    {
     "data": {
      "text/plain": [
       "[\"Jose\", \"Carlos\", \"Jesus\", \"Angel\"]"
      ]
     },
     "execution_count": 50,
     "metadata": {},
     "output_type": "execute_result"
    }
   ],
   "source": [
    "nombres = [\"Jose\",\"Carlos\",\"Jesus\",\"Angel\"]\n",
    "for nombre in nombres\n",
    "  puts nombre\n",
    "end"
   ]
  },
  {
   "cell_type": "markdown",
   "metadata": {},
   "source": [
    "Otra variante seria utilizar each que seria como el foreach de javascript,php ,etc \n",
    "un ejemplo seria:"
   ]
  },
  {
   "cell_type": "code",
   "execution_count": 51,
   "metadata": {},
   "outputs": [
    {
     "name": "stdout",
     "output_type": "stream",
     "text": [
      "1\n",
      "2\n",
      "3\n",
      "4\n",
      "5\n",
      "6\n",
      "7\n",
      "8\n",
      "9\n",
      "10\n"
     ]
    },
    {
     "data": {
      "text/plain": [
       "[1, 2, 3, 4, 5, 6, 7, 8, 9, 10]"
      ]
     },
     "execution_count": 51,
     "metadata": {},
     "output_type": "execute_result"
    }
   ],
   "source": [
    "numeros = [1,2,3,4,5,6,7,8,9,10]\n",
    "numeros.each do |numero|\n",
    "  puts numero\n",
    "end"
   ]
  },
  {
   "cell_type": "markdown",
   "metadata": {},
   "source": [
    "Prácticamente es una manera de hacer un ciclo de manera funcional, ahora vamos a recorrer un hashes o mejor dicho un diccionario con each"
   ]
  },
  {
   "cell_type": "code",
   "execution_count": 52,
   "metadata": {},
   "outputs": [
    {
     "name": "stdout",
     "output_type": "stream",
     "text": [
      "El auto nissan es de color rojo\n",
      "El auto chevrolet es de color azul\n",
      "El auto volkswagen es de color verde\n",
      "El auto susuki es de color amarillo\n",
      "El auto ford es de color negro\n",
      "El auto kia es de color blanco\n"
     ]
    },
    {
     "data": {
      "text/plain": [
       "{nissan: \"rojo\", chevrolet: \"azul\", volkswagen: \"verde\", susuki: \"amarillo\", ford: \"negro\", kia: \"blanco\"}"
      ]
     },
     "execution_count": 52,
     "metadata": {},
     "output_type": "execute_result"
    }
   ],
   "source": [
    "autos_colores = {\n",
    "  nissan: 'rojo',\n",
    "  chevrolet: 'azul',\n",
    "  volkswagen: 'verde',\n",
    "  susuki: 'amarillo',\n",
    "  ford: 'negro',\n",
    "  kia: 'blanco'\n",
    "}\n",
    "\n",
    "autos_colores.each do |key, value|\n",
    "  puts \"El auto #{key} es de color #{value}\"\n",
    "end"
   ]
  },
  {
   "cell_type": "markdown",
   "metadata": {},
   "source": [
    "### While"
   ]
  },
  {
   "cell_type": "markdown",
   "metadata": {},
   "source": [
    "El ciclo o bucle while este bucle funciona que se seguira hasta cumplir una condición como tal , un ejemplo seria:"
   ]
  },
  {
   "cell_type": "code",
   "execution_count": 53,
   "metadata": {},
   "outputs": [
    {
     "name": "stdout",
     "output_type": "stream",
     "text": [
      "0\n",
      "1\n",
      "2\n",
      "3\n",
      "4\n",
      "5\n",
      "6\n",
      "7\n",
      "8\n",
      "9\n",
      "10\n"
     ]
    }
   ],
   "source": [
    "numero = 0\n",
    "while (numero <= 10)\n",
    "    puts numero\n",
    "    numero += 1\n",
    "end"
   ]
  },
  {
   "cell_type": "markdown",
   "metadata": {},
   "source": [
    "Otro ejemplo:"
   ]
  },
  {
   "cell_type": "code",
   "execution_count": 59,
   "metadata": {},
   "outputs": [
    {
     "name": "stdout",
     "output_type": "stream",
     "text": [
      "2\n",
      "4\n",
      "6\n",
      "8\n",
      "10\n",
      "12\n",
      "14\n",
      "16\n"
     ]
    }
   ],
   "source": [
    "numero = 0\n",
    "while(numero <= 15)\n",
    "  numero += 1\n",
    "  if(numero % 2 == 0)\n",
    "    puts numero\n",
    "  else\n",
    "    next # Se salta los numeros impares\n",
    "  end\n",
    "end"
   ]
  },
  {
   "cell_type": "markdown",
   "metadata": {},
   "source": [
    "#### Begin-while"
   ]
  },
  {
   "cell_type": "markdown",
   "metadata": {},
   "source": [
    "este ciclo o bucle es muy parecido al do-while donde el ciclo se repetira si se cumple la condicion, un ejmeplo de este ciclo seria:"
   ]
  },
  {
   "cell_type": "code",
   "execution_count": 63,
   "metadata": {},
   "outputs": [
    {
     "name": "stdout",
     "output_type": "stream",
     "text": [
      "2\n",
      "4\n",
      "6\n"
     ]
    }
   ],
   "source": [
    "num = 1\n",
    "begin \n",
    "  num += 1\n",
    "  if(num % 2 == 0)\n",
    "    if(num == 8)\n",
    "      break #Rompe el ciclo\n",
    "    else\n",
    "      puts num\n",
    "    end\n",
    "  end\n",
    "end while num < 12"
   ]
  },
  {
   "cell_type": "markdown",
   "metadata": {},
   "source": [
    "En el ejemplo colocamos condicionales si que el numero es par se imprime el numero pero si el num es 8 rompe el ciclo con break"
   ]
  },
  {
   "cell_type": "markdown",
   "metadata": {},
   "source": [
    "### Until"
   ]
  },
  {
   "cell_type": "markdown",
   "metadata": {},
   "source": [
    "Este bucle o ciclo es muy parecido al while ya que tiene la misma la estructura si no se cumple la condicion el ciclo no va a parar , un ejemplo seria:"
   ]
  },
  {
   "cell_type": "code",
   "execution_count": 70,
   "metadata": {},
   "outputs": [
    {
     "name": "stdout",
     "output_type": "stream",
     "text": [
      "0\n",
      "1\n",
      "2\n",
      "3\n",
      "4\n",
      "5\n"
     ]
    }
   ],
   "source": [
    "numero = 0\n",
    "\n",
    "until numero > 5\n",
    "  puts numero\n",
    "  numero += 1\n",
    "end"
   ]
  },
  {
   "cell_type": "markdown",
   "metadata": {},
   "source": [
    "Si notas su función, así como unless es la negación de if, until es la negación del while, ya que until se va a ejecutar mientras la condición sea falsa, cuando la condición se evalúe como verdadera el ciclo se termina."
   ]
  }
 ],
 "metadata": {
  "kernelspec": {
   "display_name": "Ruby 3 (iruby kernel)",
   "language": "ruby",
   "name": "ruby3"
  },
  "language_info": {
   "file_extension": ".rb",
   "mimetype": "application/x-ruby",
   "name": "ruby",
   "version": "3.4.1"
  }
 },
 "nbformat": 4,
 "nbformat_minor": 2
}
