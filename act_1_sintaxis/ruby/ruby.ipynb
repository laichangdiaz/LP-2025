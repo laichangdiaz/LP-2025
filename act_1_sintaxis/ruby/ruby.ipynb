{
 "cells": [
  {
   "cell_type": "markdown",
   "metadata": {},
   "source": [
    "Asignación Grupal - Lenguaje de Progrmación <br>\n",
    "Universidad José Antonio Paéz\n"
   ]
  },
  {
   "cell_type": "markdown",
   "metadata": {},
   "source": [
    "### Integrantes <hr>\n",
    "Jose Santana 31.608.829 <br>\n",
    "Lai Chang 30.335.078 <br>\n",
    "Juan Wu 30.391.117 <br>\n",
    "Cesar Dominguez 30.648.830 <br>\n",
    "Alejandro Chavez 32.278.392 <br>"
   ]
  },
  {
   "cell_type": "markdown",
   "metadata": {},
   "source": [
    "## Principios Basicos en Ruby"
   ]
  },
  {
   "cell_type": "markdown",
   "metadata": {},
   "source": [
    "#### ¿Qué es Ruby?"
   ]
  },
  {
   "cell_type": "markdown",
   "metadata": {},
   "source": [
    "Ruby es un lenguaje de programación dinámico y de codigo abierto enfocado en la simplicidad y productividad. Su elegante sintaxis se siente natural al leerla y facil al escribirla. "
   ]
  },
  {
   "cell_type": "markdown",
   "metadata": {},
   "source": [
    "#### Variables y tipos de datos"
   ]
  },
  {
   "cell_type": "markdown",
   "metadata": {},
   "source": [
    "Para definir una variable en Ruby, es muy parecido a python , primero se define el nombre de la variable y despues con el signo \"=\" definimos el valor de la variable"
   ]
  },
  {
   "cell_type": "code",
   "execution_count": null,
   "metadata": {},
   "outputs": [],
   "source": [
    "mi_variable = \"Hola Ruby\"\n",
    "mi_variable = 40\n",
    "mi_variable = true"
   ]
  },
  {
   "cell_type": "markdown",
   "metadata": {},
   "source": [
    "Para Imprimir una el valor de las variables por consola hacemos lo siguiente:"
   ]
  },
  {
   "cell_type": "code",
   "execution_count": 1,
   "metadata": {},
   "outputs": [
    {
     "name": "stdout",
     "output_type": "stream",
     "text": [
      "Hola Ruby\n"
     ]
    }
   ],
   "source": [
    "## Utilizamos puts \n",
    "mi_variable = \"Hola Ruby\"\n",
    "puts mi_variable"
   ]
  },
  {
   "cell_type": "markdown",
   "metadata": {},
   "source": [
    "#### Cadena"
   ]
  },
  {
   "cell_type": "markdown",
   "metadata": {},
   "source": [
    "La clase para cadenas de texto en Ruby es String y se puede declarar simplemente usando los caracteres '' y \"\" la diferencia entre saber cual usar "
   ]
  },
  {
   "cell_type": "code",
   "execution_count": 2,
   "metadata": {},
   "outputs": [
    {
     "name": "stdout",
     "output_type": "stream",
     "text": [
      "Hola Rey me llamo jose\n"
     ]
    }
   ],
   "source": [
    "Cadena = \"Hola Rey me llamo jose\"\n",
    "puts Cadena"
   ]
  },
  {
   "cell_type": "markdown",
   "metadata": {},
   "source": [
    "#### Numeros"
   ]
  },
  {
   "cell_type": "markdown",
   "metadata": {},
   "source": [
    "En este caso tenemos distintos casos que son: "
   ]
  },
  {
   "cell_type": "markdown",
   "metadata": {},
   "source": [
    "##### Finxnum"
   ]
  },
  {
   "cell_type": "code",
   "execution_count": 3,
   "metadata": {},
   "outputs": [
    {
     "name": "stdout",
     "output_type": "stream",
     "text": [
      "El numero normal es: 8\n"
     ]
    }
   ],
   "source": [
    "# Representa Numeros Normales\n",
    "numero_1 = 8\n",
    "puts \"El numero normal es: #{numero_1}\""
   ]
  },
  {
   "cell_type": "markdown",
   "metadata": {},
   "source": [
    "##### Bignum"
   ]
  },
  {
   "cell_type": "code",
   "execution_count": 4,
   "metadata": {},
   "outputs": [
    {
     "name": "stdout",
     "output_type": "stream",
     "text": [
      "El numero grande es: 99999291\n"
     ]
    }
   ],
   "source": [
    "# Representa Numeros grandes\n",
    "NumeroGrande = 99999291\n",
    "puts \"El numero grande es: #{NumeroGrande}\""
   ]
  },
  {
   "cell_type": "markdown",
   "metadata": {},
   "source": [
    "##### Float"
   ]
  },
  {
   "cell_type": "code",
   "execution_count": 5,
   "metadata": {},
   "outputs": [
    {
     "name": "stdout",
     "output_type": "stream",
     "text": [
      "El numero decimal es: 7.0\n"
     ]
    }
   ],
   "source": [
    "# Representa Numeros decimales\n",
    "NumeroDecimal = 7.0\n",
    "puts \"El numero decimal es: #{NumeroDecimal}\""
   ]
  },
  {
   "cell_type": "markdown",
   "metadata": {},
   "source": [
    "##### Complex"
   ]
  },
  {
   "cell_type": "code",
   "execution_count": 6,
   "metadata": {},
   "outputs": [
    {
     "name": "stdout",
     "output_type": "stream",
     "text": [
      "El numero imaginario es: 2+7i\n"
     ]
    }
   ],
   "source": [
    "# Representa Numeros imaginarios o que supone un valor\n",
    "NumeroImaginario = 2 + 7i\n",
    "puts \"El numero imaginario es: #{NumeroImaginario}\""
   ]
  },
  {
   "cell_type": "markdown",
   "metadata": {},
   "source": [
    "##### BigDecimal"
   ]
  },
  {
   "cell_type": "code",
   "execution_count": 7,
   "metadata": {},
   "outputs": [
    {
     "name": "stdout",
     "output_type": "stream",
     "text": [
      "El numero decimal es: 8.87\n"
     ]
    }
   ],
   "source": [
    "# Representa numeros decimales precisos\n",
    "numeroBigdecimal = 8.87\n",
    "puts \"El numero decimal es: #{numeroBigdecimal}\""
   ]
  },
  {
   "cell_type": "markdown",
   "metadata": {},
   "source": [
    "#### Booleanos"
   ]
  },
  {
   "cell_type": "markdown",
   "metadata": {},
   "source": [
    "Como todo lenguaje de programacion existe el dato booleano el cual tiene dos resultados posibles: true o false"
   ]
  },
  {
   "cell_type": "code",
   "execution_count": 9,
   "metadata": {},
   "outputs": [
    {
     "name": "stdout",
     "output_type": "stream",
     "text": [
      "El valor de la primera variables es: true\n",
      "El valor de la segunda variables es: false\n"
     ]
    }
   ],
   "source": [
    "Mi_variable = true\n",
    "Mi_variable_2 = false\n",
    "\n",
    "puts \"El valor de la primera variables es: #{Mi_variable}\"\n",
    "puts \"El valor de la segunda variables es: #{Mi_variable_2}\""
   ]
  },
  {
   "cell_type": "markdown",
   "metadata": {},
   "source": [
    "#### Arrays"
   ]
  },
  {
   "cell_type": "markdown",
   "metadata": {},
   "source": [
    "Un array o matriz , puede contener una lista de valores o datos. Pueden ser de diferentes tipos de datos, están separados por comas y encerrados entre corchetes. "
   ]
  },
  {
   "cell_type": "code",
   "execution_count": 11,
   "metadata": {},
   "outputs": [
    {
     "name": "stdout",
     "output_type": "stream",
     "text": [
      "Call of Duty\n",
      "3\n"
     ]
    }
   ],
   "source": [
    "nombres_Juegos = [\"Call of Duty\", \"Fifa 16\", \"Medal of Honor\"]\n",
    "## Para obtner un valor colocamos nombres_juegos[indice]\n",
    "puts nombres_Juegos[0]\n",
    "\n",
    "## Para obtener la longitud de la lista utilizamos length\n",
    "puts nombres_Juegos.length"
   ]
  }
 ],
 "metadata": {
  "kernelspec": {
   "display_name": "Ruby 3 (iruby kernel)",
   "language": "ruby",
   "name": "ruby3"
  },
  "language_info": {
   "file_extension": ".rb",
   "mimetype": "application/x-ruby",
   "name": "ruby",
   "version": "3.4.1"
  }
 },
 "nbformat": 4,
 "nbformat_minor": 2
}
