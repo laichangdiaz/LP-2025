{
 "cells": [
  {
   "cell_type": "markdown",
   "id": "ae77fce1-d7e9-4dd4-8099-2b2c71a42811",
   "metadata": {
    "tags": []
   },
   "source": [
    "Asignación Grupal - Lenguaje de Programacion  \n",
    "Universidad José Antonio Páez  \n",
    "\n",
    "---\n",
    "\n",
    "# Principios básicos de **Rust**\n"
   ]
  },
  {
   "cell_type": "markdown",
   "metadata": {},
   "source": [
    "--- \n",
    "### Integrantes \n",
    "- Jose Santana 31.608.829  \n",
    "- Lai Chang 30.335.078  \n",
    "- Juan Wu 30.391.117  \n",
    "- Cesar Dominguez 30.648.830  \n",
    "- Alejandro Chavez 32.278.392  \n",
    "---"
   ]
  },
  {
   "cell_type": "markdown",
   "metadata": {},
   "source": [
    "Para comenzar en el lenguaje rust se necesita una sintaxis basica"
   ]
  },
  {
   "cell_type": "markdown",
   "id": "3f81e0a2-5f3c-4528-8612-1f49a895496b",
   "metadata": {
    "tags": []
   },
   "source": [
    "### **VARIABLES** y **TIPOS DE DATOS**"
   ]
  },
  {
   "cell_type": "markdown",
   "id": "a9153346-4988-40fe-b130-ee3bb3081c5d",
   "metadata": {},
   "source": [
    "Para crear variables simplemente existen dos tipos de variables las contantes o las variables mutables e inmutables"
   ]
  },
  {
   "cell_type": "code",
   "execution_count": null,
   "id": "f549f0fa-0852-4218-b7fd-7da15ef4b4de",
   "metadata": {
    "tags": [],
    "vscode": {
     "languageId": "rust"
    }
   },
   "outputs": [],
   "source": [
    "const uno = 1;\n",
    "let dos = 2; // Inmutable\n",
    "let mut dos = 3 // Mutable"
   ]
  },
  {
   "cell_type": "markdown",
   "metadata": {},
   "source": [
    "La importancia de la mutabilidad viene dada en cuanto a si la variable puede cambiar o no, si es inmutable la variable no se le puede asignar un nuevo valor mientras que si se le agrega esa palabra mut pasa a ser mutable y su valor varia, cada uno se usa dependiendo de que caso se presente"
   ]
  },
  {
   "cell_type": "markdown",
   "id": "197a88d1-2b83-455d-85a5-68ab54ffb368",
   "metadata": {},
   "source": [
    "#### **Tipo de dato**"
   ]
  },
  {
   "cell_type": "markdown",
   "metadata": {},
   "source": [
    "El tipo de dato en Rust es algo mas complejo si deseas declararlo, ya que rust tiene la flexibilidad de declararlo y darle un tipo de dato predeterminado o tu mismo darle un tipo de dato especifico"
   ]
  },
  {
   "cell_type": "markdown",
   "metadata": {},
   "source": [
    "#### Numericos"
   ]
  },
  {
   "cell_type": "markdown",
   "metadata": {},
   "source": [
    "Para declarar un tipo numero hay dos clases, entero o flotante, el entero se divide en 6 tipos de enteros, desde 8-bits hasta 128-bits y agregandole el arch, cada uno con su respectiva nomenclatura"
   ]
  },
  {
   "cell_type": "code",
   "execution_count": null,
   "metadata": {
    "vscode": {
     "languageId": "rust"
    }
   },
   "outputs": [],
   "source": [
    "Tamaño\tSigned\tUnsigned\n",
    "8-bit\ti8\t    u8\n",
    "16-bit\ti16\t    u16\n",
    "32-bit\ti32\t    u32\n",
    "64-bit\ti64\t    u64\n",
    "128-bit\ti128\tu128\n",
    "arch\tisize\tusize"
   ]
  },
  {
   "cell_type": "markdown",
   "metadata": {},
   "source": [
    "Para el tipo flotante solo existen dos variables: f32 y f64. Cada uno indicando de 32-bits y 64-bits"
   ]
  },
  {
   "cell_type": "code",
   "execution_count": null,
   "metadata": {
    "vscode": {
     "languageId": "rust"
    }
   },
   "outputs": [],
   "source": [
    "fn main() {\n",
    "    let x = 2.0; // f64\n",
    "\n",
    "    let y: f32 = 3.0; // f32\n",
    "}"
   ]
  },
  {
   "cell_type": "markdown",
   "metadata": {},
   "source": [
    "#### Booleanos"
   ]
  },
  {
   "cell_type": "markdown",
   "metadata": {},
   "source": [
    "Para el booleano existen dos afirmaciones, true o false, indicando si la variable es verdadera o falsa."
   ]
  },
  {
   "cell_type": "code",
   "execution_count": null,
   "metadata": {
    "vscode": {
     "languageId": "rust"
    }
   },
   "outputs": [],
   "source": [
    "fn main() {\n",
    "    let t = true;\n",
    "\n",
    "    let f: bool = false; // with explicit type annotation\n",
    "}"
   ]
  },
  {
   "cell_type": "markdown",
   "metadata": {},
   "source": [
    "#### Caracter"
   ]
  },
  {
   "cell_type": "markdown",
   "metadata": {},
   "source": [
    "El tipo caracter se indica por una sola letra o valor"
   ]
  },
  {
   "cell_type": "code",
   "execution_count": null,
   "metadata": {
    "vscode": {
     "languageId": "rust"
    }
   },
   "outputs": [],
   "source": [
    "fn main() {\n",
    "    let c = 'z';\n",
    "    let z: char = 'ℤ';\n",
    "    let heart_eyed_cat = '😻';\n",
    "}"
   ]
  },
  {
   "cell_type": "markdown",
   "metadata": {},
   "source": [
    "#### Arreglos"
   ]
  },
  {
   "cell_type": "markdown",
   "metadata": {},
   "source": [
    "Los arreglos es una parte fundamental ya que permite almacenar distintos tipos de variables en un solo conjunto y poder manejarlos"
   ]
  },
  {
   "cell_type": "code",
   "execution_count": null,
   "metadata": {
    "vscode": {
     "languageId": "rust"
    }
   },
   "outputs": [],
   "source": [
    "fn main() {\n",
    "    let a = [1, 2, 3, 4, 5];\n",
    "        \n",
    "    // Declarando su tipo de dato y cantidad de elementos\n",
    "    let b: [i32; 5] = [1, 2, 3, 4, 5];\n",
    "}"
   ]
  },
  {
   "cell_type": "markdown",
   "metadata": {},
   "source": [
    "#### Tupla"
   ]
  },
  {
   "cell_type": "markdown",
   "metadata": {},
   "source": [
    "Una tupla es una forma general de agrupar varios valores de distintos tipos en un tipo compuesto. Las tuplas tienen una longitud fija: una vez declaradas, su tamaño no puede aumentar ni disminuir."
   ]
  },
  {
   "cell_type": "code",
   "execution_count": null,
   "metadata": {
    "vscode": {
     "languageId": "rust"
    }
   },
   "outputs": [],
   "source": [
    "fn main() {\n",
    "    let tup: (i32, f64, u8) = (500, 6.4, 1);\n",
    "\n",
    "    // Acceso a los elementos de la tupla\n",
    "    let primero = tup.0;\n",
    "}"
   ]
  },
  {
   "cell_type": "markdown",
   "id": "f8886397-0758-441b-9fc8-782969980a1d",
   "metadata": {},
   "source": [
    "---"
   ]
  },
  {
   "cell_type": "markdown",
   "id": "5855b006-9383-45db-ab20-2b918219b331",
   "metadata": {
    "tags": []
   },
   "source": [
    "### **ARITMÉTICA**"
   ]
  },
  {
   "cell_type": "markdown",
   "id": "b01ad0ca-1d3c-4ce9-abc9-12b6d1052309",
   "metadata": {
    "tags": []
   },
   "source": [
    "##### Operadores Aritméticos"
   ]
  },
  {
   "cell_type": "markdown",
   "id": "70a930b7-1e03-4159-b42c-d655f2c34f3d",
   "metadata": {
    "tags": []
   },
   "source": [
    "La operaciones que se pueden realizar en Rust no son muy diferentes a otros lenguajes de programación."
   ]
  },
  {
   "cell_type": "code",
   "execution_count": null,
   "id": "d74b4ab4-714f-41fa-9893-476625d12c0a",
   "metadata": {
    "tags": [],
    "vscode": {
     "languageId": "rust"
    }
   },
   "outputs": [],
   "source": [
    "fn main() {\n",
    "    // Suma\n",
    "    let sum = 5 + 10;\n",
    "\n",
    "    // Resta\n",
    "    let resta = 95.5 - 4.3;\n",
    "\n",
    "    // Multiplicacion\n",
    "    let multi = 4 * 30;\n",
    "\n",
    "    // Division\n",
    "    let decimal = 56.7 / 32.2;\n",
    "    let entero = -5 / 3; // Resultado in -1\n",
    "\n",
    "    // Residuo\n",
    "    let res = 43 % 5;\n",
    "}"
   ]
  },
  {
   "cell_type": "markdown",
   "id": "650c7dff-6a96-4bc6-a650-ddf39dce9c44",
   "metadata": {},
   "source": [
    "Se pueden observar operaciones nuevas como la **división inversa** la cual invierte el numerador y el denominador, y los divide,\n",
    "es decir x \\ y = y / x. Tambien tenemos **división entera** la cual nos devuelve la parte entera de la división. Tenemos el **residuo**\n",
    "que nos devuelve el residuo de una división, y por ultimo el **inversor** que invierte el signo que tenga el número."
   ]
  },
  {
   "cell_type": "markdown",
   "id": "01b21d13-3654-4b6b-af27-b7ca08968d9d",
   "metadata": {
    "tags": []
   },
   "source": [
    "##### Operadores Booleanos"
   ]
  },
  {
   "cell_type": "markdown",
   "id": "4a7fc1d5",
   "metadata": {},
   "source": [
    "En Rust contamos con distintos Operadores Booleanos, los cuales permiten las distintas operaciones lógicas de conjuntos matemáticos."
   ]
  },
  {
   "cell_type": "code",
   "execution_count": null,
   "id": "ae50885b-f376-4cad-b96b-700f71790860",
   "metadata": {
    "vscode": {
     "languageId": "rust"
    }
   },
   "outputs": [],
   "source": [
    "x = true\n",
    "y = false\n",
    "\n",
    "!x #Negación\n",
    "x && y #Conjunción\n",
    "x || d #Disyunción"
   ]
  },
  {
   "cell_type": "markdown",
   "id": "0ccc2ee1",
   "metadata": {},
   "source": [
    "Cabe recordar que la negación, como viene definida por las operaciones lógicas, puede cambiar el valor booleano de cualquier variable (de **true** a **false** y viceversa).\n",
    "\n",
    "Por otro lado de igual manera, es importante destacar que la conjunción es definida como la operación **and** y la disyunción es definida como la operación **or**, operaciones las cuales evaluan el valor de las variables a operar, para returnar de mismo modo, un valor booleano\n",
    " "
   ]
  },
  {
   "cell_type": "markdown",
   "id": "ef961551",
   "metadata": {},
   "source": [
    "##### Comparadores Lógicos"
   ]
  },
  {
   "cell_type": "markdown",
   "id": "4a058c8c",
   "metadata": {},
   "source": [
    "Tambien se nos ofrece los comparadores típicos de variables, los cuales nos dan como resultado un valor Booleano."
   ]
  },
  {
   "cell_type": "code",
   "execution_count": null,
   "id": "e77f3fa9",
   "metadata": {
    "vscode": {
     "languageId": "rust"
    }
   },
   "outputs": [],
   "source": [
    "== #Es igual a\n",
    "!= #No es igual a\n",
    "< #Menor que\n",
    "> #Mayor que\n",
    "<= , ≤ #Menor o igual que\n",
    ">=, ≥ #Mayor o igual que"
   ]
  },
  {
   "cell_type": "markdown",
   "id": "9d0cd976",
   "metadata": {},
   "source": [
    "Un ejemplo de uso:"
   ]
  },
  {
   "cell_type": "code",
   "execution_count": 26,
   "id": "8c1ef72b",
   "metadata": {
    "vscode": {
     "languageId": "rust"
    }
   },
   "outputs": [
    {
     "name": "stdout",
     "output_type": "stream",
     "text": [
      "false"
     ]
    }
   ],
   "source": [
    "const x = 73\n",
    "const y = 54\n",
    "\n",
    "println!(x == y)"
   ]
  },
  {
   "cell_type": "markdown",
   "id": "b0efbcb3",
   "metadata": {},
   "source": [
    "Rust cuenta con una novedad que muy pocos lenguajes de programación contienen, y es la cadena de comparadores. Por ejemplo:"
   ]
  },
  {
   "cell_type": "code",
   "execution_count": 28,
   "id": "46f290f5",
   "metadata": {
    "vscode": {
     "languageId": "rust"
    }
   },
   "outputs": [
    {
     "name": "stdout",
     "output_type": "stream",
     "text": [
      "true\n"
     ]
    }
   ],
   "source": [
    "a = 5\n",
    "b = 10\n",
    "c = 15\n",
    "\n",
    "let resultado = a < b < c #La variable resultado recibirá un valor booleano definido por la cadena de comparadores\n",
    "println!(resultado)"
   ]
  },
  {
   "cell_type": "markdown",
   "id": "f552e450",
   "metadata": {},
   "source": [
    "---"
   ]
  },
  {
   "cell_type": "markdown",
   "id": "953f59cc",
   "metadata": {
    "tags": []
   },
   "source": [
    "### **CONDICIONALES**"
   ]
  },
  {
   "cell_type": "markdown",
   "id": "6f9e7da4",
   "metadata": {},
   "source": [
    "La estructura básica de los condicionales en Rust permiten evaluar una o varias condiciones y ejecutar diferentes bloques de código en función del resultado de esas evaluaciones. La estructura básica de los condicionales incluye:"
   ]
  },
  {
   "cell_type": "markdown",
   "id": "af294238",
   "metadata": {},
   "source": [
    "##### '**if**' -> Ejecuta un bloque de código si la condición es verdadera.  \n",
    "##### '**elseif**' -> Permite múltiples condiciones.  \n",
    "##### '**else**' -> Proporciona una ruta de ejecución si las condiciones anteriores son falsas.  "
   ]
  },
  {
   "cell_type": "markdown",
   "id": "8f20d9b6",
   "metadata": {},
   "source": [
    "A continuación se muestra un código de ejemplo:"
   ]
  },
  {
   "cell_type": "code",
   "execution_count": null,
   "id": "9b51696b",
   "metadata": {
    "vscode": {
     "languageId": "rust"
    }
   },
   "outputs": [],
   "source": [
    "const x = 7\n",
    "\n",
    "if x > 10{\n",
    "    println(\"x es mayor que 10\")}\n",
    "else if x > 5{\n",
    "    println(\"x es mayor que 5 pero menor o igual a 10\")}\n",
    "else{\n",
    "    println(\"x es menor o igual a 5\")}"
   ]
  },
  {
   "cell_type": "markdown",
   "id": "848d376e",
   "metadata": {},
   "source": [
    "Además cabe destacar, que para la estructuración de condicionales es muy común usar los distintos operadores y comparadores lógicos, vistos en la sección de Aritmética."
   ]
  },
  {
   "cell_type": "markdown",
   "id": "a564f9fe",
   "metadata": {},
   "source": [
    "---"
   ]
  },
  {
   "cell_type": "markdown",
   "id": "8af54c53",
   "metadata": {
    "tags": []
   },
   "source": [
    "### **BUCLES O CICLOS**"
   ]
  },
  {
   "cell_type": "markdown",
   "id": "60d605c4",
   "metadata": {},
   "source": [
    "Los bucles son una herramienta muy importante en la programación, ya que nos permiten ejecutar un bloque de código varias veces seguidas, que nos ayudan a recorrer listas,arreglos y hacer operaciones varias veces, los bucles se comporta como \n",
    "un ciclo repetitivo en el cual nosotros le colocamos el punto de parada."
   ]
  },
  {
   "cell_type": "markdown",
   "id": "9e9245bc",
   "metadata": {},
   "source": [
    "A traves de esta breve introduccion a los bucles, vamos a hablar como se comporta los bucles en el lenguaje de\n",
    "programacion rust, hablaremos de su funcionamiento,sintaxis y entre otras cosas"
   ]
  },
  {
   "cell_type": "markdown",
   "id": "71043fbd",
   "metadata": {},
   "source": [
    "Los bucles que se maneja en el lenguaje **Rust** son: \n",
    "\n",
    "-El bucle o ciclo For o loop  \n",
    "\n",
    "-El bucle o ciclo While"
   ]
  },
  {
   "cell_type": "markdown",
   "id": "fa8343f9",
   "metadata": {
    "tags": []
   },
   "source": [
    "#### **Loop**"
   ]
  },
  {
   "cell_type": "code",
   "execution_count": null,
   "id": "2b19ce17",
   "metadata": {
    "vscode": {
     "languageId": "rust"
    }
   },
   "outputs": [],
   "source": [
    "#Demostración\n",
    "\n",
    "fn main() {\n",
    "    let mut counter = 0;\n",
    "\n",
    "    let result = loop {\n",
    "        counter += 1;\n",
    "\n",
    "        if counter == 10 {\n",
    "            break counter * 2;\n",
    "        }\n",
    "    };\n",
    "\n",
    "    println!(\"The result is {result}\");\n",
    "}"
   ]
  },
  {
   "cell_type": "markdown",
   "id": "4c4a3a25",
   "metadata": {},
   "source": [
    "Podemos observar que se declara el ciclo for en este caso como 'loop' y se le va aumentando un contador, junto a un condicional se controla el flujo de ese ciclo y cuando se cumple la condicion se declara break y devuelve el valor a la variable indicada"
   ]
  },
  {
   "cell_type": "code",
   "execution_count": null,
   "metadata": {
    "vscode": {
     "languageId": "rust"
    }
   },
   "outputs": [],
   "source": [
    "fn main() {\n",
    "    let mut count = 0;\n",
    "    'counting_up: loop {\n",
    "        println!(\"count = {count}\");\n",
    "        let mut remaining = 10;\n",
    "\n",
    "        loop {\n",
    "            println!(\"remaining = {remaining}\");\n",
    "            if remaining == 9 {\n",
    "                break;\n",
    "            }\n",
    "            if count == 2 {\n",
    "                break 'counting_up;\n",
    "            }\n",
    "            remaining -= 1;\n",
    "        }\n",
    "\n",
    "        count += 1;\n",
    "    }\n",
    "    println!(\"End count = {count}\");\n",
    "}"
   ]
  },
  {
   "cell_type": "markdown",
   "metadata": {},
   "source": [
    "En este caso tenemos dos ciclos y para diferenciarlos se declara el nombre de un ciclo para poder controlar su ciclo."
   ]
  },
  {
   "cell_type": "markdown",
   "id": "2399ac86",
   "metadata": {},
   "source": [
    "#### **While**"
   ]
  },
  {
   "cell_type": "markdown",
   "id": "88fd7d03",
   "metadata": {},
   "source": [
    "En el caso del ciclo While , es un bucle que se van a repetir cuando se cumpla una condicion logica. \n",
    "Lo primero es colocar la palabra **While**,luego colocamos la condición Logica."
   ]
  },
  {
   "cell_type": "code",
   "execution_count": null,
   "id": "96180cc4",
   "metadata": {
    "vscode": {
     "languageId": "rust"
    }
   },
   "outputs": [],
   "source": [
    "fn main() {\n",
    "    let mut number = 3;\n",
    "\n",
    "    while number != 0 {\n",
    "        println!(\"{number}!\");\n",
    "\n",
    "        number -= 1;\n",
    "    }\n",
    "\n",
    "    println!(\"LIFTOFF!!!\");\n",
    "}"
   ]
  },
  {
   "cell_type": "markdown",
   "id": "eee8e0a4",
   "metadata": {},
   "source": [
    "Lo que hace este bloque de codigo es que **While** verifica que i sea menor a 10, si lo cumple se van a realizar las instrucciones\n",
    "que esta dentro del ciclo, pero cuando el i sea mayor de 10 , se rompe el ciclo y nos muestra el resultado."
   ]
  },
  {
   "cell_type": "markdown",
   "id": "ddb9b6fe",
   "metadata": {},
   "source": [
    "Una demostracón mas elaborado del ciclo while, seria saber si un numero es par."
   ]
  },
  {
   "cell_type": "code",
   "execution_count": null,
   "id": "c36ebf29",
   "metadata": {
    "vscode": {
     "languageId": "rust"
    }
   },
   "outputs": [],
   "source": [
    "#Busqueda de numeros pares a traves del while\n",
    "i = 0\n",
    "while i < 10\n",
    "    if i % 2 == 0\n",
    "        println(\"El numero es par: \" *  string( i ))\n",
    "    else\n",
    "        println(\"El numero es impar: \" *  string( i ))\n",
    "    end\n",
    "    \n",
    "    i += 1\n",
    "end"
   ]
  },
  {
   "cell_type": "markdown",
   "id": "3a41a5b7",
   "metadata": {},
   "source": [
    "#### **Bucles Anidados**"
   ]
  },
  {
   "cell_type": "markdown",
   "id": "fe918974",
   "metadata": {},
   "source": [
    "Como en otros lenguajes de programción , tambien en Rust se puede anidar un bucle for dentro de otro y que el while,\n",
    "Rust sabrá reconocer **End** que le corresponde a cada ciclo. "
   ]
  },
  {
   "cell_type": "code",
   "execution_count": null,
   "id": "bcde912f",
   "metadata": {
    "vscode": {
     "languageId": "rust"
    }
   },
   "outputs": [],
   "source": [
    "fn main() {\n",
    "    // Iteramos sobre los números del 1 al 10\n",
    "    for i in 1..=10 {\n",
    "        // Para cada número i, iteramos sobre los números del 1 al 10\n",
    "        for j in 1..=10 {\n",
    "            // Imprimimos el resultado de la multiplicación\n",
    "            print!(\"{} x {} = {}\\t\", i, j, i * j);\n",
    "        }\n",
    "        // Imprimimos una nueva línea después de cada fila de la tabla\n",
    "        println!();\n",
    "    }\n",
    "}"
   ]
  },
  {
   "cell_type": "markdown",
   "metadata": {},
   "source": [
    "--- "
   ]
  },
  {
   "cell_type": "markdown",
   "metadata": {},
   "source": [
    "### FUNCIONES"
   ]
  },
  {
   "cell_type": "markdown",
   "metadata": {},
   "source": [
    "Las Funciones son muy comunes en el código Rust. Ya has visto una de las funciones más importantes del lenguaje: la función main, que es el punto de entrada de muchos programas. También has visto la palabra clave fn, que te permite declarar nuevas funciones."
   ]
  },
  {
   "cell_type": "code",
   "execution_count": null,
   "metadata": {
    "vscode": {
     "languageId": "rust"
    }
   },
   "outputs": [],
   "source": [
    "fn main() {\n",
    "    println!(\"Mundooo!\");\n",
    "\n",
    "    funcion();\n",
    "}\n",
    "\n",
    "fn funcion() {\n",
    "    println!(\"Otra Función\");\n",
    "}"
   ]
  },
  {
   "cell_type": "markdown",
   "metadata": {},
   "source": [
    "Se pueden declarar los parametros iniciales de la funciona que ayudan a pasar valores o variables de una funcion a otra volviendo a la funcion mucho mas versatil"
   ]
  },
  {
   "cell_type": "code",
   "execution_count": null,
   "metadata": {
    "vscode": {
     "languageId": "rust"
    }
   },
   "outputs": [],
   "source": [
    "fn main() {\n",
    "    another_function(5);\n",
    "}\n",
    "\n",
    "fn another_function(x: i32) {\n",
    "    println!(\"The value of x is: {x}\");\n",
    "}"
   ]
  },
  {
   "cell_type": "markdown",
   "metadata": {},
   "source": [
    "Para el retorno de una funcion simplemente se le indica que deberia retornarse sin color el caracteristico punto y coma(;) "
   ]
  },
  {
   "cell_type": "code",
   "execution_count": null,
   "metadata": {
    "vscode": {
     "languageId": "rust"
    }
   },
   "outputs": [],
   "source": [
    "fn main() {\n",
    "    let x = plus_one(5);\n",
    "\n",
    "    println!(\"The value of x is: {x}\");\n",
    "}\n",
    "\n",
    "fn plus_one(x: i32) -> i32 {\n",
    "    x + 1\n",
    "}"
   ]
  }
 ],
 "metadata": {
  "kernelspec": {
   "display_name": "Julia 1.10.2",
   "language": "julia",
   "name": "julia-1.10"
  },
  "language_info": {
   "file_extension": ".jl",
   "mimetype": "application/julia",
   "name": "julia",
   "version": "1.10.3"
  }
 },
 "nbformat": 4,
 "nbformat_minor": 5
}
