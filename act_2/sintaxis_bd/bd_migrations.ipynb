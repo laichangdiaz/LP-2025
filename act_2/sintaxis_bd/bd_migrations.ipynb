{
 "cells": [
  {
   "cell_type": "markdown",
   "metadata": {},
   "source": [
    "## Base de dato: Migración"
   ]
  },
  {
   "cell_type": "markdown",
   "metadata": {},
   "source": [
    "Migración de base de datos es el proceso de Transferir datos, metadatos y esquemas desde una o varias bases de datos de origen a una o más bases de datos de destinos. Esto se hace normalmente mediante un servicio de migración de bases de datos o software/herramientas. Una vez que se completa la migración, el conjunto de datos de las bases de datos de origen se transfiere por completo, posiblemente con reestructuración, a las bases de datos de destino.  \n",
    "  \n",
    "Además, la migración de base de dato permite evolucionar junto con el código de la aplicación de una manera consistente y repetible en todos los entornos (por ejemplo, desarrollo, prueba, producción), al mismo tiempo que se mantiene la compatibilidad con versiones anteriores del esquema. Las migraciones generalmente se escriben en SQL o en un lenguaje independiente de la base de datos y se ejecutan utilizando herramientas de migración como Liquibase, Flyway o funciones ORM integradas como las migraciones de Django o Rails."
   ]
  },
  {
   "cell_type": "markdown",
   "metadata": {},
   "source": [
    "## Referencia"
   ]
  },
  {
   "cell_type": "markdown",
   "metadata": {},
   "source": [
    "Fatima, N. y Haider, K. (2025). **Migración de bases de datos: qué es y cómo realizarla.** Recuperado:  \n",
    "https://www.astera.com/es/type/blog/database-migration-what-it-is-and-how-it-is-done/"
   ]
  }
 ],
 "metadata": {
  "language_info": {
   "name": "python"
  }
 },
 "nbformat": 4,
 "nbformat_minor": 2
}
