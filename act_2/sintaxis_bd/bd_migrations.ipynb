{
 "cells": [
  {
   "cell_type": "markdown",
   "metadata": {},
   "source": [
    "## Base de dato: Migración"
   ]
  },
  {
   "cell_type": "markdown",
   "metadata": {},
   "source": [
    "<center><image src=\"Resource/migracion de base de datos.jpg\" width=350px height=200px></center>"
   ]
  },
  {
   "cell_type": "markdown",
   "metadata": {},
   "source": [
    "Migración de base de datos es el proceso de Transferir datos, metadatos y esquemas desde una o varias bases de datos de origen a una o más bases de datos de destinos. Esto se hace normalmente mediante un servicio de migración de bases de datos o software/herramientas. Una vez que se completa la migración, el conjunto de datos de las bases de datos de origen se transfiere por completo, posiblemente con reestructuración, a las bases de datos de destino.  \n",
    "  \n",
    "Además, la migración de base de dato permite evolucionar junto con el código de la aplicación de una manera consistente y repetible en todos los entornos (por ejemplo, desarrollo, prueba, producción), al mismo tiempo que se mantiene la compatibilidad con versiones anteriores del esquema. Las migraciones generalmente se escriben en SQL o en un lenguaje independiente de la base de datos y se ejecutan utilizando herramientas de migración como Liquibase, Flyway o funciones ORM integradas como las migraciones de Django o Rails."
   ]
  },
  {
   "cell_type": "markdown",
   "metadata": {},
   "source": [
    "### Ejemplo en **Django**"
   ]
  },
  {
   "cell_type": "markdown",
   "metadata": {},
   "source": [
    "Suponiendo que tiene una pagina web que está usando Django y desea migrar tu base de datos SQLite a PostgreSQL, el proceso sería:"
   ]
  },
  {
   "cell_type": "markdown",
   "metadata": {},
   "source": [
    "1. Instalar Psycopg2 (adaptador PostgreSQL):"
   ]
  },
  {
   "cell_type": "code",
   "execution_count": null,
   "metadata": {
    "vscode": {
     "languageId": "plaintext"
    }
   },
   "outputs": [],
   "source": [
    "pip install psycopg"
   ]
  },
  {
   "cell_type": "markdown",
   "metadata": {},
   "source": [
    "Aquí si no ha usado esta librería, debe descargarlo. Y lo ejecuta en consola."
   ]
  },
  {
   "cell_type": "markdown",
   "metadata": {},
   "source": [
    "2. Actualizar 'settings.py' para usar PostgreSQL:"
   ]
  },
  {
   "cell_type": "code",
   "execution_count": null,
   "metadata": {
    "vscode": {
     "languageId": "plaintext"
    }
   },
   "outputs": [],
   "source": [
    "DATABASES = {\n",
    "    'default': {\n",
    "        'ENGINE': 'django.db.backends.postgresql',\n",
    "        'NAME': 'nombre_base_datos',\n",
    "        'USER': 'usuario',\n",
    "        'PASSWORD': 'contraseña',\n",
    "        'HOST': 'localhost',\n",
    "        'PORT': '',\n",
    "    }\n",
    "}"
   ]
  },
  {
   "cell_type": "markdown",
   "metadata": {},
   "source": [
    "3. Crear Migraciones:"
   ]
  },
  {
   "cell_type": "code",
   "execution_count": null,
   "metadata": {
    "vscode": {
     "languageId": "plaintext"
    }
   },
   "outputs": [],
   "source": [
    "python manage.py makemigrations"
   ]
  },
  {
   "cell_type": "markdown",
   "metadata": {},
   "source": [
    "4. Aplicar Migraciones: "
   ]
  },
  {
   "cell_type": "code",
   "execution_count": null,
   "metadata": {
    "vscode": {
     "languageId": "plaintext"
    }
   },
   "outputs": [],
   "source": [
    "python manage.py migrate"
   ]
  },
  {
   "cell_type": "markdown",
   "metadata": {},
   "source": [
    "## Referencia"
   ]
  },
  {
   "cell_type": "markdown",
   "metadata": {},
   "source": [
    "Fatima, N. y Haider, K. (2025). **Migración de bases de datos: qué es y cómo realizarla.** Recuperado:  \n",
    "https://www.astera.com/es/type/blog/database-migration-what-it-is-and-how-it-is-done/"
   ]
  }
 ],
 "metadata": {
  "language_info": {
   "name": "python"
  }
 },
 "nbformat": 4,
 "nbformat_minor": 2
}
