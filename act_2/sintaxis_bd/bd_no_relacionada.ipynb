{
 "cells": [
  {
   "cell_type": "markdown",
   "metadata": {},
   "source": [
    "## Bases de datos no relacionales"
   ]
  },
  {
   "cell_type": "markdown",
   "metadata": {},
   "source": [
    "### ¿Qué es una base de datos no relacional?"
   ]
  },
  {
   "cell_type": "markdown",
   "metadata": {},
   "source": [
    "Son sistemas de almacenamiento de información que se caracteriza por no usar el lenguaje SQL para hacer consultas a la base de datos. Esto no significa que no pueda usar el lenguaje SQL, pero no lo hacen como herramienta de consulta, sino como apoyo. Por ello también se les suele llamar NoSQL.\n",
    "\n",
    "Otra de sus principales caracteristicas es que no trabajan con estructuras definidas, es decir, los datos no se alamcenan en tablas y la información tampoco se organiza e registros o campos"
   ]
  },
  {
   "cell_type": "markdown",
   "metadata": {},
   "source": [
    "### Estructura de una base de datos no relacional"
   ]
  },
  {
   "cell_type": "markdown",
   "metadata": {},
   "source": [
    "Normalmente la estructura de una base de datos relacional se basa en la organización de la información a través de documentos. Este tipo de databases están pensadas para ofrecer mayor escabilidad horinzontal y no tienen identificadores que permitan establecer relaciones entre diferentes conjuntos de datos. \n",
    "\n",
    "Cada uno de los documentos almacenados en la base de datos incluye todos los atributos del elemento, por lo que resultan muy útiles a la hora de guardar información poco estructurada o de la que no se tiene un esquema claro de inicio."
   ]
  },
  {
   "cell_type": "markdown",
   "metadata": {},
   "source": [
    "### Tipos de bases de datos no relacionales"
   ]
  },
  {
   "cell_type": "markdown",
   "metadata": {},
   "source": [
    "#### Clave-Valor"
   ]
  },
  {
   "cell_type": "markdown",
   "metadata": {},
   "source": [
    "Se trata de bases de datos no relacional que almacenan la información en base a pares de clave-valor, es decir, cada clave sirve como un identificador único y a cada una de ellas se le aplica un valor."
   ]
  },
  {
   "cell_type": "markdown",
   "metadata": {},
   "source": [
    "#### Documentos"
   ]
  },
  {
   "cell_type": "markdown",
   "metadata": {},
   "source": [
    "Se trata de una base de datos no relacional basada en documentos la información se representa como objetos o documentos JSON. Su principal ventaja es que los documentos son de naturaleza flexible, semiestructurada y jerárquica, lo que facilita a los desarrolladores las tareas de almacenamiento, gestión y consulta de datos."
   ]
  },
  {
   "cell_type": "markdown",
   "metadata": {},
   "source": [
    "#### Gráficos"
   ]
  },
  {
   "cell_type": "markdown",
   "metadata": {},
   "source": [
    "Se trata de una bases de datos no relacional basada en gráficos están pensadas para crear relaciones y navegar por ellas. Las entidades de datos se almacenan mediante nodos y los bordes son los que crear las relaciones entre entidades."
   ]
  },
  {
   "cell_type": "markdown",
   "metadata": {},
   "source": [
    "#### En memoria"
   ]
  },
  {
   "cell_type": "markdown",
   "metadata": {},
   "source": [
    "Son bases de datos no relacionales diseñadas para ofrecer respuestas en milisegundos y soportar grandes picos de tráfico. Un ejemplo de bases de datos en memoria son las empleadas en tablas de clasificaciones de juegos o en herramientas para hacer análisis en tiempo real."
   ]
  },
  {
   "cell_type": "markdown",
   "metadata": {},
   "source": [
    "## Ejemplos de bases de datos no relacionales"
   ]
  },
  {
   "cell_type": "markdown",
   "metadata": {},
   "source": [
    "## MongoDB"
   ]
  },
  {
   "cell_type": "markdown",
   "metadata": {},
   "source": [
    "### ¿Qué es MongoDB?"
   ]
  },
  {
   "cell_type": "markdown",
   "metadata": {},
   "source": [
    "Es una base de datos NoSQL de código abierto diseñada para almacenar y gestionar grandes volúmenes de datos no estructurados o semiestructurados. Utiliza un modelo de datos orientado a documentos en el que los datos se almacenan en formato BSON (Binary JSON), lo que permite una representación de datos flexible y jerárquica. \n",
    "\n",
    "A diferencia de las bases de datos relacionales tradicionales, MongoDB no requiere un esquema fijo, lo que la hace adecuada para aplicaciones con requisitos de datos cambiantes o estructuras de datos variables. Admite escalabilidad horizontal a través de fragmentación y ofrece alta disponibilidad con conjuntos de réplicas."
   ]
  },
  {
   "cell_type": "markdown",
   "metadata": {},
   "source": [
    "### Colecciones y metodos en MongoDB"
   ]
  },
  {
   "cell_type": "markdown",
   "metadata": {},
   "source": [
    "En MongoDB, las colecciones se utilizan para organizar documentos. Una colección puede considerarse como un contenedor o grupo que se utiliza para almacenar documentos de estructura similar, como una tabla en bases de datos relacionales. Sin embargo, a diferencia de las tablas, las colecciones no imponen un esquema estricto, lo que ofrece más flexibilidad para administrar los datos."
   ]
  },
  {
   "cell_type": "markdown",
   "metadata": {},
   "source": [
    "#### Creación de colecciones"
   ]
  },
  {
   "cell_type": "markdown",
   "metadata": {},
   "source": [
    "Para crear una colección en MongoDB, puede elegir entre dos métodos: \n",
    "\n",
    "Creación implicita: Cuando se inserta un documento sin especificar una colección existente, MongoDB crea automáticamente la colección para usted\n",
    "\n",
    "**db.createCollection('Players');**\n",
    "\n",
    "Creación explicita: se utiliza **db.createCollection(name,options)** metodo para crear una colección con opciones especificas\n",
    "\n",
    "**db.createCollection('players',{capped:true,size:10000,max: 5000});**"
   ]
  },
  {
   "cell_type": "markdown",
   "metadata": {},
   "source": [
    "#### Gestión de colecciones"
   ]
  },
  {
   "cell_type": "markdown",
   "metadata": {},
   "source": [
    "##### Insertar documentos"
   ]
  },
  {
   "cell_type": "markdown",
   "metadata": {},
   "source": [
    "Para insertar un doucmento en una colección, utilziamos los métodos **insertOne()** o **insertMany()**\n",
    "\n",
    "Con insertOne(): <br>\n",
    "**db.players.insertOne({name: \"Wyane Rooney\", age: 39, team: \"Manchester United\"});**\n",
    "\n",
    "Con insertMany(): <br>\n",
    "**db.players.insertMany([{name: \"Paul Pogba\", age: 33, team: \"Juventus\"},{name: \"Carlos Tevez\", age: 42, team: \"Boca Juniors\"}]);**"
   ]
  },
  {
   "cell_type": "markdown",
   "metadata": {},
   "source": [
    "##### Buscar documentos"
   ]
  },
  {
   "cell_type": "markdown",
   "metadata": {},
   "source": [
    "Para buscar documentos , se utiliza el metodo **find()** el cual se utiliza para consultar documentos en una colección.\n",
    "\n",
    "**db.players.find({age: {$gt: 30}});**"
   ]
  },
  {
   "cell_type": "markdown",
   "metadata": {},
   "source": [
    "##### Actualizar documentos"
   ]
  },
  {
   "cell_type": "markdown",
   "metadata": {},
   "source": [
    "Para actualizar un documento se utiliza los metodos **updateOne()**,**updateMany()**,**repelaceOne()** para modificar documentos en una colección. \n",
    "\n",
    "Con **updateOne()**: <br>\n",
    "**db.players.updateOne({name: \"Wyane Rooney\"}, {$set: {age: 31}});**\n",
    "\n",
    "Con **updateMany()**: <br>\n",
    "**db.players.updateMany({age: {$gt: 30} }, {$inc: {age: 1} });**\n",
    "\n",
    "Con **replaceOne()**: <br>\n",
    "**db.players.replaceOne({name: \"Wayne Rooney\"}, {name: \"Wyane Ryan\"});**"
   ]
  },
  {
   "cell_type": "markdown",
   "metadata": {},
   "source": [
    "##### Eliminar documentos"
   ]
  },
  {
   "cell_type": "markdown",
   "metadata": {},
   "source": [
    "Para eliminar documentos de una colección se utiliza los metodos **deleteOne()** y **deleteMany()** los cuales elimina documentos de una colección.\n",
    "\n",
    "Con **deleteOne()**: <br>\n",
    "**db.players.deleteOne({name: \"Eric Bailly\"});**\n",
    "\n",
    "Con **deleteMany()**: <br>\n",
    "**db.players.deleteMany({$lt: 30});**"
   ]
  },
  {
   "cell_type": "markdown",
   "metadata": {},
   "source": [
    "##### Eliminar una colección"
   ]
  },
  {
   "cell_type": "markdown",
   "metadata": {},
   "source": [
    "Para poder eliminar una colección en **MongoDB** se utiliza el metodo **drop()** que basicamente borrar la colección existente igual que las bases de datos relacionales\n",
    "\n",
    "**db.players.drop()**"
   ]
  },
  {
   "cell_type": "markdown",
   "metadata": {},
   "source": [
    "### Operadores para consultas en MongoDB"
   ]
  },
  {
   "cell_type": "markdown",
   "metadata": {},
   "source": [
    "#### Operadores de comparación"
   ]
  },
  {
   "cell_type": "markdown",
   "metadata": {},
   "source": [
    "Los operadores de comparación permiten comparar el valor de un campo con valores especificos, Algunos operadores de comparación comunes son:"
   ]
  },
  {
   "cell_type": "markdown",
   "metadata": {},
   "source": [
    "##### $eq"
   ]
  },
  {
   "cell_type": "markdown",
   "metadata": {},
   "source": [
    "Coincide con valores que son iguales al valor especificado, su sintaxis seria de la siguiente manera:\n",
    "\n",
    "**db.collection.find({field: {$eq: value}});**\n",
    "\n",
    "Un ejemplo de su uso seria: <br>\n",
    "**db.players.find({age: {$eq: 27}});**"
   ]
  },
  {
   "cell_type": "markdown",
   "metadata": {},
   "source": [
    "##### $gt"
   ]
  },
  {
   "cell_type": "markdown",
   "metadata": {},
   "source": [
    "Coincide con valores que son mayores que el valor especificado, su sintaxis seria de la siguiente manera:\n",
    "\n",
    "**db.collection.find({field: {$gt: value}});**\n",
    "\n",
    "Un ejemplo de su uso seria: <br>\n",
    "**db.players.find({age: {$gt: 32}});**"
   ]
  },
  {
   "cell_type": "markdown",
   "metadata": {},
   "source": [
    "##### $gte"
   ]
  },
  {
   "cell_type": "markdown",
   "metadata": {},
   "source": [
    "Coincide con valores que son mayores o iguales al valor especificado, su sintaxis seria de la siguiente manera:\n",
    "\n",
    "**db.collection.find({field: {$gte: value}});**\n",
    "\n",
    "Un ejemplo de su uso seria: <br>\n",
    "**db.players.find({age: {$gte: 33}});**"
   ]
  },
  {
   "cell_type": "markdown",
   "metadata": {},
   "source": [
    "##### $lt"
   ]
  },
  {
   "cell_type": "markdown",
   "metadata": {},
   "source": [
    "Coincide con valores que son menores que el valor especificado, su sintaxis seria de la siguiene manera:\n",
    "\n",
    "**db.collection.find({field: {$lt: value}});**\n",
    "\n",
    "Un ejemplo de su uso seria: <br>\n",
    "**db.players.find({goles: {$lt: 32}});**"
   ]
  },
  {
   "cell_type": "markdown",
   "metadata": {},
   "source": [
    "#### $lte"
   ]
  },
  {
   "cell_type": "markdown",
   "metadata": {},
   "source": [
    "Coincide con valores que son menores o iguales que el valor especificado, su sintaxis seria de la siguiente manera:\n",
    "\n",
    "**db.collection.find({field: {$lte: value}});**\n",
    "\n",
    "Un ejemplo de su uso seria: <br>\n",
    "**db.players.find({asistencias: {$lte: 23}});**"
   ]
  },
  {
   "cell_type": "markdown",
   "metadata": {},
   "source": [
    "#### $ne"
   ]
  },
  {
   "cell_type": "markdown",
   "metadata": {},
   "source": [
    "Coincide con valores que no son iguales al valor especificado, su sintaxis seria de la siguiente manera:\n",
    "\n",
    "**db.collection.find({field: {$ne: value}});**\n",
    "\n",
    "Un ejemplo de su uso seria: <br>\n",
    "tenemos una colección de jugadores: <br>\n",
    "**{_id: 1, name:\"Wyane Rooney\", \"Goles\": 363},{_id: 2, name: \"Harry Maguire\", \"Goles\": 22},{_id: 3, name: \"Diego Dalot\", \"Goles\": 15}**\n",
    "\n",
    "se desea consultar los jugadores que tiene 30 por lo cula utilizamos **$ne**, para verificar:\n",
    "\n",
    "**db.players.find({Goles: {$ne: 30}});**\n"
   ]
  },
  {
   "cell_type": "markdown",
   "metadata": {},
   "source": [
    "#### Operadores Lógicos"
   ]
  },
  {
   "cell_type": "markdown",
   "metadata": {},
   "source": [
    "Los operadores lógicos ofrecen formas de combinar múltiples condiciones de consulta. Algunos operadores lógicos comunes son:"
   ]
  },
  {
   "cell_type": "markdown",
   "metadata": {},
   "source": [
    "##### $and"
   ]
  },
  {
   "cell_type": "markdown",
   "metadata": {},
   "source": [
    "Coincide con documentos donde todas las condiciones especificadas son verdaderas, su sintaxis seria la siguiente:\n",
    "\n",
    "**{ $and: [{ expression1 }, { expression2 }, ... ] }**\n",
    "\n",
    "Un ejemplo de esta seria: <br>\n",
    "**db.players.find({ $and: [{ Goles: { $gte: 30 } }, { assits: { $lt: 15 } }] });**"
   ]
  },
  {
   "cell_type": "markdown",
   "metadata": {},
   "source": [
    "##### $or"
   ]
  },
  {
   "cell_type": "markdown",
   "metadata": {},
   "source": [
    "Coincide con documentos en los que al menos una de las condiciones especificadas es verdadera, su sintaxis es parecida al **$and** y es de la siguiente forma:\n",
    "\n",
    "**{ $or: [{ expression1 }, { expression2 }, ... ] }**\n",
    "\n",
    "Un ejemplo de este seria: <br>\n",
    "**db.players.find({$or: [{ Team: 'Manchester United' }, { Goles: { $eq: 15 } }]});**"
   ]
  },
  {
   "cell_type": "markdown",
   "metadata": {},
   "source": [
    "##### $not"
   ]
  },
  {
   "cell_type": "markdown",
   "metadata": {},
   "source": [
    "Coincide con documentos donde la condición especificada no es verdadera, su sintaxis es de la siguiente manera: \n",
    "**{field: {$not: { <operator-expression> }}}**\n",
    "\n",
    "Un ejemplo de su uso seria: <br>\n",
    "**db.players.find({ Goles: { $not: { $gt: 100 } } });**"
   ]
  },
  {
   "cell_type": "markdown",
   "metadata": {},
   "source": [
    "#### Operadores de elementos"
   ]
  },
  {
   "cell_type": "markdown",
   "metadata": {},
   "source": [
    "##### $exists"
   ]
  },
  {
   "cell_type": "markdown",
   "metadata": {},
   "source": [
    "Coincide con los documentos que tienen el campo especificado, su sintaxis seria de la siguiente manera:\n",
    "\n",
    "**{ field: { $exists: <boolean> } }**\n",
    "\n",
    "Un ejemplo de su uso seria el siguiente: <br>\n",
    "**db.players.find({ team: { $exists: true } });**\n"
   ]
  },
  {
   "cell_type": "markdown",
   "metadata": {},
   "source": [
    "##### $type"
   ]
  },
  {
   "cell_type": "markdown",
   "metadata": {},
   "source": [
    "Coincide con documentos donde el campo especificado es del tipo BSON especificado, su sintaxis es de la siguiente manera:\n",
    "\n",
    "**{field: {$type: datatype}} , es decir que comprueba el tipo de dato del campo ya sea double,int,String,Null,Array,etc\n",
    "\n",
    "Un ejemplo de sus uso seria el siguiente: <br>\n",
    "**db.players.find({ name: { $type: 'String' } });**"
   ]
  },
  {
   "cell_type": "markdown",
   "metadata": {},
   "source": [
    "#### Operadores de Array"
   ]
  },
  {
   "cell_type": "markdown",
   "metadata": {},
   "source": [
    "##### $in"
   ]
  },
  {
   "cell_type": "markdown",
   "metadata": {},
   "source": [
    "Coincide con los valores que están en la matriz especificada, su sintaxis es de la siguiente manera:\n",
    "\n",
    "**{ field: { $in: [<value1>, <value2>, ...] } }**\n",
    "\n",
    "Un ejemplo de su uso seria el siguiente : un jgador que alla jugado en varios equipos <br>\n",
    "**db.players.find({teams: {$in: ['Manchester United', 'Real Madrid']}});**"
   ]
  },
  {
   "cell_type": "markdown",
   "metadata": {},
   "source": [
    "##### $all"
   ]
  },
  {
   "cell_type": "markdown",
   "metadata": {},
   "source": [
    "El operador **$all** se utiliza para hacer coincidir matrices que contienen todos los elementos especificados. su sintaxis seria la siguiente:\n",
    "\n",
    "**{field: {$all: [\"value1\",\"value2\",...]}}**"
   ]
  },
  {
   "cell_type": "markdown",
   "metadata": {},
   "source": [
    "Un ejemplo de su uso seria : recibir todos los jugadores que alla jugado en el real madrid <br>\n",
    "**db.players.find({teams: {$all: [\"Real Madrid\"]}});**"
   ]
  },
  {
   "cell_type": "markdown",
   "metadata": {},
   "source": [
    "##### $size"
   ]
  },
  {
   "cell_type": "markdown",
   "metadata": {},
   "source": [
    "El operador **$size** se utiliza para consultar y filtrar documentos en función del tamaño de un campo de matriz. Este operador permite buscar documentos con campos de matriz que contengan una cantidad exacta de elementos. Su sintaxis es de la siguiente manera:\n",
    "\n",
    "**{ \"<array_field>\": { \"$size\": <numer_of_elements> } }**\n",
    "\n",
    "Un ejemplo de este operador seria el siguiente: <br>\n",
    "**db.players.find({ teams: { $size: 5 } });**"
   ]
  },
  {
   "cell_type": "markdown",
   "metadata": {},
   "source": [
    "##### $elemMatch"
   ]
  },
  {
   "cell_type": "markdown",
   "metadata": {},
   "source": [
    "Este operador se utiliza para seleccionar documentos que contienen un campo de matriz con al menos un elemento que coincide con los criterios de consulta especificados. Su sintaxis es la siguiente:\n",
    "\n",
    "**{ field: { $elemMatch: { query } } }** , donde: <br>\n",
    "field:El nombre del campo de la matriz para el que desea aplicar el $elemMatchoperador.<br>\n",
    "query:Un documento que contiene las condiciones de consulta que se deben comparar con los elementos de la matriz.\n",
    "\n",
    "Un ejemplo de su uso seria el siguiente: <br>\n",
    "**db.players.find({teams: {$elemMatch: {name: 'Manchester United', name: 'Barcelona', }}});**"
   ]
  },
  {
   "cell_type": "markdown",
   "metadata": {},
   "source": [
    "#### Operadores de Proyecto"
   ]
  },
  {
   "cell_type": "markdown",
   "metadata": {},
   "source": [
    "##### $Include"
   ]
  },
  {
   "cell_type": "markdown",
   "metadata": {},
   "source": [
    "El operador **$include** se utiliza en las consultas para especificar los campos que se deben devolver en los documentos de resultados. Al utilizar $include, puede optar por recuperar solo los campos de interés. Su sintaxis es la siguiente:\n",
    "\n",
    "**{field: 1;}**, Aquí field se incluye el nombre del campo que se incluirá y 1se indica que desea que el campo se incluya en los documentos de resultados.\n",
    "\n",
    "Un ejemplo de su uso seria el siguiente: si de nuestra coleccion queremos devolver solamente el name y los goles del jugador podemos utilizar **$include** <br>\n",
    "**db.players.find({},{ name: 1, Goles: 1, _id: 0 });**\n"
   ]
  },
  {
   "cell_type": "markdown",
   "metadata": {},
   "source": [
    "##### $exclude"
   ]
  },
  {
   "cell_type": "markdown",
   "metadata": {},
   "source": []
  }
 ],
 "metadata": {
  "language_info": {
   "name": "python"
  }
 },
 "nbformat": 4,
 "nbformat_minor": 2
}
