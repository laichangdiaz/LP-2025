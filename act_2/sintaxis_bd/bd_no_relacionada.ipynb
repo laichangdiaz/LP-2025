{
 "cells": [
  {
   "cell_type": "markdown",
   "metadata": {},
   "source": [
    "## Bases de datos no relacionales"
   ]
  },
  {
   "cell_type": "markdown",
   "metadata": {},
   "source": [
    "### ¿Qué es una base de datos no relacional?"
   ]
  },
  {
   "cell_type": "markdown",
   "metadata": {},
   "source": [
    "Son sistemas de almacenamiento de información que se caracteriza por no usar el lenguaje SQL para hacer consultas a la base de datos. Esto no significa que no pueda usar el lenguaje SQL, pero no lo hacen como herramienta de consulta, sino como apoyo. Por ello también se les suele llamar NoSQL.\n",
    "\n",
    "Otra de sus principales caracteristicas es que no trabajan con estructuras definidas, es decir, los datos no se alamcenan en tablas y la información tampoco se organiza e registros o campos"
   ]
  },
  {
   "cell_type": "markdown",
   "metadata": {},
   "source": [
    "### Estructura de una base de datos no relacional"
   ]
  },
  {
   "cell_type": "markdown",
   "metadata": {},
   "source": [
    "Normalmente la estructura de una base de datos relacional se basa en la organización de la información a través de documentos. Este tipo de databases están pensadas para ofrecer mayor escabilidad horinzontal y no tienen identificadores que permitan establecer relaciones entre diferentes conjuntos de datos. \n",
    "\n",
    "Cada uno de los documentos almacenados en la base de datos incluye todos los atributos del elemento, por lo que resultan muy útiles a la hora de guardar información poco estructurada o de la que no se tiene un esquema claro de inicio."
   ]
  },
  {
   "cell_type": "markdown",
   "metadata": {},
   "source": [
    "### Tipos de bases de datos no relacionales"
   ]
  },
  {
   "cell_type": "markdown",
   "metadata": {},
   "source": [
    "#### Clave-Valor"
   ]
  },
  {
   "cell_type": "markdown",
   "metadata": {},
   "source": [
    "Se trata de bases de datos no relacional que almacenan la información en base a pares de clave-valor, es decir, cada clave sirve como un identificador único y a cada una de ellas se le aplica un valor."
   ]
  },
  {
   "cell_type": "markdown",
   "metadata": {},
   "source": [
    "#### Documentos"
   ]
  },
  {
   "cell_type": "markdown",
   "metadata": {},
   "source": [
    "Se trata de una base de datos no relacional basada en documentos la información se representa como objetos o documentos JSON. Su principal ventaja es que los documentos son de naturaleza flexible, semiestructurada y jerárquica, lo que facilita a los desarrolladores las tareas de almacenamiento, gestión y consulta de datos."
   ]
  },
  {
   "cell_type": "markdown",
   "metadata": {},
   "source": [
    "#### Gráficos"
   ]
  },
  {
   "cell_type": "markdown",
   "metadata": {},
   "source": [
    "Se trata de una bases de datos no relacional basada en gráficos están pensadas para crear relaciones y navegar por ellas. Las entidades de datos se almacenan mediante nodos y los bordes son los que crear las relaciones entre entidades."
   ]
  },
  {
   "cell_type": "markdown",
   "metadata": {},
   "source": [
    "#### En memoria"
   ]
  },
  {
   "cell_type": "markdown",
   "metadata": {},
   "source": [
    "Son bases de datos no relacionales diseñadas para ofrecer respuestas en milisegundos y soportar grandes picos de tráfico. Un ejemplo de bases de datos en memoria son las empleadas en tablas de clasificaciones de juegos o en herramientas para hacer análisis en tiempo real."
   ]
  },
  {
   "cell_type": "markdown",
   "metadata": {},
   "source": [
    "## Ejemplos de bases de datos no relacionales"
   ]
  },
  {
   "cell_type": "markdown",
   "metadata": {},
   "source": [
    "## MongoDB"
   ]
  },
  {
   "cell_type": "markdown",
   "metadata": {},
   "source": [
    "### ¿Qué es MongoDB?"
   ]
  },
  {
   "cell_type": "markdown",
   "metadata": {},
   "source": [
    "Es una base de datos NoSQL de código abierto diseñada para almacenar y gestionar grandes volúmenes de datos no estructurados o semiestructurados. Utiliza un modelo de datos orientado a documentos en el que los datos se almacenan en formato BSON (Binary JSON), lo que permite una representación de datos flexible y jerárquica. \n",
    "\n",
    "A diferencia de las bases de datos relacionales tradicionales, MongoDB no requiere un esquema fijo, lo que la hace adecuada para aplicaciones con requisitos de datos cambiantes o estructuras de datos variables. Admite escalabilidad horizontal a través de fragmentación y ofrece alta disponibilidad con conjuntos de réplicas."
   ]
  },
  {
   "cell_type": "markdown",
   "metadata": {},
   "source": [
    "### Colecciones y metodos en MongoDB"
   ]
  },
  {
   "cell_type": "markdown",
   "metadata": {},
   "source": [
    "En MongoDB, las colecciones se utilizan para organizar documentos. Una colección puede considerarse como un contenedor o grupo que se utiliza para almacenar documentos de estructura similar, como una tabla en bases de datos relacionales. Sin embargo, a diferencia de las tablas, las colecciones no imponen un esquema estricto, lo que ofrece más flexibilidad para administrar los datos."
   ]
  },
  {
   "cell_type": "markdown",
   "metadata": {},
   "source": [
    "#### Creación de colecciones"
   ]
  },
  {
   "cell_type": "markdown",
   "metadata": {},
   "source": [
    "Para crear una colección en MongoDB, puede elegir entre dos métodos: \n",
    "\n",
    "Creación implicita: Cuando se inserta un documento sin especificar una colección existente, MongoDB crea automáticamente la colección para usted\n",
    "\n",
    "**db.createCollection('Players');**\n",
    "\n",
    "Creación explicita: se utiliza **db.createCollection(name,options)** metodo para crear una colección con opciones especificas\n",
    "\n",
    "**db.createCollection('players',{capped:true,size:10000,max: 5000});**"
   ]
  },
  {
   "cell_type": "markdown",
   "metadata": {},
   "source": [
    "#### Gestión de colecciones"
   ]
  },
  {
   "cell_type": "markdown",
   "metadata": {},
   "source": [
    "##### Insertar documentos"
   ]
  },
  {
   "cell_type": "markdown",
   "metadata": {},
   "source": [
    "Para insertar un doucmento en una colección, utilziamos los métodos **insertOne()** o **insertMany()**\n",
    "\n",
    "Con insertOne(): <br>\n",
    "**db.players.insertOne({name: \"Wyane Rooney\", age: 39, team: \"Manchester United\"});**\n",
    "\n",
    "Con insertMany(): <br>\n",
    "**db.players.insertMany([{name: \"Paul Pogba\", age: 33, team: \"Juventus\"},{name: \"Carlos Tevez\", age: 42, team: \"Boca Juniors\"}]);**"
   ]
  }
 ],
 "metadata": {
  "language_info": {
   "name": "python"
  }
 },
 "nbformat": 4,
 "nbformat_minor": 2
}
