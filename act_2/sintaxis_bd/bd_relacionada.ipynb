{
 "cells": [
  {
   "cell_type": "markdown",
   "metadata": {},
   "source": [
    "## Bases de datos relacionales"
   ]
  },
  {
   "cell_type": "markdown",
   "metadata": {},
   "source": [
    "#### ¿Qué es una base de datos relacional?"
   ]
  },
  {
   "cell_type": "markdown",
   "metadata": {},
   "source": [
    "Es una colección de información que organizan datos en relaciones predefinidas, en la que los datos se almacenan en una o mas **tablas** (o relaciones) de columnas y filas , lo que facilita la visualización y la compresión de como se relacionan las diferentes estructuras de datos entre si "
   ]
  },
  {
   "cell_type": "markdown",
   "metadata": {},
   "source": [
    "#### Modelo de una base de datos relacional"
   ]
  },
  {
   "cell_type": "markdown",
   "metadata": {},
   "source": [
    "El modelo de base de datos relacional permite que cualquier tabla se relacione con otra medinate un atributo en común. En lugar de usar estructuras jerárquicas para organizar los datos. El creador de este modelo que fue EF codd propuso un cambio a un modelo de datos en el que estos últimos se almacenan, se consultan y se relacionan en tablas sin reoganizar las tablas que los contienen.\n",
    "\n",
    "En el modelo de bases de datos relacional, cada **hoja de calculo** es una tabla que almacena información, representada como columnas (atributos) y filas ( registros o tublas). Donde los atributos (columnas) especifican un tipo de datos y cada registro (fila) contiene el valor de ese tipo de datos especifico.\n",
    "\n",
    "Un ejemplo seria tener una tabla **Clientes** y una tabla **Pedido**:\n",
    "\n",
    "\n"
   ]
  },
  {
   "cell_type": "markdown",
   "metadata": {},
   "source": [
    "<div align=\"center\">\n",
    "    <img src=\"https://lh3.googleusercontent.com/_j-DAQG6tx5MwOwhdNFkHMou4fWHRuEbzYr3wEaRClkCnC3W2TR8CnMsAvmVX-rgOICpWX-wrBPc=s1000-w1000\" alt=\"Ejemplo\" width=\"55%\">\n",
    "</div>"
   ]
  },
  {
   "cell_type": "markdown",
   "metadata": {},
   "source": [
    "La tabla **Clientes** contiene datos sobre el cliente\n",
    "\n",
    "ID del cliente (Clave primaria)<br>\n",
    "Nombre del cliente<br>\n",
    "Dirección de facturación <br>\n",
    "Dirección de envio\n",
    "\n",
    "En esta tabla , el id del cliente representa la clave primaria que identifca de forma única a ese cliente en la base de datos , ningún otro cliente tendria el mismo ID de cliente.\n"
   ]
  },
  {
   "cell_type": "markdown",
   "metadata": {},
   "source": [
    "En la tabla **Pedido** contiene información transaccional sobre un pedido:\n",
    "\n",
    "ID de pedido (clave primaria) <br>\n",
    "ID de cliente ( clave foraneas) <br>\n",
    "Fecha del pedido <br>\n",
    "Fecha de envio <br>\n",
    "Estado del pedido\n",
    "\n",
    "En esta tabla la clave primaria seria el id del pedido a su vez mediante la clave foraneas se puede conectar un cliente con un pedido mediante el id del cliente de la tabla **Clientes**"
   ]
  },
  {
   "cell_type": "markdown",
   "metadata": {},
   "source": [
    "Ahora las dos tablas están relacionadas según el ID del cliente compartido, lo que significa que puedes consultar ambas tablas para crear informes o usar datos en otras aplicaciones"
   ]
  },
  {
   "cell_type": "markdown",
   "metadata": {},
   "source": [
    "#### Beneficios de las bases de datos relacionales"
   ]
  },
  {
   "cell_type": "markdown",
   "metadata": {},
   "source": [
    "El principal beneficio del modelo de base de datos relacional es que propociona una manera intuitiva de representar datos y permite un acceso fácil a datos relacionados. Por lo tanto, el uso de bases de datos relacionales es más co´mun en las organizaciones que necesitan administrar grandes cantidades de datos estructurados\n",
    "\n",
    "Otros beneficios para administrar y alamacenar tus datos serian : su flexibilidad, Seguridad, Facilidad de uso,etc..."
   ]
  },
  {
   "cell_type": "markdown",
   "metadata": {},
   "source": [
    "### Ejemplos de bases de datos relacionales <hr>"
   ]
  },
  {
   "cell_type": "markdown",
   "metadata": {},
   "source": [
    "#### MySQL"
   ]
  },
  {
   "cell_type": "markdown",
   "metadata": {},
   "source": [
    "##### ¿Qué es MySQL?"
   ]
  },
  {
   "cell_type": "markdown",
   "metadata": {},
   "source": [
    "Es un sistema de gestión de bases de datos relacionales de código abierto conocido por su velocidad, fiabilidad y facilidad de uso, utiliza SQL para las interacciones con bases de datos y admite una variedad de funciones para la gestión de datos,incluidas transacciones, indexación y procedimiento almacenados.\n",
    "\n",
    "MySQL se utiliza ampliamente para aplicaciones web, alamcenamientos de datos y otras aplicaciones debido a su escabilidad y flexibilidad."
   ]
  },
  {
   "cell_type": "markdown",
   "metadata": {},
   "source": [
    "##### Declaraciones de MySQL"
   ]
  },
  {
   "cell_type": "markdown",
   "metadata": {},
   "source": [
    "En esta sección hablaremos de las declaraciones mas destacados de MySQL , en MYSQL hay varios comandos para poder hacer consultas a la bases de datos pero vamos a nombrar algunos que son:"
   ]
  },
  {
   "cell_type": "markdown",
   "metadata": {},
   "source": [
    "##### CREATE DATABASE y CREATE TABLE"
   ]
  },
  {
   "cell_type": "markdown",
   "metadata": {},
   "source": [
    "Para crear una base de datos o una tabla en una base de datos utilizamos la palabra o declaración **CREATE** , colocandolo de la siguiente forma la consulta\n",
    "\n",
    "Para la base de datos:\n",
    "**CREATE DATABASE Nombre_base_datos;**<br>\n",
    "Para la Tabla:\n",
    "**CREATE TABLE Nombre_tabla;**"
   ]
  },
  {
   "cell_type": "markdown",
   "metadata": {},
   "source": [
    "##### DROP DATABASE y DROP TABLE"
   ]
  },
  {
   "cell_type": "markdown",
   "metadata": {},
   "source": [
    "Para borrar una base de datos o una tabla existente se utiliza la declaración **DROP** esta borrar ya sea una base de datos o una tabla, colocandolo de la siguiente forma la consulta:\n",
    "\n",
    "Para la base de datos: **DROP DATABASE Nombre_base_datos;**<br>\n",
    "Para la tabla: **DROP TABLE Nombre_tabla;**"
   ]
  },
  {
   "cell_type": "markdown",
   "metadata": {},
   "source": [
    "##### SELECT"
   ]
  },
  {
   "cell_type": "markdown",
   "metadata": {},
   "source": [
    "La declaración **SELECT** se utiliza para seleccionar datos de una bases de datos. Los datos devueltos se alamacenan en una tabla de resultados , denominada conjunto de resultados."
   ]
  },
  {
   "cell_type": "markdown",
   "metadata": {},
   "source": [
    "**SELECT Col1,Col2 FROM Nombre_tabla;**\n",
    "\n",
    "Aquí, columna1, columna2, ... son los nombres de los campos de la tabla de la que desea seleccionar datos. Si desea seleccionar todos los campos disponibles en la tabla, utilice la siguiente sintaxis:\n",
    "\n",
    "\n",
    "**SELECT * FROM Nombre_tabla;**\n"
   ]
  },
  {
   "cell_type": "markdown",
   "metadata": {},
   "source": [
    "Existen una declaración parecida al **SELECT** esta declaración seria **SELECT DISTINCT** esta se utiliza para devolver solo valores distintos.\n",
    "\n",
    "**SELECT DISTINCT Col1,Col2 FROM Nombre_tabla;**\n",
    "\n",
    "Igual como el **SELECT** se puede obtner todos los valores mediante:\n",
    "\n",
    "**SELECT * FROM Nombre_tabla;**"
   ]
  },
  {
   "cell_type": "markdown",
   "metadata": {},
   "source": [
    "##### WHERE"
   ]
  },
  {
   "cell_type": "markdown",
   "metadata": {},
   "source": [
    "La declaración o cláusula se utiliza para filtrar registros. Basicamente se utilizan para extraer sólo aquellos registros que cumplen una condición especificada."
   ]
  },
  {
   "cell_type": "markdown",
   "metadata": {},
   "source": [
    "**SELECT Col1, Col2 FROM Nombre_tabla WHERE condition;**\n",
    "\n",
    "Un ejemplo de esta declaración seria:\n",
    "\n",
    "**SELECT * FROM Usuarios WHRERE nombre = \"Jose\";**"
   ]
  },
  {
   "cell_type": "markdown",
   "metadata": {},
   "source": [
    "Algunos operadores que se puede utilizar para la cláusula **WHERE** seria: <br>\n",
    "(>=) Mayor igual a <br>\n",
    "(=) Igual a <br>\n",
    "(>) Mayor a <br>\n",
    "(<) Menor a <br>\n",
    "(<=) Menor igual a <br>\n",
    "IN <br>\n",
    "BETWEEN <br>\n",
    "LIKE"
   ]
  },
  {
   "cell_type": "markdown",
   "metadata": {},
   "source": [
    "##### INSERT INTO"
   ]
  },
  {
   "cell_type": "markdown",
   "metadata": {},
   "source": [
    "La declaración se utiliza para insertar nuevos registros en una tabla, existen dos maneras de insertar datos en una tabla y estas son:"
   ]
  },
  {
   "cell_type": "markdown",
   "metadata": {},
   "source": [
    "La primera forma seria Especificar los nombres de las columnas y los valores que se insertarán\n",
    "\n",
    "**INSERT INTO Nombre_tabla(col1,col2,col3) VALUES (value1,value2,value3)**"
   ]
  },
  {
   "cell_type": "markdown",
   "metadata": {},
   "source": [
    "La segunda forma es que si va agreagr valores para todos las columnas de la tabla , no necesita especificar los nombres de las columnas en la consulat SQL.\n",
    "\n",
    "**INSERT INTO Nombre_tabla VALUES (value1,value2,value3)**"
   ]
  },
  {
   "cell_type": "markdown",
   "metadata": {},
   "source": [
    "Un ejemplo de INSERT INTO seria:\n",
    "\n",
    "**INSERT INTO Jugador(nombre,apellido,goles) VALUES (\"Wayne\",\"Ronney\",312),(\"Cristiano\",\"Ronaldo\",920), (\"Lionel\",\"Messi\",878);**"
   ]
  },
  {
   "cell_type": "markdown",
   "metadata": {},
   "source": [
    "##### UPDATE"
   ]
  },
  {
   "cell_type": "markdown",
   "metadata": {},
   "source": [
    "La declaración **UPDATE** se utiliza para modificar o actaulizar la información de un registro de una columna siendo su forma en la cual tiene que escribir su consulta la siguiente:\n",
    "\n",
    "**UPDATE Nombre_tabla SET Col1 = value1, Col2 = value2, Col3 = value3... WHERE condition;**"
   ]
  },
  {
   "cell_type": "markdown",
   "metadata": {},
   "source": [
    "Como podemos apreciar en la consulta colocamos la cláusula **WHERE** ya que modificaremos un registro de una columna dependiendo de una condición\n",
    "\n",
    "Un ejemplo seria:\n",
    "**UPDATE jugadores SET nombre = \"Zlatan\", apellido = \"Ibrahomovic\" WHERE id = 1;**"
   ]
  },
  {
   "cell_type": "markdown",
   "metadata": {},
   "source": [
    "##### DELETE"
   ]
  },
  {
   "cell_type": "markdown",
   "metadata": {},
   "source": [
    "La declaración **DELETE** se utilizan para borrar registros existentes en una tabla , la forma en la cual tiene que hacer para escribir la consulta es la siguiente:\n",
    "\n",
    "**DELETE Nombre_tabla WHERE condition;**\n",
    "\n",
    "A su vez podemos borrar todos los registros de una tabla asi:\n",
    "\n",
    "**DELETE Nombre_tabla;**"
   ]
  }
 ],
 "metadata": {
  "language_info": {
   "name": "python"
  }
 },
 "nbformat": 4,
 "nbformat_minor": 2
}
