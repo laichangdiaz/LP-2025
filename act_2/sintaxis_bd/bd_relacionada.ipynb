{
 "cells": [
  {
   "cell_type": "markdown",
   "metadata": {},
   "source": [
    "## Bases de datos relacionales"
   ]
  },
  {
   "cell_type": "markdown",
   "metadata": {},
   "source": [
    "#### ¿Qué es una base de datos relacional?"
   ]
  },
  {
   "cell_type": "markdown",
   "metadata": {},
   "source": [
    "Es una colección de información que organizan datos en relaciones predefinidas, en la que los datos se almacenan en una o mas **tablas** (o relaciones) de columnas y filas , lo que facilita la visualización y la compresión de como se relacionan las diferentes estructuras de datos entre si "
   ]
  },
  {
   "cell_type": "markdown",
   "metadata": {},
   "source": [
    "#### Modelo de una base de datos relacional"
   ]
  },
  {
   "cell_type": "markdown",
   "metadata": {},
   "source": [
    "El modelo de base de datos relacional permite que cualquier tabla se relacione con otra medinate un atributo en común. En lugar de usar estructuras jerárquicas para organizar los datos. El creador de este modelo que fue EF codd propuso un cambio a un modelo de datos en el que estos últimos se almacenan, se consultan y se relacionan en tablas sin reoganizar las tablas que los contienen.\n",
    "\n",
    "En el modelo de bases de datos relacional, cada **hoja de calculo** es una tabla que almacena información, representada como columnas (atributos) y filas ( registros o tublas). Donde los atributos (columnas) especifican un tipo de datos y cada registro (fila) contiene el valor de ese tipo de datos especifico.\n",
    "\n",
    "Un ejemplo seria tener una tabla **Clientes** y una tabla **Pedido**:\n",
    "\n",
    "\n"
   ]
  },
  {
   "cell_type": "markdown",
   "metadata": {},
   "source": [
    "<div align=\"center\">\n",
    "    <img src=\"https://lh3.googleusercontent.com/_j-DAQG6tx5MwOwhdNFkHMou4fWHRuEbzYr3wEaRClkCnC3W2TR8CnMsAvmVX-rgOICpWX-wrBPc=s1000-w1000\" alt=\"Ejemplo\" width=\"55%\">\n",
    "</div>"
   ]
  },
  {
   "cell_type": "markdown",
   "metadata": {},
   "source": [
    "La tabla **Clientes** contiene datos sobre el cliente\n",
    "\n",
    "ID del cliente (Clave primaria)<br>\n",
    "Nombre del cliente<br>\n",
    "Dirección de facturación <br>\n",
    "Dirección de envio\n",
    "\n",
    "En esta tabla , el id del cliente representa la clave primaria que identifca de forma única a ese cliente en la base de datos , ningún otro cliente tendria el mismo ID de cliente.\n"
   ]
  },
  {
   "cell_type": "markdown",
   "metadata": {},
   "source": [
    "En la tabla **Pedido** contiene información transaccional sobre un pedido:\n",
    "\n",
    "ID de pedido (clave primaria) <br>\n",
    "ID de cliente ( clave foraneas) <br>\n",
    "Fecha del pedido <br>\n",
    "Fecha de envio <br>\n",
    "Estado del pedido\n",
    "\n",
    "En esta tabla la clave primaria seria el id del pedido a su vez mediante la clave foraneas se puede conectar un cliente con un pedido mediante el id del cliente de la tabla **Clientes**"
   ]
  },
  {
   "cell_type": "markdown",
   "metadata": {},
   "source": [
    "Ahora las dos tablas están relacionadas según el ID del cliente compartido, lo que significa que puedes consultar ambas tablas para crear informes o usar datos en otras aplicaciones"
   ]
  },
  {
   "cell_type": "markdown",
   "metadata": {},
   "source": [
    "#### Beneficios de las bases de datos relacionales"
   ]
  },
  {
   "cell_type": "markdown",
   "metadata": {},
   "source": [
    "El principal beneficio del modelo de base de datos relacional es que propociona una manera intuitiva de representar datos y permite un acceso fácil a datos relacionados. Por lo tanto, el uso de bases de datos relacionales es más co´mun en las organizaciones que necesitan administrar grandes cantidades de datos estructurados\n",
    "\n",
    "Otros beneficios para administrar y alamacenar tus datos serian : su flexibilidad, Seguridad, Facilidad de uso,etc..."
   ]
  },
  {
   "cell_type": "markdown",
   "metadata": {},
   "source": [
    "### Ejemplos de bases de datos relacionales <hr>"
   ]
  }
 ],
 "metadata": {
  "language_info": {
   "name": "python"
  }
 },
 "nbformat": 4,
 "nbformat_minor": 2
}
