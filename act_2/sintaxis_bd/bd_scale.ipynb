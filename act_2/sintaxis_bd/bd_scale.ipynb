{
 "cells": [
  {
   "cell_type": "markdown",
   "metadata": {},
   "source": [
    "## Escalamiento de Base de Datos"
   ]
  },
  {
   "cell_type": "markdown",
   "metadata": {},
   "source": [
    "<center><img src=\"Resource/Database Scaling.png\" width=350px height=200px></center>"
   ]
  },
  {
   "cell_type": "markdown",
   "metadata": {},
   "source": [
    "El escalado de bases de datos es el proceso de adaptarlas para manejar más datos y usuarios de manera eficiente. Esto se logra ya sea actualizando el hardware existente (escalado vertical) o agregando más servidores (escalado horizontal).  \n",
    "  \n",
    "El objetivo es que la base de datos pueda seguir funcionando bien a medida que crece."
   ]
  },
  {
   "cell_type": "markdown",
   "metadata": {},
   "source": [
    "Y para explicar qué es **escalado vertical** y **escalado horizontal**:  \n",
    "  \n",
    "La **escalado vertical** consiste en añadir más recursos físicos o virtuales a una base de datos que se ejecuta en un único servidor. Esto puede lograrse añadiendo más potencia de CPU, memoria o capacidad de almacenamiento.\n",
    "  \n",
    "La **escalado horinzontal** es aquel refiere a la adición de más nodos para compartir un aumento de la carga. Estos nodos forman parte de un cluster que puede repartirse entre varios servidores, y los datos pueden conectarse mediante joins."
   ]
  },
  {
   "cell_type": "markdown",
   "metadata": {},
   "source": [
    "### 4 técnicas para Escalamiento de Base de Datos"
   ]
  },
  {
   "cell_type": "markdown",
   "metadata": {},
   "source": [
    "Database Indexes"
   ]
  },
  {
   "cell_type": "markdown",
   "metadata": {},
   "source": [
    "Data Replicacion"
   ]
  },
  {
   "cell_type": "markdown",
   "metadata": {},
   "source": [
    "Sharding Strategies"
   ]
  },
  {
   "cell_type": "markdown",
   "metadata": {},
   "source": [
    "CAP Theorem"
   ]
  },
  {
   "cell_type": "markdown",
   "metadata": {},
   "source": [
    "## Referencias:"
   ]
  },
  {
   "cell_type": "markdown",
   "metadata": {},
   "source": [
    "Couchbase. (2025). **Escabilidad de la base de datos.** Recuperado:  \n",
    "https://www.couchbase.com/es/resources/concepts/database-scalability/"
   ]
  }
 ],
 "metadata": {
  "language_info": {
   "name": "python"
  }
 },
 "nbformat": 4,
 "nbformat_minor": 2
}
