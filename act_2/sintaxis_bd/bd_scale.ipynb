{
 "cells": [
  {
   "cell_type": "markdown",
   "metadata": {},
   "source": [
    "## Escalamiento de Base de Datos"
   ]
  },
  {
   "cell_type": "markdown",
   "metadata": {},
   "source": [
    "<center><img src=\"Resource/Database Scaling.png\" width=350px height=200px></center>"
   ]
  },
  {
   "cell_type": "markdown",
   "metadata": {},
   "source": [
    "El escalado de bases de datos es el proceso de adaptarlas para manejar más datos y usuarios de manera eficiente. Esto se logra ya sea actualizando el hardware existente (escalado vertical) o agregando más servidores (escalado horizontal).  \n",
    "  \n",
    "El objetivo es que la base de datos pueda seguir funcionando bien a medida que crece."
   ]
  },
  {
   "cell_type": "markdown",
   "metadata": {},
   "source": [
    "Y para explicar qué es **escalado vertical** y **escalado horizontal**:  \n",
    "  \n",
    "La **escalado vertical** consiste en añadir más recursos físicos o virtuales a una base de datos que se ejecuta en un único servidor. Esto puede lograrse añadiendo más potencia de CPU, memoria o capacidad de almacenamiento.\n",
    "  \n",
    "La **escalado horinzontal** es aquel refiere a la adición de más nodos para compartir un aumento de la carga. Estos nodos forman parte de un cluster que puede repartirse entre varios servidores, y los datos pueden conectarse mediante joins."
   ]
  },
  {
   "cell_type": "markdown",
   "metadata": {},
   "source": [
    "### **4 técnicas para Escalamiento de Base de Datos:**"
   ]
  },
  {
   "cell_type": "markdown",
   "metadata": {},
   "source": [
    "### **Database Indexes**  \n",
    "Explicación:  \n",
    "Los índices de bases de datos son estructuras de datos que mejoran la velocidad de las operaciones de recuperación de datos en un sistema de administración de bases de datos. Funcionan de manera similar a los índices de libros, proporcionando una forma rápida de buscar información en función de columnas específicas o conjuntos de columnas. Los índices crean una estructura independiente que contiene una referencia a los datos reales, lo que permite que el motor de la base de datos encuentre información sin escanear toda la tabla."
   ]
  },
  {
   "cell_type": "markdown",
   "metadata": {},
   "source": [
    "<center><img src=\"Resource/concepto de indices.png\" width=350px height=250px></center>"
   ]
  },
  {
   "cell_type": "markdown",
   "metadata": {},
   "source": [
    "### **Data Replication**  \n",
    "Explicación:  \n",
    "La replicación de datos es el proceso de crear y mantener múltiples copias de los mismos datos en diferentes ubicaciones o nodos de un sistema distribuido. Mejora la disponibilidad, la confiabilidad y el rendimiento de los datos al garantizar que estos permanezcan accesibles incluso si fallan uno o más nodos. La replicación puede ser sincrónica (los cambios se aplican a todas las copias simultáneamente) o asincrónica (los cambios se propagan después de aplicarse a la copia principal). Se utiliza ampliamente en sistemas de bases de datos, redes de distribución de contenido y sistemas de archivos distribuidos. Las estrategias de replicación incluyen modelos maestro-esclavo, multimaestro y de igual a igual. Si bien mejora la tolerancia a fallas y el rendimiento de lectura, la replicación presenta desafíos para mantener la consistencia de los datos en las copias y administrar posibles conflictos. Las estrategias de replicación efectivas deben equilibrar la consistencia, la disponibilidad y la tolerancia a las particiones, a menudo en línea con los principios del teorema CAP."
   ]
  },
  {
   "cell_type": "markdown",
   "metadata": {},
   "source": [
    "<center><img src=\"Resource/replicacion de datos.png\" width=350px height=250px></center>"
   ]
  },
  {
   "cell_type": "markdown",
   "metadata": {},
   "source": [
    "### **Sharding Strategies**\n",
    "  \n",
    "Explicación:  \n",
    "Es un patrón de arquitectura en el que un gran conjunto de datos se divide en partes más pequeñas y manejables llamadas \"fragmentos\" (en inglés es \"shard\"). Cada fragmento se almacena en un gran servidor de base de datos independiente para mejorar el rendimiento, la escabilidad y la disponibilidad.  \n",
    "\n",
    "Este enfoque ayuda a distribuir la carga y garantiza que ningún servidor se convierta en un cuello de botella, es decir que permitiendo al sistema gestiona más datos y mayores volúmenes de transacciones de forma eficiente. Además, este tipo técnica puede mejorar la tolerancia a fallos al aislar estos en fragmentos individuales, lo que permite que el resto de sistema siga funcionando sin problemas."
   ]
  },
  {
   "cell_type": "markdown",
   "metadata": {},
   "source": [
    "<center><img src=\"Resource/vertical-sharding.png\" width=350px height=250px></center>"
   ]
  },
  {
   "cell_type": "markdown",
   "metadata": {},
   "source": [
    "### **CAP Theorem**  \n",
    "Explicación:  \n",
    "La teorema CAP también se puede conocer como Teorema Brewer, la cual describe tres características que puede tener cualquier sistema distribuido como las bases de datos:\n",
    "  \n",
    "**Consistencia (C)**: Es la capacidad del sistema que garantiza devolver el último valor que ha sido escrito a cualquier operación de lectura. Por ejemplo, si actualizamos un registro con valor 2 a valor 3, las bases de datos y sistemas consistentes deberán devolver a todos los lectores el nuevo valor 3 a partir de ese momento. Cualquier otro resultado es considerado como una violación de la consistencia.  \n",
    "\n",
    "**Disponibilidad (A)**: Capacidad del sistema de garantizar el procesamiento de cualquier operación de lectura sin producir ningún error.  \n",
    "\n",
    "**Tolerancia a la partición (P)**: Capacidad del sistema de garantizar su funcionamiento en caso de partición de la red o incomunicación entre sus nodos. Para ello, el retraso o la pérdida de mensajes de comunicación no deberán impedir que el sistema funcione y responda a las peticiones. El sistema es tolerante a las particiones si los mensajes que se pierden o se retrasan no impiden su funcionamiento.  \n",
    "  \n",
    "El teorema usa estas definiciones para afirmar que no es posible ofrecer las tres garantías de forma simultánea. O lo que es lo mismo, en cada instante se debe sacrificar alguna de ellas para garantizar las otras dos.  \n",
    "\n",
    "Además, este principio guía el diseño y la arquitectura de los sistemas distribuidos, influyendo en las decisiones sobre los modelos de consistencia de datos, las estrategias de replicación y el manejo de fallas. Comprender el teorema CAP es crucial para diseñar sistemas distribuidos robustos y escalables y para elegir soluciones de bases de datos adecuadas para casos de uso específicos en entornos informáticos distribuidos."
   ]
  },
  {
   "cell_type": "markdown",
   "metadata": {},
   "source": [
    "<center><img src=\"Resource/CAP.png\" width=350px height=250px></center>"
   ]
  },
  {
   "cell_type": "markdown",
   "metadata": {},
   "source": [
    "## Referencias:"
   ]
  },
  {
   "cell_type": "markdown",
   "metadata": {},
   "source": [
    "Couchbase. (2025). **Escabilidad de la base de datos.** Recuperado:  \n",
    "https://www.couchbase.com/es/resources/concepts/database-scalability/  \n",
    "  \n",
    "MongoDB. (2025). **What is Indexing in a Database?** Recuperado:  \n",
    "https://www.mongodb.com/resources/basics/databases/database-index  \n",
    "  \n",
    "  \n",
    "OPSWAT. (2024). **Replicación de bases de datos.** Recuperado:  \n",
    "https://spanish.opswat.com/blog/database-replication  \n",
    "  \n",
    "InterSystems. (2025). **Control del Sharding de bases de datos estrategias y mejores prácticas.** Recuperado:  \n",
    "https://www.intersystems.com/es/recursos/dominio-del-sharding-de-bases-de-datos-estrategias-y-mejores-practicas  \n",
    "  \n",
    "Aprender BIG DATA. (2025). **Qué es el Teorema CAP y Cómo afecta a Bases de Datos.** Recuperado:  \n",
    "https://aprenderbigdata.com/teorema-cap/"
   ]
  }
 ],
 "metadata": {
  "language_info": {
   "name": "python"
  }
 },
 "nbformat": 4,
 "nbformat_minor": 2
}
