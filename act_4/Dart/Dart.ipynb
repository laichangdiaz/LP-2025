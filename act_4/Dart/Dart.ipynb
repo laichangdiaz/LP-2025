{
 "cells": [
  {
   "cell_type": "markdown",
   "metadata": {},
   "source": [
    "# Principios Basicos en **Dart**\n"
   ]
  },
  {
   "cell_type": "markdown",
   "metadata": {},
   "source": [
    "<hr>"
   ]
  },
  {
   "cell_type": "markdown",
   "metadata": {},
   "source": [
    "### ¿Qué es Dart?"
   ]
  },
  {
   "cell_type": "markdown",
   "metadata": {},
   "source": [
    "Es un lenguaje que fue desarrollado principalmente por Google. Dart es un estándar Ecma, la organización europea para la estandarización de sistemas informáticos y de comunicación y productos electrónicos. La programación Dart es una alternativa interesante a JavaScript en los navegadores web actuales. De acuerdo con los desarrolladores de Dart, ya no es posible subsanar las deficiencias de JavaScript mediante el desarrollo del lenguaje."
   ]
  },
  {
   "cell_type": "markdown",
   "metadata": {},
   "source": [
    "### Introducción a **Dart**"
   ]
  },
  {
   "cell_type": "markdown",
   "metadata": {},
   "source": [
    "#### Hello World"
   ]
  },
  {
   "cell_type": "markdown",
   "metadata": {},
   "source": [
    "Para colocar un hello world en Dart tenemso que considerar que cada archivo **Dart** requiere de la función de nivel superior **main()**, donde comienza la ejecución. Las funciones que no devuelven un valor de forma explicita tienen el **void** tipo de retorno."
   ]
  },
  {
   "cell_type": "code",
   "execution_count": null,
   "metadata": {
    "vscode": {
     "languageId": "plaintext"
    }
   },
   "outputs": [],
   "source": [
    "void main(){\n",
    "    print(\"Hello World\") // Imprime texto en la consola\n",
    "}"
   ]
  },
  {
   "cell_type": "markdown",
   "metadata": {},
   "source": [
    "#### Variables"
   ]
  },
  {
   "cell_type": "markdown",
   "metadata": {},
   "source": [
    "En Dart se puede declarar variables como se hace en javascript , solo que la diferencia que hay es que en Dart se utiliza más **var** a diferencia de javascript que se utilizan más **const** y **let**, pero igualmente en Dart la palabra reservada **var** no es la unica tambien se utiliza **final** y **const**"
   ]
  },
  {
   "cell_type": "code",
   "execution_count": null,
   "metadata": {
    "vscode": {
     "languageId": "plaintext"
    }
   },
   "outputs": [],
   "source": [
    "var nombre = \"Jose Santana\";\n",
    "var lista = [\"Barcelona\", \"Real Madrid\"];\n",
    "final edad = 20\n",
    "const cedula = \"31608829\""
   ]
  },
  {
   "cell_type": "markdown",
   "metadata": {},
   "source": [
    "#### Tipos de datos"
   ]
  },
  {
   "cell_type": "markdown",
   "metadata": {},
   "source": [
    "Dart no se queda atras como otros lenguajes , igual que varios lenguajes los tipos de datos que hay en Dart son:\n",
    "1. Number (**int**, **double**),\n",
    "2. String (**String**),\n",
    "3. booleans (**bool**)"
   ]
  },
  {
   "cell_type": "markdown",
   "metadata": {},
   "source": [
    "#### Number"
   ]
  },
  {
   "cell_type": "markdown",
   "metadata": {},
   "source": [
    "son un tipo de dato que abarca los numeros tanto enteros como decimales"
   ]
  },
  {
   "cell_type": "code",
   "execution_count": null,
   "metadata": {
    "vscode": {
     "languageId": "plaintext"
    }
   },
   "outputs": [],
   "source": [
    "int num1 = 20; // numeros enteros\n",
    "double num2 = 2.5; // numeros decimales"
   ]
  },
  {
   "cell_type": "markdown",
   "metadata": {},
   "source": [
    "#### String"
   ]
  },
  {
   "cell_type": "markdown",
   "metadata": {},
   "source": [
    "Son un tipo datos que se utilizan para forma cadenas de texto"
   ]
  },
  {
   "cell_type": "markdown",
   "metadata": {},
   "source": [
    "String pregunta = \"Te gusta el rock\";\n",
    "print(pregunta);"
   ]
  },
  {
   "cell_type": "markdown",
   "metadata": {},
   "source": [
    "#### Booleans"
   ]
  },
  {
   "cell_type": "markdown",
   "metadata": {},
   "source": [
    "En este tipo de datos se utiliza para comprobar si una variable cumple una condición o no , su valores son **True** y **False**"
   ]
  },
  {
   "cell_type": "code",
   "execution_count": null,
   "metadata": {
    "vscode": {
     "languageId": "plaintext"
    }
   },
   "outputs": [],
   "source": [
    "var num1 = 0;\n",
    "print(num1 == 0); // True\n",
    "\n",
    "var nombre = \"JOSE\"\n",
    "print(nombre.toLowerCase == \"Carlos\") // False"
   ]
  }
 ],
 "metadata": {
  "language_info": {
   "name": "python"
  }
 },
 "nbformat": 4,
 "nbformat_minor": 2
}
