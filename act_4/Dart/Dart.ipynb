{
 "cells": [
  {
   "cell_type": "markdown",
   "metadata": {},
   "source": [
    "# Principios Basicos en **Dart**\n"
   ]
  },
  {
   "cell_type": "markdown",
   "metadata": {},
   "source": [
    "<hr>"
   ]
  },
  {
   "cell_type": "markdown",
   "metadata": {},
   "source": [
    "### ¿Qué es Dart?"
   ]
  },
  {
   "cell_type": "markdown",
   "metadata": {},
   "source": [
    "Es un lenguaje que fue desarrollado principalmente por Google. Dart es un estándar Ecma, la organización europea para la estandarización de sistemas informáticos y de comunicación y productos electrónicos. La programación Dart es una alternativa interesante a JavaScript en los navegadores web actuales. De acuerdo con los desarrolladores de Dart, ya no es posible subsanar las deficiencias de JavaScript mediante el desarrollo del lenguaje."
   ]
  },
  {
   "cell_type": "markdown",
   "metadata": {},
   "source": [
    "### Introducción a **Dart**"
   ]
  },
  {
   "cell_type": "markdown",
   "metadata": {},
   "source": [
    "#### Hello World"
   ]
  },
  {
   "cell_type": "markdown",
   "metadata": {},
   "source": [
    "Para colocar un hello world en Dart tenemso que considerar que cada archivo **Dart** requiere de la función de nivel superior **main()**, donde comienza la ejecución. Las funciones que no devuelven un valor de forma explicita tienen el **void** tipo de retorno."
   ]
  },
  {
   "cell_type": "code",
   "execution_count": null,
   "metadata": {
    "vscode": {
     "languageId": "plaintext"
    }
   },
   "outputs": [],
   "source": [
    "void main(){\n",
    "    print(\"Hello World\") // Imprime texto en la consola\n",
    "}"
   ]
  },
  {
   "cell_type": "markdown",
   "metadata": {},
   "source": [
    "#### Variables"
   ]
  },
  {
   "cell_type": "markdown",
   "metadata": {},
   "source": [
    "En Dart se puede declarar variables como se hace en javascript , solo que la diferencia que hay es que en Dart se utiliza más **var** a diferencia de javascript que se utilizan más **const** y **let**, pero igualmente en Dart la palabra reservada **var** no es la unica tambien se utiliza **final** y **const**"
   ]
  },
  {
   "cell_type": "code",
   "execution_count": null,
   "metadata": {
    "vscode": {
     "languageId": "plaintext"
    }
   },
   "outputs": [],
   "source": [
    "var nombre = \"Jose Santana\";\n",
    "var lista = [\"Barcelona\", \"Real Madrid\"];\n",
    "final edad = 20\n",
    "const cedula = \"31608829\""
   ]
  },
  {
   "cell_type": "markdown",
   "metadata": {},
   "source": [
    "#### Tipos de datos"
   ]
  },
  {
   "cell_type": "markdown",
   "metadata": {},
   "source": [
    "Dart no se queda atras como otros lenguajes , igual que varios lenguajes los tipos de datos que hay en Dart son:\n",
    "1. Number (**int**, **double**),\n",
    "2. String (**String**),\n",
    "3. booleans (**bool**)"
   ]
  },
  {
   "cell_type": "markdown",
   "metadata": {},
   "source": [
    "#### Number"
   ]
  },
  {
   "cell_type": "markdown",
   "metadata": {},
   "source": [
    "son un tipo de dato que abarca los numeros tanto enteros como decimales"
   ]
  },
  {
   "cell_type": "code",
   "execution_count": null,
   "metadata": {
    "vscode": {
     "languageId": "plaintext"
    }
   },
   "outputs": [],
   "source": [
    "int num1 = 20; // numeros enteros\n",
    "double num2 = 2.5; // numeros decimales"
   ]
  },
  {
   "cell_type": "markdown",
   "metadata": {},
   "source": [
    "#### String"
   ]
  },
  {
   "cell_type": "markdown",
   "metadata": {},
   "source": [
    "Son un tipo datos que se utilizan para forma cadenas de texto"
   ]
  },
  {
   "cell_type": "markdown",
   "metadata": {},
   "source": [
    "String pregunta = \"Te gusta el rock\";\n",
    "print(pregunta);"
   ]
  },
  {
   "cell_type": "markdown",
   "metadata": {},
   "source": [
    "#### Booleans"
   ]
  },
  {
   "cell_type": "markdown",
   "metadata": {},
   "source": [
    "En este tipo de datos se utiliza para comprobar si una variable cumple una condición o no , su valores son **True** y **False**"
   ]
  },
  {
   "cell_type": "code",
   "execution_count": null,
   "metadata": {
    "vscode": {
     "languageId": "plaintext"
    }
   },
   "outputs": [],
   "source": [
    "var num1 = 0;\n",
    "print(num1 == 0); // True\n",
    "\n",
    "var nombre = \"JOSE\"\n",
    "print(nombre.toLowerCase() == \"Carlos\") // False"
   ]
  },
  {
   "cell_type": "markdown",
   "metadata": {},
   "source": [
    "### Operadores en Dart"
   ]
  },
  {
   "cell_type": "markdown",
   "metadata": {},
   "source": [
    "#### Operadores Aritmeticos"
   ]
  },
  {
   "cell_type": "markdown",
   "metadata": {},
   "source": [
    "Los operadores aritmeticos nos ayuda hacer operaciones basicas como sumar numeros, restar numeros, multiplicar numeros y dividir numeros , como sacar el modulo de dos numeros, etc..."
   ]
  },
  {
   "cell_type": "code",
   "execution_count": null,
   "metadata": {
    "vscode": {
     "languageId": "plaintext"
    }
   },
   "outputs": [],
   "source": [
    "int num1 = 35;\n",
    "int num2 = 67;\n",
    "print(num1 + num2); // sumar dos numeros // 102\n",
    "print(num1 - num2); // resta dos numeros // -32\n",
    "print(num1 * num2); // multiplica dos numeros // 2345\n",
    "print(num1 / num2); // divide dos numeros y devuelve su resultado con decimales // 0.52\n",
    "print(num1 ~/ num2); // divide dos numeros y deveuelve su resultado en entreros // 0\n",
    "print(num1 % num2); // Saca el modulo de dos numeros // 35"
   ]
  },
  {
   "cell_type": "markdown",
   "metadata": {},
   "source": [
    "#### Operadores de incremento y decremento"
   ]
  },
  {
   "cell_type": "markdown",
   "metadata": {},
   "source": [
    "Estos operadores se utilizan para incrementar un numero o disminuir un numero , estso se utiliza más en los bucles o cuando queremos aumentar un contador"
   ]
  },
  {
   "cell_type": "code",
   "execution_count": null,
   "metadata": {
    "vscode": {
     "languageId": "plaintext"
    }
   },
   "outputs": [],
   "source": [
    "int a;\n",
    "int b;\n",
    "\n",
    "a = 0;\n",
    "b = ++a; // Incrementa a antes de que b obtenga su valor. // 1\n",
    "\n",
    "a = 2;\n",
    "b = a++; // Incrementa a despues de que b obtenga su valor // 3\n",
    "\n",
    "a = 0;\n",
    "b = --a; // decrementa a antes de que b obtenga su valor // -1\n",
    "\n",
    "a = 3;\n",
    "b = a--; // decrementa a despues de que b obtenga su valor // 2\n"
   ]
  },
  {
   "cell_type": "markdown",
   "metadata": {},
   "source": [
    "#### Operadores Logicos"
   ]
  },
  {
   "cell_type": "markdown",
   "metadata": {},
   "source": [
    "Estos operadores se utilizan para comprobar una condición , la mayoria de estsos operadores se utilizan con las condiciones **if**,**else**,**else if**"
   ]
  },
  {
   "cell_type": "code",
   "execution_count": null,
   "metadata": {
    "vscode": {
     "languageId": "plaintext"
    }
   },
   "outputs": [],
   "source": [
    "int edad = 20;\n",
    "int nombre = Jose;\n",
    "print(edad == 20); // igual a\n",
    "print(edad != 20); // Diferente a\n",
    "print(edad < 20); // menor a\n",
    "print(edad > 20); // mayor a\n",
    "print(edad <= 20); // menor igual a\n",
    "print(edad >= 20); // mayor igual a\n",
    "print(edad == 20 & nombre == 'Jose'); // AND\n",
    "print(edad == 15 | nombre == 'Jose'); // OR\n",
    "print(edad == 20 & ~ nombre == 'Jose'); // AND NOT"
   ]
  },
  {
   "cell_type": "markdown",
   "metadata": {},
   "source": [
    "#### Como importar librerias en **Dart**"
   ]
  },
  {
   "cell_type": "markdown",
   "metadata": {},
   "source": [
    "Para importar las librerias predefinidas de **Dart** se utiliza la palabara reservada **import** como en python, javascript"
   ]
  },
  {
   "cell_type": "code",
   "execution_count": null,
   "metadata": {
    "vscode": {
     "languageId": "plaintext"
    }
   },
   "outputs": [],
   "source": [
    "// Importar librerias de Dart\n",
    "\n",
    "import 'dart:math';\n",
    "\n",
    "// Importar librerias de un paquete externo\n",
    "\n",
    "import 'package:test/test.dart';\n",
    "\n",
    "// Importar documentos o archivos\n",
    "\n",
    "import 'path/to/my_other_file.dart';"
   ]
  },
  {
   "cell_type": "markdown",
   "metadata": {},
   "source": [
    "### Listas en **Dart**"
   ]
  },
  {
   "cell_type": "markdown",
   "metadata": {},
   "source": [
    "Los más común de los lenguajes de progrmación son las listas o grupo ordenado de objetos, en Dart a las listas se le llama List , para declarar una lista en dart se utiliza **[]**"
   ]
  },
  {
   "cell_type": "code",
   "execution_count": null,
   "metadata": {
    "vscode": {
     "languageId": "plaintext"
    }
   },
   "outputs": [],
   "source": [
    "var list = [1,2,3];"
   ]
  },
  {
   "cell_type": "markdown",
   "metadata": {},
   "source": [
    "para obtener la longitud se utiliza la propiedad **length** y para acceder a los valores de una lista mediante el operador de subindice **[]** "
   ]
  },
  {
   "cell_type": "code",
   "execution_count": null,
   "metadata": {
    "vscode": {
     "languageId": "plaintext"
    }
   },
   "outputs": [],
   "source": [
    "var Carros = [\"Mustang\", \"Ford\", \"Ferrari\", \"Turpial\"];\n",
    "print(Carros.length); // 4\n",
    "print(Carros[0]); // Mustang"
   ]
  },
  {
   "cell_type": "markdown",
   "metadata": {},
   "source": [
    "### Condicionales en **Dart**"
   ]
  },
  {
   "cell_type": "markdown",
   "metadata": {},
   "source": [
    "Como en la mayoria existe los condicionales que son bloques de codigo donde se ejecuta si una condición se cumple , en dart tenemos a los clasicos **if**, **else if** y **else**"
   ]
  },
  {
   "cell_type": "markdown",
   "metadata": {},
   "source": [
    "#### if"
   ]
  },
  {
   "cell_type": "markdown",
   "metadata": {},
   "source": [
    "La estructura de if es la siguiente:"
   ]
  },
  {
   "cell_type": "code",
   "execution_count": null,
   "metadata": {
    "vscode": {
     "languageId": "plaintext"
    }
   },
   "outputs": [],
   "source": [
    "if(condicion){\n",
    "    ...codigo\n",
    "}"
   ]
  },
  {
   "cell_type": "markdown",
   "metadata": {},
   "source": [
    "Un ejemplo de ellos seria el siguiente:"
   ]
  },
  {
   "cell_type": "code",
   "execution_count": null,
   "metadata": {
    "vscode": {
     "languageId": "plaintext"
    }
   },
   "outputs": [],
   "source": [
    "int año = 2005\n",
    "if(año == 2005){\n",
    "    print(\"Naciste en el año 2005\");\n",
    "}"
   ]
  },
  {
   "cell_type": "markdown",
   "metadata": {},
   "source": [
    "#### else if"
   ]
  },
  {
   "cell_type": "markdown",
   "metadata": {},
   "source": [
    "Si no se cumple el **if** pasa a la siguiente a la condición que es el **else if** la cual tiene la siguiente estructura:"
   ]
  },
  {
   "cell_type": "code",
   "execution_count": null,
   "metadata": {
    "vscode": {
     "languageId": "plaintext"
    }
   },
   "outputs": [],
   "source": [
    "if(condicion){\n",
    "    ...codigo  // Si no entra aqui\n",
    "}\n",
    "else if(condicion){\n",
    "    ...codigo // Entra aqui\n",
    "}"
   ]
  },
  {
   "cell_type": "markdown",
   "metadata": {},
   "source": [
    "Un ejemplo seria el siguiente: "
   ]
  },
  {
   "cell_type": "code",
   "execution_count": null,
   "metadata": {
    "vscode": {
     "languageId": "plaintext"
    }
   },
   "outputs": [],
   "source": [
    "int numero_egresos = 340;\n",
    "if(numero_egresos <= 300){\n",
    "    print(\"No generamos lo que esperabamos\");\n",
    "}\n",
    "else if(numero_egresos >= 300){\n",
    "    print(\"El aplausoooo\")\n",
    "}"
   ]
  },
  {
   "cell_type": "markdown",
   "metadata": {},
   "source": [
    "#### else"
   ]
  },
  {
   "cell_type": "markdown",
   "metadata": {},
   "source": [
    "La ultima condición si la condición del **if** y **else if** no se cumpeln entra al bloque de codigo del condicional **else** , la cual tiene la siguiente estructura:"
   ]
  },
  {
   "cell_type": "code",
   "execution_count": null,
   "metadata": {
    "vscode": {
     "languageId": "plaintext"
    }
   },
   "outputs": [],
   "source": [
    "if(condicion){\n",
    "    ...Codigo \n",
    "}\n",
    "else if(condición){\n",
    "    ...Codigo\n",
    "}\n",
    "// Si no se cumple ni el if , ni el else if\n",
    "else{\n",
    "    ...Codigo\n",
    "}"
   ]
  },
  {
   "cell_type": "markdown",
   "metadata": {},
   "source": [
    "Un ejemplo seria el siguiente:"
   ]
  },
  {
   "cell_type": "code",
   "execution_count": null,
   "metadata": {
    "vscode": {
     "languageId": "plaintext"
    }
   },
   "outputs": [],
   "source": [
    "int edad = 20;\n",
    "String nombre = \"Jose\";\n",
    "\n",
    "if(nombre == \"Carlos\" & edad == 15){\n",
    "    print(\"Hola carlos\");\n",
    "}\n",
    "else if(nombre == \"Mitchell\" | edad < 20){\n",
    "    print(\"Hola Mitchell\");\n",
    "}\n",
    "else{\n",
    "    print(\"Hola Jose\");\n",
    "}"
   ]
  },
  {
   "cell_type": "markdown",
   "metadata": {},
   "source": [
    "### Bucles en **Dart**"
   ]
  },
  {
   "cell_type": "markdown",
   "metadata": {},
   "source": [
    "Como la mayoria de lenguajes de programación existen los bucles que son bloques de codigo que se repetiran hasta que se cumpla una condición por completo, en **Dart** esta los clasicos bucles que son **for**, **while** y **do-while**"
   ]
  }
 ],
 "metadata": {
  "language_info": {
   "name": "python"
  }
 },
 "nbformat": 4,
 "nbformat_minor": 2
}
