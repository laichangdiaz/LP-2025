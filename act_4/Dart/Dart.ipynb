{
 "cells": [
  {
   "cell_type": "markdown",
   "metadata": {},
   "source": [
    "# Principios Basicos en **Dart**\n"
   ]
  },
  {
   "cell_type": "markdown",
   "metadata": {},
   "source": [
    "<hr>"
   ]
  },
  {
   "cell_type": "markdown",
   "metadata": {},
   "source": [
    "### ¿Qué es Dart?"
   ]
  },
  {
   "cell_type": "markdown",
   "metadata": {},
   "source": [
    "Es un lenguaje que fue desarrollado principalmente por Google. Dart es un estándar Ecma, la organización europea para la estandarización de sistemas informáticos y de comunicación y productos electrónicos. La programación Dart es una alternativa interesante a JavaScript en los navegadores web actuales. De acuerdo con los desarrolladores de Dart, ya no es posible subsanar las deficiencias de JavaScript mediante el desarrollo del lenguaje."
   ]
  },
  {
   "cell_type": "markdown",
   "metadata": {},
   "source": [
    "### Introducción a **Dart**"
   ]
  }
 ],
 "metadata": {
  "language_info": {
   "name": "python"
  }
 },
 "nbformat": 4,
 "nbformat_minor": 2
}
