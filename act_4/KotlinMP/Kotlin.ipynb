{
 "cells": [
  {
   "cell_type": "markdown",
   "metadata": {},
   "source": [
    "# Principios Básicos en **Kotlin**"
   ]
  },
  {
   "cell_type": "markdown",
   "metadata": {},
   "source": [
    "---"
   ]
  },
  {
   "cell_type": "markdown",
   "metadata": {},
   "source": [
    "# Introducción al **Kotlin**"
   ]
  },
  {
   "cell_type": "markdown",
   "metadata": {},
   "source": [
    "Se trata de un lenguaje de programación de tapado estático que puede correr sobre JVM, JavaScript y desde hace poco sin necesidad de ninguna de estas ya que paralelamente se está desarrollando en nativo con LLVM. Gracias a esto es totalmente interoperable con código Java lo que nos permite migrar de una forma gradual nuestros proyectos.  \n",
    "  \n",
    "**¿Pero para qué puede hacer?**  \n",
    "  \n",
    "En este lenguaje permite hacer como crear aplicaciones para Android de manera más rápida y eficiente; desarrollar las aplicaciones móviles, aplicaciones web, aplicaciones para Node.js, etc. Unos de ejemplos que hizo aplicaciones móviles en Kotlin será *GuessTheWord*, *ViewModel* y *LiveData*.  \n",
    "  \n",
    "Su característica principal es la simplificación la escritura de código, combina características de programación funcional y orientada a objetos; tiene una sintaxis más consisa que Java.  \n",
    "  \n",
    "(Explicación qué es LLVM)  \n",
    "LLVM (Low Level Virtual Machine) es una infraestructura de código abierto que permite compilar, optimizar y generar código máquina. Se compone de herramientas y bibliotecas que se pueden usar para desarrollar compiladores. "
   ]
  },
  {
   "cell_type": "markdown",
   "metadata": {},
   "source": [
    "---"
   ]
  },
  {
   "cell_type": "markdown",
   "metadata": {},
   "source": [
    "#### Variables y tipos de datos"
   ]
  },
  {
   "cell_type": "markdown",
   "metadata": {},
   "source": [
    "#### Declarar Variables"
   ]
  },
  {
   "cell_type": "code",
   "execution_count": null,
   "metadata": {
    "vscode": {
     "languageId": "plaintext"
    }
   },
   "outputs": [],
   "source": [
    "fun main() {\n",
    "    //Primero, enseñamos como imprimir en la consola:\n",
    "    println(\"Hello world!\")\n",
    "    print(\"Hello \")\n",
    "    print(\"World!\")\n",
    "\n",
    "    //Para declarar las variables hay 2 formas para hacerlo:\n",
    "    //Utilizar \"val\":\n",
    "    /*\n",
    "    Utilice la palabra clave val para declarar variables a las que se les asigna un valor solo una vez.  \n",
    "    Se trata de variables locales inmutables y de solo lectura a las que no se les puede reasignar un valor diferente después de la inicialización.\n",
    "    */\n",
    "    val x: Int = 5\n",
    "\n",
    "    //Utlizar \"var\":\n",
    "    /*\n",
    "    Utilice la palabra clave var para declarar variables que se puedan reasignar. \n",
    "    Se trata de variables mutables y puede cambiar sus valores después de la inicialización.\n",
    "    */\n",
    "    var y: Int = 10\n",
    "\n",
    "    //¿Existe una forma más sencilla para declarar la variable? Obvio sir, que son los siguientes:\n",
    "    val z = 20\n",
    "\n",
    "    //Ojo, las variables solo se pueden utilizar después de inicializarlas.\n",
    "    val C: Int\n",
    "    c = 3\n",
    "}"
   ]
  },
  {
   "cell_type": "markdown",
   "metadata": {},
   "source": [
    "#### Tipos de datos"
   ]
  },
  {
   "cell_type": "code",
   "execution_count": null,
   "metadata": {
    "vscode": {
     "languageId": "plaintext"
    }
   },
   "outputs": [],
   "source": [
    "fun main(){\n",
    "    //Numeros Enteros\n",
    "    //Byte\n",
    "    val n_byte: Byte = 100\n",
    "\n",
    "    //Short\n",
    "    val n_short: Short = 30000\n",
    "\n",
    "    //Int\n",
    "    val n_int: Int = 5201314\n",
    "\n",
    "    //Long\n",
    "    val n_long: Long = 1234567890L \n",
    "    //Ojo, para el numero tipo Long, necesita escribir la letra \"L\" al final del numero.\n",
    "\n",
    "    //Numeros Decimales\n",
    "    //Float\n",
    "    val n_float: Float = 3.25f\n",
    "    //Ojo, para el numero tipo float, necesita escribir la letra \"f\" al final del numero.\n",
    "\n",
    "    //Double\n",
    "    val n_double: Double = 3.1425\n",
    "\n",
    "    //Cadena Texto\n",
    "    val texto: String = \"Hola Profe, espero que le gusta esta documentación, JAJAJA OwO\"\n",
    "\n",
    "    //Tipo Booleano\n",
    "    val verdad: Boolean = true\n",
    "    val mentira: Boolean = false\n",
    "\n",
    "    //Arrglo\n",
    "    val lista_numeros = arrayof(1,2,3,1314,7758)\n",
    "}"
   ]
  },
  {
   "cell_type": "markdown",
   "metadata": {},
   "source": [
    "---"
   ]
  },
  {
   "cell_type": "markdown",
   "metadata": {},
   "source": [
    "## **Referencias:**  \n",
    "Guimerá, A. (2021). Qué es Kotlin y características. Recuperado: https://openwebinars.net/blog/que-es-kotlin/  \n",
    "JERBRAINS. (2025). Basic Syntax. Recuperado: https://kotlinlang.org/docs/basic-syntax.html#type-checks-and-automatic-casts "
   ]
  }
 ],
 "metadata": {
  "language_info": {
   "name": "python"
  }
 },
 "nbformat": 4,
 "nbformat_minor": 2
}
