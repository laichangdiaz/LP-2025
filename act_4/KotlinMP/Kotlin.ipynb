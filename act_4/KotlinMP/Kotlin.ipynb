{
 "cells": [
  {
   "cell_type": "markdown",
   "metadata": {},
   "source": [
    "# Principios Básicos en **Kotlin**"
   ]
  },
  {
   "cell_type": "markdown",
   "metadata": {},
   "source": [
    "---"
   ]
  },
  {
   "cell_type": "markdown",
   "metadata": {},
   "source": [
    "# Introducción al **Kotlin**"
   ]
  },
  {
   "cell_type": "markdown",
   "metadata": {},
   "source": [
    "Se trata de un lenguaje de programación de tapado estático que puede correr sobre JVM, JavaScript y desde hace poco sin necesidad de ninguna de estas ya que paralelamente se está desarrollando en nativo con LLVM. Gracias a esto es totalmente interoperable con código Java lo que nos permite migrar de una forma gradual nuestros proyectos.  \n",
    "  \n",
    "**¿Pero para qué puede hacer?**  \n",
    "  \n",
    "En este lenguaje permite hacer como crear aplicaciones para Android de manera más rápida y eficiente; desarrollar las aplicaciones móviles, aplicaciones web, aplicaciones para Node.js, etc. Unos de ejemplos que hizo aplicaciones móviles en Kotlin será *GuessTheWord*, *ViewModel* y *LiveData*.  \n",
    "  \n",
    "Su característica principal es la simplificación la escritura de código, combina características de programación funcional y orientada a objetos; tiene una sintaxis más consisa que Java.  \n",
    "  \n",
    "(Explicación qué es LLVM)  \n",
    "LLVM (Low Level Virtual Machine) es una infraestructura de código abierto que permite compilar, optimizar y generar código máquina. Se compone de herramientas y bibliotecas que se pueden usar para desarrollar compiladores. "
   ]
  },
  {
   "cell_type": "markdown",
   "metadata": {},
   "source": [
    "---"
   ]
  },
  {
   "cell_type": "markdown",
   "metadata": {},
   "source": [
    "#### Variables y tipos de datos"
   ]
  },
  {
   "cell_type": "markdown",
   "metadata": {},
   "source": [
    "#### Declarar Variables"
   ]
  },
  {
   "cell_type": "code",
   "execution_count": null,
   "metadata": {
    "vscode": {
     "languageId": "plaintext"
    }
   },
   "outputs": [],
   "source": [
    "fun main() {\n",
    "    //Primero, enseñamos como imprimir en la consola:\n",
    "    println(\"Hello world!\")\n",
    "    print(\"Hello \")\n",
    "    print(\"World!\")\n",
    "\n",
    "    //Para declarar las variables hay 2 formas para hacerlo:\n",
    "    //Utilizar \"val\":\n",
    "    /*\n",
    "    Utilice la palabra clave val para declarar variables a las que se les asigna un valor solo una vez.  \n",
    "    Se trata de variables locales inmutables y de solo lectura a las que no se les puede reasignar un valor diferente después de la inicialización.\n",
    "    */\n",
    "    val x: Int = 5\n",
    "\n",
    "    //Utlizar \"var\":\n",
    "    /*\n",
    "    Utilice la palabra clave var para declarar variables que se puedan reasignar. \n",
    "    Se trata de variables mutables y puede cambiar sus valores después de la inicialización.\n",
    "    */\n",
    "    var y: Int = 10\n",
    "\n",
    "    //¿Existe una forma más sencilla para declarar la variable? Obvio sir, que son los siguientes:\n",
    "    val z = 20\n",
    "\n",
    "    //Ojo, las variables solo se pueden utilizar después de inicializarlas.\n",
    "    val C: Int\n",
    "    c = 3\n",
    "}"
   ]
  },
  {
   "cell_type": "markdown",
   "metadata": {},
   "source": [
    "#### Tipos de datos"
   ]
  },
  {
   "cell_type": "code",
   "execution_count": null,
   "metadata": {
    "vscode": {
     "languageId": "plaintext"
    }
   },
   "outputs": [],
   "source": [
    "fun main(){\n",
    "    //Numeros Enteros\n",
    "    //Byte\n",
    "    val n_byte: Byte = 100\n",
    "\n",
    "    //Short\n",
    "    val n_short: Short = 30000\n",
    "\n",
    "    //Int\n",
    "    val n_int: Int = 5201314\n",
    "\n",
    "    //Long\n",
    "    val n_long: Long = 1234567890L \n",
    "    //Ojo, para el numero tipo Long, necesita escribir la letra \"L\" al final del numero.\n",
    "\n",
    "    //Numeros Decimales\n",
    "    //Float\n",
    "    val n_float: Float = 3.25f\n",
    "    //Ojo, para el numero tipo float, necesita escribir la letra \"f\" al final del numero.\n",
    "\n",
    "    //Double\n",
    "    val n_double: Double = 3.1425\n",
    "\n",
    "    //Cadena Texto\n",
    "    val texto: String = \"Hola Profe, espero que le gusta esta documentación, JAJAJA OwO\"\n",
    "\n",
    "    //Tipo Booleano\n",
    "    val verdad: Boolean = true\n",
    "    val mentira: Boolean = false\n",
    "\n",
    "    //Arrglo\n",
    "    val lista_numeros = arrayof(1,2,3,1314,7758)\n",
    "}"
   ]
  },
  {
   "cell_type": "markdown",
   "metadata": {},
   "source": [
    "#### Operación Aritmética"
   ]
  },
  {
   "cell_type": "code",
   "execution_count": null,
   "metadata": {
    "vscode": {
     "languageId": "plaintext"
    }
   },
   "outputs": [],
   "source": [
    "fun main(){\n",
    "    val numero1 = 10\n",
    "    val numero2 = 5\n",
    "\n",
    "    println(\"Operación Aritmética: \")\n",
    "    println(\"Número 1 = $numero1\")\n",
    "    println(\"Número 2 = $numero2\")\n",
    "    println()\n",
    "\n",
    "    println(\"Suma (+): ${numero1 + numero2}\")\n",
    "    println(\"Resta (-): ${numero1 - numero2}\")\n",
    "    println(\"Multiplicar (*): ${numero1 * numero2}\")\n",
    "    println(\"Dividir (/): ${numero1 / numero2.toDouble()}\")\n",
    "    println(\"Módulo (%): ${numero1 % numero2}\")\n",
    "}\n",
    "\n",
    "/*\n",
    "El \"$\" o \"${}\" es para insertar los valores para dentro de cadenas. \n",
    "*/"
   ]
  },
  {
   "cell_type": "markdown",
   "metadata": {},
   "source": [
    "#### Condicionales"
   ]
  },
  {
   "cell_type": "code",
   "execution_count": null,
   "metadata": {
    "vscode": {
     "languageId": "plaintext"
    }
   },
   "outputs": [],
   "source": [
    "fun main(){\n",
    "    val numero3 = 10\n",
    "    val numero4 = 500\n",
    "\n",
    "    // Primer caso: con un solo if\n",
    "    if (numero3 > 5) {\n",
    "        println(\"OMG, el numero3 es mayor que el 5\")\n",
    "    }\n",
    "\n",
    "    println()\n",
    "\n",
    "    if (numero3 > 11) {\n",
    "        println(\"OMG, el numero3 es mayor que el 11??\") // Aquí no se va a imprimir porque no se cumple la condición\n",
    "    }\n",
    "\n",
    "    // Segundo caso: con if else\n",
    "    if (numero3 > 50) {\n",
    "        println(\"OMG, el numero3 es mayor que el 50\")\n",
    "    } else {\n",
    "        println(\"OMG, el numero3 es menor que el 50\")\n",
    "    }\n",
    "\n",
    "    println()\n",
    "\n",
    "    // Tercer caso: if else con un \"else if\"\n",
    "    if (numero3 > 50) {\n",
    "        println(\"OMG, el numero3 es mayor que el 50\")\n",
    "    } else if (numero3 == 10) {\n",
    "        println(\"OMG, el numero3 es igual al 10\")\n",
    "    } else {\n",
    "        println(\"OMG, el numero3 es menor que el 50\")\n",
    "    }\n",
    "\n",
    "    println()\n",
    "\n",
    "    // Cuarto caso: If anidadas\n",
    "    if (numero3 == 10) {\n",
    "        if (numero4 > 500) {\n",
    "            println(\"El numero 4 es mayor que 500\")\n",
    "        } else {\n",
    "            println(\"Se puede concluir que el numero4 es igual o menor que 500\")\n",
    "        }\n",
    "    } else {\n",
    "        println(\"JAJA, el numero3 no es igual al 10\")\n",
    "    }\n",
    "}"
   ]
  },
  {
   "cell_type": "markdown",
   "metadata": {},
   "source": [
    "Y para saber cuales son las **Operadores de comparación**, que son los siguientes:  \n",
    "' == ' (Es igual)  \n",
    "' != ' (Es diferente de)  \n",
    "' < ' (Es menor que)  \n",
    "' > ' (Es mayor que)  \n",
    "' <= ' (Es menor o igual que)  \n",
    "' >= ' (Es mayor o igual que)"
   ]
  },
  {
   "cell_type": "markdown",
   "metadata": {},
   "source": [
    "Y Claro, tambien puede existir utilizando **Operadores booleanos (&&,||,!)** en los condicionales, por ejemplo:"
   ]
  },
  {
   "cell_type": "code",
   "execution_count": null,
   "metadata": {
    "vscode": {
     "languageId": "plaintext"
    }
   },
   "outputs": [],
   "source": [
    "fun main(){\n",
    "    val numero512 = 500\n",
    "    val numero515 = 600\n",
    "\n",
    "    // Condición AND (&&)\n",
    "    if (numero512 == 500 && numero515 == 600) {\n",
    "        println(\"Oye, sí se cumplió la condición\")\n",
    "    }\n",
    "\n",
    "    // Condición OR (||)\n",
    "    if (numero512 > 500 || numero515 > 500) {\n",
    "        println(\"Oye, sí se cumplió la condición\")\n",
    "    }\n",
    "\n",
    "    // Condición NOT (!)\n",
    "    if (!(numero512 == 500 && numero515 == 600)) {\n",
    "        println(\"Oye, no se cumplió la condición\")\n",
    "    }\n",
    "\n",
    "    // Otra forma de usar NOT (!) con una condición simple\n",
    "    if (! (numero512 > 500)) {\n",
    "        println(\"El número 512 no es mayor que 500\")\n",
    "    }\n",
    "\n",
    "    //Explicación para los códigos anteriores:\n",
    "    /*\n",
    "    Condición AND (&&): Ambas condiciones deben ser verdaderas para que se ejecute el código dentro del bloque if.\n",
    "\n",
    "    Condición OR (||): Solo una de las condiciones debe ser verdadera para que se ejecute el código dentro del bloque if.\n",
    "\n",
    "    Condición NOT (!): Se utiliza para negar una condición. Si la condición original es verdadera, la condición negada será falsa, y viceversa.\n",
    "    */\n",
    "}"
   ]
  },
  {
   "cell_type": "markdown",
   "metadata": {},
   "source": [
    "---"
   ]
  },
  {
   "cell_type": "markdown",
   "metadata": {},
   "source": [
    "## **Referencias:**  \n",
    "Guimerá, A. (2021). Qué es Kotlin y características. Recuperado: https://openwebinars.net/blog/que-es-kotlin/  \n",
    "JERBRAINS. (2025). Basic Syntax. Recuperado: https://kotlinlang.org/docs/basic-syntax.html#type-checks-and-automatic-casts "
   ]
  }
 ],
 "metadata": {
  "language_info": {
   "name": "python"
  }
 },
 "nbformat": 4,
 "nbformat_minor": 2
}
