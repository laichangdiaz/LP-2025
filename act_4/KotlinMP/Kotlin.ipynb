{
 "cells": [
  {
   "cell_type": "markdown",
   "metadata": {},
   "source": [
    "# Principios Básicos en **Kotlin**"
   ]
  },
  {
   "cell_type": "markdown",
   "metadata": {},
   "source": [
    "---"
   ]
  },
  {
   "cell_type": "markdown",
   "metadata": {},
   "source": [
    "Introducción al **Kotlin**"
   ]
  },
  {
   "cell_type": "markdown",
   "metadata": {},
   "source": [
    "Se trata de un lenguaje de programación de tapado estático que puede correr sobre JVM, JavaScript y desde hace poco sin necesidad de ninguna de estas ya que paralelamente se está desarrollando en nativo con LLVM. Gracias a esto es totalmente interoperable con código Java lo que nos permite migrar de una forma gradual nuestros proyectos.  \n",
    "  \n",
    "**¿Pero para qué puede hacer?**  \n",
    "  \n",
    "En este lenguaje permite hacer como crear aplicaciones para Android de manera más rápida y eficiente; desarrollar las aplicaciones móviles, aplicaciones web, aplicaciones para Node.js, etc. Unos de ejemplos que hizo aplicaciones móviles en Kotlin será *GuessTheWord*, *ViewModel* y *LiveData*.  \n",
    "  \n",
    "Su característica principal es la simplificación la escritura de código, combina características de programación funcional y orientada a objetos; tiene una sintaxis más consisa que Java.  \n",
    "  \n",
    "(Explicación qué es LLVM)  \n",
    "LLVM (Low Level Virtual Machine) es una infraestructura de código abierto que permite compilar, optimizar y generar código máquina. Se compone de herramientas y bibliotecas que se pueden usar para desarrollar compiladores. "
   ]
  },
  {
   "cell_type": "markdown",
   "metadata": {},
   "source": [
    "---"
   ]
  },
  {
   "cell_type": "markdown",
   "metadata": {},
   "source": [
    "## **Referencias:**  \n",
    "Guimerá, A. (2021). Qué es Kotlin y características. Recuperado: https://openwebinars.net/blog/que-es-kotlin/  \n",
    "JERBRAINS. (2025). Basic Syntax. Recuperado: https://kotlinlang.org/docs/basic-syntax.html#type-checks-and-automatic-casts "
   ]
  }
 ],
 "metadata": {
  "language_info": {
   "name": "python"
  }
 },
 "nbformat": 4,
 "nbformat_minor": 2
}
