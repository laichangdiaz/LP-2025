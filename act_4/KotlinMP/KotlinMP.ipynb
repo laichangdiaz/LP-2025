{
 "cells": [
  {
   "cell_type": "markdown",
   "metadata": {},
   "source": [
    "# Principios Básicos en **Kotlin Multiplatform (KotlinMP)**\n"
   ]
  },
  {
   "cell_type": "markdown",
   "metadata": {},
   "source": [
    "<hr>"
   ]
  },
  {
   "cell_type": "markdown",
   "metadata": {},
   "source": [
    "### ¿Qué es Kotlin Multiplatform?"
   ]
  },
  {
   "cell_type": "markdown",
   "metadata": {},
   "source": [
    "Kotlin Multiplatform (KotlinMP) es una tecnología de JetBrains que permite compartir código entre diferentes plataformas, como Android, iOS, Web y Desktop. Kotlin es un lenguaje moderno, conciso y seguro que combina lo mejor de la programación orientada a objetos y funcional."
   ]
  },
  {
   "cell_type": "markdown",
   "metadata": {},
   "source": [
    "### Introducción a **KotlinMP**"
   ]
  },
  {
   "cell_type": "markdown",
   "metadata": {},
   "source": [
    "#### Hello World"
   ]
  },
  {
   "cell_type": "markdown",
   "metadata": {},
   "source": [
    "Para imprimir \"Hello World\" en Kotlin, usamos la función `println`."
   ]
  },
  {
   "cell_type": "code",
   "execution_count": null,
   "metadata": {
    "vscode": {
     "languageId": "plaintext"
    }
   },
   "outputs": [],
   "source": [
    "fun main() {\n",
    "    println(\"Hello World\") // Imprime texto en la consola\n",
    "}"
   ]
  },
  {
   "cell_type": "markdown",
   "metadata": {},
   "source": [
    "#### Variables"
   ]
  },
  {
   "cell_type": "markdown",
   "metadata": {},
   "source": [
    "En Kotlin, las variables se declaran con `var` (mutables) o `val` (inmutables)."
   ]
  },
  {
   "cell_type": "code",
   "execution_count": null,
   "metadata": {
    "vscode": {
     "languageId": "plaintext"
    }
   },
   "outputs": [],
   "source": [
    "var nombre = \"Ana López\"\n",
    "val edad = 25\n",
    "val id = \"12345678\""
   ]
  },
  {
   "cell_type": "markdown",
   "metadata": {},
   "source": [
    "#### Tipos de datos"
   ]
  },
  {
   "cell_type": "markdown",
   "metadata": {},
   "source": [
    "Kotlin tiene varios tipos de datos básicos, como:\n",
    "1. Números (**Int**, **Double**),\n",
    "2. Cadenas de texto (**String**),\n",
    "3. Booleanos (**Boolean**)."
   ]
  },
  {
   "cell_type": "markdown",
   "metadata": {},
   "source": [
    "#### Number"
   ]
  },
  {
   "cell_type": "markdown",
   "metadata": {},
   "source": [
    "Los números en Kotlin pueden ser enteros o decimales."
   ]
  },
  {
   "cell_type": "code",
   "execution_count": null,
   "metadata": {
    "vscode": {
     "languageId": "plaintext"
    }
   },
   "outputs": [],
   "source": [
    "val entero: Int = 42\n",
    "val decimal: Double = 3.14"
   ]
  },
  {
   "cell_type": "markdown",
   "metadata": {},
   "source": [
    "#### String"
   ]
  },
  {
   "cell_type": "markdown",
   "metadata": {},
   "source": [
    "Las cadenas de texto se utilizan para representar texto."
   ]
  },
  {
   "cell_type": "code",
   "execution_count": null,
   "metadata": {
    "vscode": {
     "languageId": "plaintext"
    }
   },
   "outputs": [],
   "source": [
    "val saludo: String = \"Hola, ¿cómo estás?\"\n",
    "println(saludo)"
   ]
  },
  {
   "cell_type": "markdown",
   "metadata": {},
   "source": [
    "#### Boolean"
   ]
  },
  {
   "cell_type": "markdown",
   "metadata": {},
   "source": [
    "Los booleanos representan valores verdaderos o falsos."
   ]
  },
  {
   "cell_type": "code",
   "execution_count": null,
   "metadata": {
    "vscode": {
     "languageId": "plaintext"
    }
   },
   "outputs": [],
   "source": [
    "val esVerdadero: Boolean = true\n",
    "val esFalso: Boolean = false\n",
    "println(esVerdadero) // true"
   ]
  },
  {
   "cell_type": "markdown",
   "metadata": {},
   "source": [
    "### Operadores en Kotlin"
   ]
  },
  {
   "cell_type": "markdown",
   "metadata": {},
   "source": [
    "#### Operadores Aritméticos"
   ]
  },
  {
   "cell_type": "markdown",
   "metadata": {},
   "source": [
    "Los operadores aritméticos permiten realizar operaciones básicas como suma, resta, multiplicación y división."
   ]
  },
  {
   "cell_type": "code",
   "execution_count": null,
   "metadata": {
    "vscode": {
     "languageId": "plaintext"
    }
   },
   "outputs": [],
   "source": [
    "val a = 10\n",
    "val b = 5\n",
    "println(a + b) // Suma: 15\n",
    "println(a - b) // Resta: 5\n",
    "println(a * b) // Multiplicación: 50\n",
    "println(a / b) // División: 2\n",
    "println(a % b) // Módulo: 0"
   ]
  },
  {
   "cell_type": "markdown",
   "metadata": {},
   "source": [
    "#### Operadores de Comparación"
   ]
  },
  {
   "cell_type": "markdown",
   "metadata": {},
   "source": [
    "Los operadores de comparación se utilizan para comparar valores."
   ]
  },
  {
   "cell_type": "code",
   "execution_count": null,
   "metadata": {
    "vscode": {
     "languageId": "plaintext"
    }
   },
   "outputs": [],
   "source": [
    "val x = 10\n",
    "val y = 20\n",
    "println(x == y) // Igual a: false\n",
    "println(x != y) // Diferente a: true\n",
    "println(x > y)  // Mayor que: false\n",
    "println(x < y)  // Menor que: true\n",
    "println(x >= y) // Mayor o igual que: false\n",
    "println(x <= y) // Menor o igual que: true"
   ]
  },
  {
   "cell_type": "markdown",
   "metadata": {},
   "source": [
    "#### Operadores Lógicos"
   ]
  },
  {
   "cell_type": "markdown",
   "metadata": {},
   "source": [
    "Los operadores lógicos se utilizan para combinar o invertir condiciones."
   ]
  },
  {
   "cell_type": "code",
   "execution_count": null,
   "metadata": {
    "vscode": {
     "languageId": "plaintext"
    }
   },
   "outputs": [],
   "source": [
    "val esMayorDeEdad = true\n",
    "val tieneLicencia = false\n",
    "println(esMayorDeEdad && tieneLicencia) // AND: false\n",
    "println(esMayorDeEdad || tieneLicencia) // OR: true\n",
    "println(!esMayorDeEdad) // NOT: false"
   ]
  },
  {
   "cell_type": "markdown",
   "metadata": {},
   "source": [
    "### Listas en **Kotlin**"
   ]
  },
  {
   "cell_type": "markdown",
   "metadata": {},
   "source": [
    "Las listas en Kotlin son colecciones ordenadas de elementos."
   ]
  },
  {
   "cell_type": "code",
   "execution_count": null,
   "metadata": {
    "vscode": {
     "languageId": "plaintext"
    }
   },
   "outputs": [],
   "source": [
    "val frutas = listOf(\"Manzana\", \"Banana\", \"Naranja\")\n",
    "println(frutas.size) // Tamaño de la lista: 3\n",
    "println(frutas[0]) // Primer elemento: Manzana"
   ]
  },
  {
   "cell_type": "markdown",
   "metadata": {},
   "source": [
    "### Condicionales en **Kotlin**"
   ]
  },
  {
   "cell_type": "markdown",
   "metadata": {},
   "source": [
    "#### if"
   ]
  },
  {
   "cell_type": "code",
   "execution_count": null,
   "metadata": {
    "vscode": {
     "languageId": "plaintext"
    }
   },
   "outputs": [],
   "source": [
    "val año = 2005\n",
    "if (año == 2005) {\n",
    "    println(\"Naciste en el año 2005\")\n",
    "}"
   ]
  },
  {
   "cell_type": "markdown",
   "metadata": {},
   "source": [
    "#### else if"
   ]
  },
  {
   "cell_type": "code",
   "execution_count": null,
   "metadata": {
    "vscode": {
     "languageId": "plaintext"
    }
   },
   "outputs": [],
   "source": [
    "val ventas = 340\n",
    "if (ventas <= 300) {\n",
    "    println(\"No cumplimos la meta\")\n",
    "} else if (ventas >= 300) {\n",
    "    println(\"¡Meta superada!\")\n",
    "}"
   ]
  },
  {
   "cell_type": "markdown",
   "metadata": {},
   "source": [
    "#### else"
   ]
  },
  {
   "cell_type": "code",
   "execution_count": null,
   "metadata": {
    "vscode": {
     "languageId": "plaintext"
    }
   },
   "outputs": [],
   "source": [
    "val edad = 20\n",
    "val nombre = \"Ana\"\n",
    "if (nombre == \"Carlos\" && edad == 15) {\n",
    "    println(\"Hola Carlos\")\n",
    "} else if (nombre == \"Mitchell\" || edad < 20) {\n",
    "    println(\"Hola Mitchell\")\n",
    "} else {\n",
    "    println(\"Hola Ana\")\n",
    "}"
   ]
  },
  {
   "cell_type": "markdown",
   "metadata": {},
   "source": [
    "### Bucles en **Kotlin**"
   ]
  },
  {
   "cell_type": "markdown",
   "metadata": {},
   "source": [
    "#### for"
   ]
  },
  {
   "cell_type": "code",
   "execution_count": null,
   "metadata": {
    "vscode": {
     "languageId": "plaintext"
    }
   },
   "outputs": [],
   "source": [
    "for (i in 1..5) {\n",
    "    println(\"Número: \$i\")\n",
    "}"
   ]
  },
  {
   "cell_type": "markdown",
   "metadata": {},
   "source": [
    "#### while"
   ]
  },
  {
   "cell_type": "code",
   "execution_count": null,
   "metadata": {
    "vscode": {
     "languageId": "plaintext"
    }
   },
   "outputs": [],
   "source": [
    "var contador = 0\n",
    "while (contador < 5) {\n",
    "    println(\"Contador: \$contador\")\n",
    "    contador++\n",
    "}"
   ]
  },
  {
   "cell_type": "markdown",
   "metadata": {},
   "source": [
    "#### do-while"
   ]
  },
  {
   "cell_type": "code",
   "execution_count": null,
   "metadata": {
    "vscode": {
     "languageId": "plaintext"
    }
   },
   "outputs": [],
   "source": [
    "var i = 0\n",
    "do {\n",
    "    println(\"Valor de i: \$i\")\n",
    "    i++\n",
    "} while (i < 3)"
   ]
  },
  {
   "cell_type": "markdown",
   "metadata": {},
   "source": [
    "### Funciones en **Kotlin**"
   ]
  },
  {
   "cell_type": "markdown",
   "metadata": {},
   "source": [
    "Las funciones en Kotlin se definen con la palabra clave `fun`."
   ]
  },
  {
   "cell_type": "code",
   "execution_count": null,
   "metadata": {
    "vscode": {
     "languageId": "plaintext"
    }
   },
   "outputs": [],
   "source": [
    "fun calcularFactorial(n: Int): Int {\n",
    "    return if (n == 0 || n == 1) 1 else n * calcularFactorial(n - 1)\n",
    "}\n",
    "\n",
    "val factorialDe5 = calcularFactorial(5)\n",
    "println(\"Factorial de 5: \$factorialDe5\") // 120"
   ]
  }
 ],
 "metadata": {
  "language_info": {
   "name": "kotlin"
  }
 },
 "nbformat": 4,
 "nbformat_minor": 2
}
