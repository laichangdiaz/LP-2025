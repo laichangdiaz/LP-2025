{
 "cells": [
  {
   "cell_type": "markdown",
   "metadata": {},
   "source": [
    "# Fundamentos de Programación en **Swift**\n"
   ]
  },
  {
   "cell_type": "markdown",
   "metadata": {},
   "source": [
    "<hr>"
   ]
  },
  {
   "cell_type": "markdown",
   "metadata": {},
   "source": [
    "### Introducción a **Swift**"
   ]
  },
  {
   "cell_type": "markdown",
   "metadata": {},
   "source": [
    "Swift es un lenguaje de programación desarrollado por Apple para crear aplicaciones en sus plataformas, como iOS, macOS, watchOS y tvOS. Fue presentado en 2014 y está diseñado para ser seguro, rápido y moderno. Swift combina características de lenguajes como Objective-C, Rust, Haskell y otros, ofreciendo una sintaxis clara y concisa que facilita la escritura y mantenimiento de código."
   ]
  },
  {
   "cell_type": "markdown",
   "metadata": {},
   "source": [
    "### Primeros Pasos en **Swift**"
   ]
  },
  {
   "cell_type": "markdown",
   "metadata": {},
   "source": [
    "#### Hola Mundo"
   ]
  },
  {
   "cell_type": "markdown",
   "metadata": {},
   "source": [
    "Para imprimir un \"Hola Mundo\" en Swift, simplemente usamos la función `print`."
   ]
  },
  {
   "cell_type": "code",
   "execution_count": null,
   "metadata": {
    "vscode": {
     "languageId": "plaintext"
    }
   },
   "outputs": [],
   "source": [
    "print(\"Hola Mundo\") // Imprime texto en la consola"
   ]
  },
  {
   "cell_type": "markdown",
   "metadata": {},
   "source": [
    "#### Declaración de Variables"
   ]
  },
  {
   "cell_type": "markdown",
   "metadata": {},
   "source": [
    "En Swift, las variables se declaran usando `var` para variables mutables y `let` para constantes."
   ]
  },
  {
   "cell_type": "code",
   "execution_count": null,
   "metadata": {
    "vscode": {
     "languageId": "plaintext"
    }
   },
   "outputs": [],
   "source": [
    "var nombre = \"Juan Pérez\"\n",
    "let edad = 25\n",
    "let identificacion = \"12345678\""
   ]
  },
  {
   "cell_type": "markdown",
   "metadata": {},
   "source": [
    "#### Tipos de Datos Básicos"
   ]
  },
  {
   "cell_type": "markdown",
   "metadata": {},
   "source": [
    "Swift tiene varios tipos de datos básicos, como:\n",
    "1. Números (**Int**, **Double**),\n",
    "2. Cadenas de texto (**String**),\n",
    "3. Booleanos (**Bool**)."
   ]
  },
  {
   "cell_type": "markdown",
   "metadata": {},
   "source": [
    "#### Números"
   ]
  },
  {
   "cell_type": "markdown",
   "metadata": {},
   "source": [
    "Los números en Swift pueden ser enteros o decimales."
   ]
  },
  {
   "cell_type": "code",
   "execution_count": null,
   "metadata": {
    "vscode": {
     "languageId": "plaintext"
    }
   },
   "outputs": [],
   "source": [
    "let entero: Int = 42 // Números enteros\n",
    "let decimal: Double = 3.14 // Números decimales"
   ]
  },
  {
   "cell_type": "markdown",
   "metadata": {},
   "source": [
    "#### Cadenas de Texto"
   ]
  },
  {
   "cell_type": "markdown",
   "metadata": {},
   "source": [
    "Las cadenas de texto se utilizan para representar texto."
   ]
  },
  {
   "cell_type": "code",
   "execution_count": null,
   "metadata": {
    "vscode": {
     "languageId": "plaintext"
    }
   },
   "outputs": [],
   "source": [
    "let saludo: String = \"¿Te gusta programar?\"\n",
    "print(saludo)"
   ]
  },
  {
   "cell_type": "markdown",
   "metadata": {},
   "source": [
    "#### Booleanos"
   ]
  },
  {
   "cell_type": "markdown",
   "metadata": {},
   "source": [
    "Los booleanos se utilizan para representar valores verdaderos o falsos."
   ]
  },
  {
   "cell_type": "code",
   "execution_count": null,
   "metadata": {
    "vscode": {
     "languageId": "plaintext"
    }
   },
   "outputs": [],
   "source": [
    "let esVerdadero: Bool = true\n",
    "let esFalso: Bool = false\n",
    "print(esVerdadero) // true"
   ]
  },
  {
   "cell_type": "markdown",
   "metadata": {},
   "source": [
    "### Operadores en Swift"
   ]
  },
  {
   "cell_type": "markdown",
   "metadata": {},
   "source": [
    "#### Operadores Aritméticos"
   ]
  },
  {
   "cell_type": "markdown",
   "metadata": {},
   "source": [
    "Los operadores aritméticos permiten realizar operaciones básicas como suma, resta, multiplicación y división."
   ]
  },
  {
   "cell_type": "code",
   "execution_count": null,
   "metadata": {
    "vscode": {
     "languageId": "plaintext"
    }
   },
   "outputs": [],
   "source": [
    "let a = 10\n",
    "let b = 5\n",
    "print(a + b) // Suma: 15\n",
    "print(a - b) // Resta: 5\n",
    "print(a * b) // Multiplicación: 50\n",
    "print(a / b) // División: 2\n",
    "print(a % b) // Módulo: 0"
   ]
  },
  {
   "cell_type": "markdown",
   "metadata": {},
   "source": [
    "#### Operadores de Asignación"
   ]
  },
  {
   "cell_type": "markdown",
   "metadata": {},
   "source": [
    "Swift no tiene operadores de incremento (`++`) o decremento (`--`) como en otros lenguajes, pero se puede usar `+=` y `-=`."
   ]
  },
  {
   "cell_type": "code",
   "execution_count": null,
   "metadata": {
    "vscode": {
     "languageId": "plaintext"
    }
   },
   "outputs": [],
   "source": [
    "var contador = 0\n",
    "contador += 1 // Incremento\n",
    "print(contador) // 1\n",
    "contador -= 1 // Decremento\n",
    "print(contador) // 0"
   ]
  },
  {
   "cell_type": "markdown",
   "metadata": {},
   "source": [
    "#### Operadores Lógicos"
   ]
  },
  {
   "cell_type": "markdown",
   "metadata": {},
   "source": [
    "Los operadores lógicos se utilizan para combinar o invertir condiciones."
   ]
  },
  {
   "cell_type": "code",
   "execution_count": null,
   "metadata": {
    "vscode": {
     "languageId": "plaintext"
    }
   },
   "outputs": [],
   "source": [
    "let edad = 25\n",
    "let nombre = \"Ana\"\n",
    "print(edad == 25) // true\n",
    "print(edad != 25) // false\n",
    "print(edad > 18 && nombre == \"Ana\") // AND: true\n",
    "print(edad < 18 || nombre == \"Ana\") // OR: true\n",
    "print(!(edad == 25)) // NOT: false"
   ]
  },
  {
   "cell_type": "markdown",
   "metadata": {},
   "source": [
    "### Importación de Librerías en **Swift**"
   ]
  },
  {
   "cell_type": "markdown",
   "metadata": {},
   "source": [
    "En Swift, se utiliza `import` para incluir frameworks o módulos."
   ]
  },
  {
   "cell_type": "code",
   "execution_count": null,
   "metadata": {
    "vscode": {
     "languageId": "plaintext"
    }
   },
   "outputs": [],
   "source": [
    "import Foundation\n",
    "import UIKit"
   ]
  },
  {
   "cell_type": "markdown",
   "metadata": {},
   "source": [
    "### Arreglos en **Swift**"
   ]
  },
  {
   "cell_type": "markdown",
   "metadata": {},
   "source": [
    "Los arreglos en Swift son colecciones ordenadas de elementos del mismo tipo."
   ]
  },
  {
   "cell_type": "code",
   "execution_count": null,
   "metadata": {
    "vscode": {
     "languageId": "plaintext"
    }
   },
   "outputs": [],
   "source": [
    "var frutas = [\"Manzana\", \"Banana\", \"Naranja\", \"Uva\"]\n",
    "print(frutas.count) // 4\n",
    "print(frutas[0]) // Manzana"
   ]
  },
  {
   "cell_type": "markdown",
   "metadata": {},
   "source": [
    "### Condicionales en **Swift**"
   ]
  },
  {
   "cell_type": "markdown",
   "metadata": {},
   "source": [
    "#### if"
   ]
  },
  {
   "cell_type": "code",
   "execution_count": null,
   "metadata": {
    "vscode": {
     "languageId": "plaintext"
    }
   },
   "outputs": [],
   "source": [
    "let año = 2000\n",
    "if año == 2000 {\n",
    "    print(\"Naciste en el año 2000\")\n",
    "}"
   ]
  },
  {
   "cell_type": "markdown",
   "metadata": {},
   "source": [
    "#### else if"
   ]
  },
  {
   "cell_type": "code",
   "execution_count": null,
   "metadata": {
    "vscode": {
     "languageId": "plaintext"
    }
   },
   "outputs": [],
   "source": [
    "let ventas = 500\n",
    "if ventas <= 300 {\n",
    "    print(\"No alcanzamos la meta\")\n",
    "} else if ventas >= 300 {\n",
    "    print(\"¡Meta superada!\")\n",
    "}"
   ]
  },
  {
   "cell_type": "markdown",
   "metadata": {},
   "source": [
    "#### else"
   ]
  },
  {
   "cell_type": "code",
   "execution_count": null,
   "metadata": {
    "vscode": {
     "languageId": "plaintext"
    }
   },
   "outputs": [],
   "source": [
    "let edad = 30\n",
    "let nombre = \"Luis\"\n",
    "if nombre == \"Carlos\" && edad == 25 {\n",
    "    print(\"Hola Carlos\")\n",
    "} else if nombre == \"Ana\" || edad < 20 {\n",
    "    print(\"Hola Ana\")\n",
    "} else {\n",
    "    print(\"Hola Luis\")\n",
    "}"
   ]
  },
  {
   "cell_type": "markdown",
   "metadata": {},
   "source": [
    "### Bucles en **Swift**"
   ]
  },
  {
   "cell_type": "markdown",
   "metadata": {},
   "source": [
    "#### for"
   ]
  },
  {
   "cell_type": "code",
   "execution_count": null,
   "metadata": {
    "vscode": {
     "languageId": "plaintext"
    }
   },
   "outputs": [],
   "source": [
    "for i in 1...5 {\n",
    "    print(i)\n",
    "}"
   ]
  },
  {
   "cell_type": "markdown",
   "metadata": {},
   "source": [
    "#### while"
   ]
  },
  {
   "cell_type": "code",
   "execution_count": null,
   "metadata": {
    "vscode": {
     "languageId": "plaintext"
    }
   },
   "outputs": [],
   "source": [
    "var año = 2020\n",
    "while año < 2023 {\n",
    "    if año == 2022 {\n",
    "        break\n",
    "    }\n",
    "    año += 1\n",
    "    print(\"El año es \\(año)\")\n",
    "}"
   ]
  },
  {
   "cell_type": "markdown",
   "metadata": {},
   "source": [
    "#### repeat-while"
   ]
  },
  {
   "cell_type": "code",
   "execution_count": null,
   "metadata": {
    "vscode": {
     "languageId": "plaintext"
    }
   },
   "outputs": [],
   "source": [
    "var i = 0\n",
    "repeat {\n",
    "    i += 1\n",
    "    if i == 3 {\n",
    "        continue\n",
    "    }\n",
    "    print(i)\n",
    "} while i < 5"
   ]
  },
  {
   "cell_type": "markdown",
   "metadata": {},
   "source": [
    "### Funciones en **Swift**"
   ]
  },
  {
   "cell_type": "markdown",
   "metadata": {},
   "source": [
    "Las funciones en Swift se definen con la palabra clave `func`."
   ]
  },
  {
   "cell_type": "code",
   "execution_count": null,
   "metadata": {
    "vscode": {
     "languageId": "plaintext"
    }
   },
   "outputs": [],
   "source": [
    "func factorial(_ n: Int) -> Int {\n",
    "    if n == 0 || n == 1 {\n",
    "        return 1\n",
    "    }\n",
    "    return n * factorial(n - 1)\n",
    "}\n",
    "\n",
    "let resultado = factorial(5)\n",
    "print(resultado) // 120"
   ]
  }
 ],
 "metadata": {
  "language_info": {
   "name": "swift"
  }
 },
 "nbformat": 4,
 "nbformat_minor": 2
}
