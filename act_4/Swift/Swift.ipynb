{
 "cells": [
  {
   "cell_type": "markdown",
   "metadata": {},
   "source": [
    "# Principios Básicos en **Swift**\n"
   ]
  },
  {
   "cell_type": "markdown",
   "metadata": {},
   "source": [
    "<hr>"
   ]
  },
  {
   "cell_type": "markdown",
   "metadata": {},
   "source": [
    "### ¿Qué es Swift?"
   ]
  },
  {
   "cell_type": "markdown",
   "metadata": {},
   "source": [
    "Swift es un lenguaje de programación desarrollado por Apple para crear aplicaciones en sus plataformas, como iOS, macOS, watchOS y tvOS. Fue presentado en 2014 y está diseñado para ser seguro, rápido y moderno. Swift combina características de lenguajes como Objective-C, Rust, Haskell y otros, ofreciendo una sintaxis clara y concisa que facilita la escritura y mantenimiento de código."
   ]
  },
  {
   "cell_type": "markdown",
   "metadata": {},
   "source": [
    "### Introducción a **Swift**"
   ]
  },
  {
   "cell_type": "markdown",
   "metadata": {},
   "source": [
    "#### Hello World"
   ]
  },
  {
   "cell_type": "markdown",
   "metadata": {},
   "source": [
    "Para colocar un \"Hello World\" en Swift, simplemente usamos la función `print`."
   ]
  },
  {
   "cell_type": "code",
   "execution_count": null,
   "metadata": {
    "vscode": {
     "languageId": "plaintext"
    }
   },
   "outputs": [],
   "source": [
    "print(\"Hello World\") // Imprime texto en la consola"
   ]
  },
  {
   "cell_type": "markdown",
   "metadata": {},
   "source": [
    "#### Variables"
   ]
  },
  {
   "cell_type": "markdown",
   "metadata": {},
   "source": [
    "En Swift, las variables se declaran usando `var` para variables mutables y `let` para constantes."
   ]
  },
  {
   "cell_type": "code",
   "execution_count": null,
   "metadata": {
    "vscode": {
     "languageId": "plaintext"
    }
   },
   "outputs": [],
   "source": [
    "var nombre = \"Jose Santana\"\n",
    "let edad = 20\n",
    "let cedula = \"31608829\""
   ]
  },
  {
   "cell_type": "markdown",
   "metadata": {},
   "source": [
    "#### Tipos de datos"
   ]
  },
  {
   "cell_type": "markdown",
   "metadata": {},
   "source": [
    "Swift tiene varios tipos de datos básicos, como:\n",
    "1. Números (**Int**, **Double**),\n",
    "2. Cadenas de texto (**String**),\n",
    "3. Booleanos (**Bool**)."
   ]
  },
  {
   "cell_type": "markdown",
   "metadata": {},
   "source": [
    "#### Number"
   ]
  },
  {
   "cell_type": "markdown",
   "metadata": {},
   "source": [
    "Los números en Swift pueden ser enteros o decimales."
   ]
  },
  {
   "cell_type": "code",
   "execution_count": null,
   "metadata": {
    "vscode": {
     "languageId": "plaintext"
    }
   },
   "outputs": [],
   "source": [
    "let num1: Int = 20 // Números enteros\n",
    "let num2: Double = 2.5 // Números decimales"
   ]
  },
  {
   "cell_type": "markdown",
   "metadata": {},
   "source": [
    "#### String"
   ]
  },
  {
   "cell_type": "markdown",
   "metadata": {},
   "source": [
    "Las cadenas de texto se utilizan para representar texto."
   ]
  },
  {
   "cell_type": "code",
   "execution_count": null,
   "metadata": {
    "vscode": {
     "languageId": "plaintext"
    }
   },
   "outputs": [],
   "source": [
    "let pregunta: String = \"¿Te gusta el rock?\"\n",
    "print(pregunta)"
   ]
  },
  {
   "cell_type": "markdown",
   "metadata": {},
   "source": [
    "#### Booleans"
   ]
  },
  {
   "cell_type": "markdown",
   "metadata": {},
   "source": [
    "Los booleanos se utilizan para representar valores verdaderos o falsos."
   ]
  },
  {
   "cell_type": "code",
   "execution_count": null,
   "metadata": {
    "vscode": {
     "languageId": "plaintext"
    }
   },
   "outputs": [],
   "source": [
    "let esVerdadero: Bool = true\n",
    "let esFalso: Bool = false\n",
    "print(esVerdadero) // true"
   ]
  },
  {
   "cell_type": "markdown",
   "metadata": {},
   "source": [
    "### Operadores en Swift"
   ]
  },
  {
   "cell_type": "markdown",
   "metadata": {},
   "source": [
    "#### Operadores Aritméticos"
   ]
  },
  {
   "cell_type": "markdown",
   "metadata": {},
   "source": [
    "Los operadores aritméticos permiten realizar operaciones básicas como suma, resta, multiplicación y división."
   ]
  },
  {
   "cell_type": "code",
   "execution_count": null,
   "metadata": {
    "vscode": {
     "languageId": "plaintext"
    }
   },
   "outputs": [],
   "source": [
    "let num1 = 35\n",
    "let num2 = 67\n",
    "print(num1 + num2) // Suma: 102\n",
    "print(num1 - num2) // Resta: -32\n",
    "print(num1 * num2) // Multiplicación: 2345\n",
    "print(num1 / num2) // División: 0.52\n",
    "print(num1 % num2) // Módulo: 35"
   ]
  },
  {
   "cell_type": "markdown",
   "metadata": {},
   "source": [
    "#### Operadores de incremento y decremento"
   ]
  },
  {
   "cell_type": "markdown",
   "metadata": {},
   "source": [
    "Swift no tiene operadores de incremento (`++`) o decremento (`--`) como en otros lenguajes, pero se puede usar `+=` y `-=`."
   ]
  },
  {
   "cell_type": "code",
   "execution_count": null,
   "metadata": {
    "vscode": {
     "languageId": "plaintext"
    }
   },
   "outputs": [],
   "source": [
    "var a = 0\n",
    "a += 1 // Incremento\n",
    "print(a) // 1\n",
    "a -= 1 // Decremento\n",
    "print(a) // 0"
   ]
  },
  {
   "cell_type": "markdown",
   "metadata": {},
   "source": [
    "#### Operadores Lógicos"
   ]
  },
  {
   "cell_type": "markdown",
   "metadata": {},
   "source": [
    "Los operadores lógicos se utilizan para combinar o invertir condiciones."
   ]
  },
  {
   "cell_type": "code",
   "execution_count": null,
   "metadata": {
    "vscode": {
     "languageId": "plaintext"
    }
   },
   "outputs": [],
   "source": [
    "let edad = 20\n",
    "let nombre = \"Jose\"\n",
    "print(edad == 20) // true\n",
    "print(edad != 20) // false\n",
    "print(edad > 18 && nombre == \"Jose\") // AND: true\n",
    "print(edad < 18 || nombre == \"Jose\") // OR: true\n",
    "print(!(edad == 20)) // NOT: false"
   ]
  },
  {
   "cell_type": "markdown",
   "metadata": {},
   "source": [
    "### Cómo importar librerías en **Swift**"
   ]
  },
  {
   "cell_type": "markdown",
   "metadata": {},
   "source": [
    "En Swift, se utiliza `import` para incluir frameworks o módulos."
   ]
  },
  {
   "cell_type": "code",
   "execution_count": null,
   "metadata": {
    "vscode": {
     "languageId": "plaintext"
    }
   },
   "outputs": [],
   "source": [
    "import Foundation\n",
    "import UIKit"
   ]
  },
  {
   "cell_type": "markdown",
   "metadata": {},
   "source": [
    "### Arreglos en **Swift**"
   ]
  },
  {
   "cell_type": "markdown",
   "metadata": {},
   "source": [
    "Los arreglos en Swift son colecciones ordenadas de elementos del mismo tipo."
   ]
  },
  {
   "cell_type": "code",
   "execution_count": null,
   "metadata": {
    "vscode": {
     "languageId": "plaintext"
    }
   },
   "outputs": [],
   "source": [
    "var carros = [\"Mustang\", \"Ford\", \"Ferrari\", \"Turpial\"]\n",
    "print(carros.count) // 4\n",
    "print(carros[0]) // Mustang"
   ]
  },
  {
   "cell_type": "markdown",
   "metadata": {},
   "source": [
    "### Condicionales en **Swift**"
   ]
  },
  {
   "cell_type": "markdown",
   "metadata": {},
   "source": [
    "#### if"
   ]
  },
  {
   "cell_type": "code",
   "execution_count": null,
   "metadata": {
    "vscode": {
     "languageId": "plaintext"
    }
   },
   "outputs": [],
   "source": [
    "let año = 2005\n",
    "if año == 2005 {\n",
    "    print(\"Naciste en el año 2005\")\n",
    "}"
   ]
  },
  {
   "cell_type": "markdown",
   "metadata": {},
   "source": [
    "#### else if"
   ]
  },
  {
   "cell_type": "code",
   "execution_count": null,
   "metadata": {
    "vscode": {
     "languageId": "plaintext"
    }
   },
   "outputs": [],
   "source": [
    "let numeroEgresos = 340\n",
    "if numeroEgresos <= 300 {\n",
    "    print(\"No generamos lo que esperábamos\")\n",
    "} else if numeroEgresos >= 300 {\n",
    "    print(\"El aplausoooo\")\n",
    "}"
   ]
  },
  {
   "cell_type": "markdown",
   "metadata": {},
   "source": [
    "#### else"
   ]
  },
  {
   "cell_type": "code",
   "execution_count": null,
   "metadata": {
    "vscode": {
     "languageId": "plaintext"
    }
   },
   "outputs": [],
   "source": [
    "let edad = 20\n",
    "let nombre = \"Jose\"\n",
    "if nombre == \"Carlos\" && edad == 15 {\n",
    "    print(\"Hola Carlos\")\n",
    "} else if nombre == \"Mitchell\" || edad < 20 {\n",
    "    print(\"Hola Mitchell\")\n",
    "} else {\n",
    "    print(\"Hola Jose\")\n",
    "}"
   ]
  },
  {
   "cell_type": "markdown",
   "metadata": {},
   "source": [
    "### Bucles en **Swift**"
   ]
  },
  {
   "cell_type": "markdown",
   "metadata": {},
   "source": [
    "#### for"
   ]
  },
  {
   "cell_type": "code",
   "execution_count": null,
   "metadata": {
    "vscode": {
     "languageId": "plaintext"
    }
   },
   "outputs": [],
   "source": [
    "for i in 0..<10 {\n",
    "    print(i)\n",
    "}"
   ]
  },
  {
   "cell_type": "markdown",
   "metadata": {},
   "source": [
    "#### while"
   ]
  },
  {
   "cell_type": "code",
   "execution_count": null,
   "metadata": {
    "vscode": {
     "languageId": "plaintext"
    }
   },
   "outputs": [],
   "source": [
    "var year = 2000\n",
    "while year < 2025 {\n",
    "    if year == 2013 {\n",
    "        break\n",
    "    }\n",
    "    year += 1\n",
    "    print(\"El año es \\(year)\")\n",
    "}"
   ]
  },
  {
   "cell_type": "markdown",
   "metadata": {},
   "source": [
    "#### repeat-while"
   ]
  },
  {
   "cell_type": "code",
   "execution_count": null,
   "metadata": {
    "vscode": {
     "languageId": "plaintext"
    }
   },
   "outputs": [],
   "source": [
    "var i = 0\n",
    "repeat {\n",
    "    i += 1\n",
    "    if i == 5 {\n",
    "        continue\n",
    "    }\n",
    "    print(i)\n",
    "} while i < 10"
   ]
  },
  {
   "cell_type": "markdown",
   "metadata": {},
   "source": [
    "### Funciones en **Swift**"
   ]
  },
  {
   "cell_type": "markdown",
   "metadata": {},
   "source": [
    "Las funciones en Swift se definen con la palabra clave `func`."
   ]
  },
  {
   "cell_type": "code",
   "execution_count": null,
   "metadata": {
    "vscode": {
     "languageId": "plaintext"
    }
   },
   "outputs": [],
   "source": [
    "func fibonacci(_ n: Int) -> Int {\n",
    "    if n == 0 || n == 1 {\n",
    "        return n\n",
    "    }\n",
    "    return fibonacci(n - 1) + fibonacci(n - 2)\n",
    "}\n",
    "\n",
    "let result = fibonacci(20)\n",
    "print(result)"
   ]
  }
 ],
 "metadata": {
  "language_info": {
   "name": "swift"
  }
 },
 "nbformat": 4,
 "nbformat_minor": 2
}
